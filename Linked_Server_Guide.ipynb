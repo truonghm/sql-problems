{
    "metadata": {
        "kernelspec": {
            "name": "SQL",
            "display_name": "SQL",
            "language": "sql"
        },
        "language_info": {
            "name": "sql",
            "version": ""
        }
    },
    "nbformat_minor": 2,
    "nbformat": 4,
    "cells": [
        {
            "cell_type": "markdown",
            "source": [
                "# Hướng dẫn sử dụng Linked Server từ SQL Server sang Oracle\n",
                "\n",
                "_Lưu ý: Notebook này có thể tải về và mở trong Azure Data Studio để chạy các câu query._\n",
                "\n",
                "## 1. Một số thuật ngữ & thông tin cơ bản\n",
                "\n",
                "1. SQL Server (tên đầy đủ là Microsoft SQL Server), là một hệ thống quản trị cơ sở dữ liệu (relational database management system - RDBMS) phát triển bởi Microsoft.\n",
                "    \n",
                "2. Oracle cũng là một RDBMS khác được phát triển bởi Oracle.\n",
                "    \n",
                "3. SQL là ngôn ngữ truy vấn dữ liệu, được sử dụng để truy vấn và quản trị dữ liệu lưu trữ trên các RDBMS. cả SQL Server và Oracle đều sử dụng SQL, tuy nhiên mỗi hệ thống có một \"phiên bản\" SQL riêng: SQL Server sử dụng T-SQL và Oracle sử dụng PL/SQL.\n",
                "    \n",
                "4. **SQL Server Management Studio** là ứng dụng để tương tác với SQL Server. **SQL Developer** là ứng dụng để tương tác với Oracle.\n",
                "    \n",
                "\n",
                "## 2. Giới thiệu về Linked Server\n",
                "\n",
                "### 2.1. Thông tin cơ bản\n",
                "\n",
                "**Linked Server** sang Oracle được tạo trên máy chủ **172.17.103.40** với thông tin như sau:\n",
                "\n",
                "- Tên Linked Server: ORASRV\n",
                "- Data source: 172.17.101.148/MOMPDB\n",
                "- Username: RISK\\_USER\n",
                "- Password: sXG9O950WGMKShfr\n",
                "\n",
                "### 2.2. Các cách truy vấn dữ liệu từ Linked Server\n",
                "\n",
                "#### 2.2.1. Truy vấn trực tiếp\n",
                "\n",
                "Dữ liệu từ Oracle có thể truy vấn trực tiếp thông qua Linked Server theo cú pháp như sau:"
            ],
            "metadata": {
                "azdata_cell_guid": "ffc6c19e-0a59-4361-8e43-01a619feff06"
            }
        },
        {
            "cell_type": "code",
            "source": [
                "select top 10 * from ORASRV..IT_USER.STG_T24_SAOKE_DEBT_COLLECTION"
            ],
            "metadata": {
                "azdata_cell_guid": "55fd3d5d-5c0c-4bd0-aacd-262cbbf549cc"
            },
            "outputs": [
                {
                    "output_type": "display_data",
                    "data": {
                        "text/html": "(10 rows affected)"
                    },
                    "metadata": {}
                },
                {
                    "output_type": "display_data",
                    "data": {
                        "text/html": "Total execution time: 00:00:03.226"
                    },
                    "metadata": {}
                },
                {
                    "output_type": "execute_result",
                    "execution_count": 1,
                    "data": {
                        "application/vnd.dataresource+json": {
                            "schema": {
                                "fields": [
                                    {
                                        "name": "COB_DT"
                                    },
                                    {
                                        "name": "UPD_BY"
                                    },
                                    {
                                        "name": "UPD_TIME"
                                    },
                                    {
                                        "name": "RUN_DATE"
                                    },
                                    {
                                        "name": "Y_SEL_DATE"
                                    },
                                    {
                                        "name": "Y_CONTRACT_REF"
                                    },
                                    {
                                        "name": "LD_ID"
                                    },
                                    {
                                        "name": "CUS_ID"
                                    },
                                    {
                                        "name": "YID_AC"
                                    },
                                    {
                                        "name": "YWK_BAL"
                                    },
                                    {
                                        "name": "Y_SONGAY_QH"
                                    },
                                    {
                                        "name": "Y_SONGAY_QH_T1"
                                    },
                                    {
                                        "name": "Y_SONGAY_QH_T2"
                                    },
                                    {
                                        "name": "Y_SONGAY_QH_T3"
                                    },
                                    {
                                        "name": "Y_SONGAY_QH_T4"
                                    },
                                    {
                                        "name": "Y_SONGAY_QH_T5"
                                    },
                                    {
                                        "name": "Y_KYHAN"
                                    },
                                    {
                                        "name": "Y_KYTRANO"
                                    },
                                    {
                                        "name": "Y_DATE_NEXT"
                                    },
                                    {
                                        "name": "Y_PR_NEXT"
                                    },
                                    {
                                        "name": "Y_IN_NEXT"
                                    },
                                    {
                                        "name": "Y_QH_PR"
                                    },
                                    {
                                        "name": "Y_QH_IN"
                                    },
                                    {
                                        "name": "Y_QH_PE"
                                    },
                                    {
                                        "name": "YAMT_PE_T1"
                                    },
                                    {
                                        "name": "YAMT_PE_T2"
                                    },
                                    {
                                        "name": "YAMT_PE_T3"
                                    },
                                    {
                                        "name": "YAMT_PE_T4"
                                    },
                                    {
                                        "name": "YAMT_PE_T5"
                                    },
                                    {
                                        "name": "Y_QH_PS"
                                    },
                                    {
                                        "name": "YAMT_PS_T1"
                                    },
                                    {
                                        "name": "YAMT_PS_T2"
                                    },
                                    {
                                        "name": "YAMT_PS_T3"
                                    },
                                    {
                                        "name": "YAMT_PS_T4"
                                    },
                                    {
                                        "name": "YAMT_PS_T5"
                                    },
                                    {
                                        "name": "Y_TOTAL_PE"
                                    },
                                    {
                                        "name": "YTOTAL_PE_PS_T1"
                                    },
                                    {
                                        "name": "YTOTAL_PE_PS_T2"
                                    },
                                    {
                                        "name": "YTOTAL_PE_PS_T3"
                                    },
                                    {
                                        "name": "YTOTAL_PE_PS_T4"
                                    },
                                    {
                                        "name": "YTOTAL_PE_PS_T5"
                                    },
                                    {
                                        "name": "YTOTAL_AMT_LD"
                                    },
                                    {
                                        "name": "YTOTAL_AMT_LD_AC"
                                    },
                                    {
                                        "name": "Y_TOTAL_QH"
                                    },
                                    {
                                        "name": "Y_TOTAL_QH_AC"
                                    },
                                    {
                                        "name": "Y_TOTAL_QH_AC_T1"
                                    },
                                    {
                                        "name": "Y_TOTAL_QH_AC_T2"
                                    },
                                    {
                                        "name": "Y_TOTAL_QH_AC_T3"
                                    },
                                    {
                                        "name": "Y_TOTAL_QH_AC_T4"
                                    },
                                    {
                                        "name": "Y_TOTAL_QH_AC_T5"
                                    },
                                    {
                                        "name": "Y_TOTAL_REPAY"
                                    },
                                    {
                                        "name": "Y_TOTAL_REPAY_T1"
                                    },
                                    {
                                        "name": "Y_TOTAL_REPAY_T2"
                                    },
                                    {
                                        "name": "Y_TOTAL_REPAY_T3"
                                    },
                                    {
                                        "name": "Y_TOTAL_REPAY_T4"
                                    },
                                    {
                                        "name": "Y_TOTAL_REPAY_T5"
                                    },
                                    {
                                        "name": "Y_TOTAL_REPAY_AC"
                                    },
                                    {
                                        "name": "Y_TOTAL_REPAY_AC_T1"
                                    },
                                    {
                                        "name": "Y_TOTAL_REPAY_AC_T2"
                                    },
                                    {
                                        "name": "Y_TOTAL_REPAY_AC_T3"
                                    },
                                    {
                                        "name": "Y_TOTAL_REPAY_AC_T4"
                                    },
                                    {
                                        "name": "Y_TOTAL_REPAY_AC_T5"
                                    },
                                    {
                                        "name": "Y_DUNO_CL"
                                    },
                                    {
                                        "name": "CUS_NAME"
                                    },
                                    {
                                        "name": "Y_EARLY_RPY"
                                    },
                                    {
                                        "name": "Y_EARLY_RPY_DATE"
                                    },
                                    {
                                        "name": "YWK_BAL_43"
                                    },
                                    {
                                        "name": "Y_CATEGORY"
                                    },
                                    {
                                        "name": "PRODUCT_TYPE"
                                    },
                                    {
                                        "name": "Y_SUB_NAME"
                                    },
                                    {
                                        "name": "Y_DRAWDOWN_NET_AMT"
                                    },
                                    {
                                        "name": "Y_RFD_AMT"
                                    }
                                ]
                            },
                            "data": [
                                {
                                    "0": "2017-10-04 00:00:00.0000000",
                                    "1": "JOB_STG_T24_SAOKE_DEBT_COLLECTION_D01",
                                    "2": "2019-01-15 14:34:46.0000000",
                                    "3": "2017-10-04 00:00:00.0000000",
                                    "4": "2017-10-04 00:00:00.0000000",
                                    "5": "1000117090039557",
                                    "6": "LD1726410507",
                                    "7": "8039183",
                                    "8": "14227760002",
                                    "9": "NULL",
                                    "10": "NULL",
                                    "11": "NULL",
                                    "12": "NULL",
                                    "13": "NULL",
                                    "14": "NULL",
                                    "15": "NULL",
                                    "16": "36",
                                    "17": "1",
                                    "18": "2017-10-10 00:00:00.0000000",
                                    "19": "562830",
                                    "20": "1053555",
                                    "21": "NULL",
                                    "22": "NULL",
                                    "23": "NULL",
                                    "24": "NULL",
                                    "25": "NULL",
                                    "26": "NULL",
                                    "27": "NULL",
                                    "28": "NULL",
                                    "29": "NULL",
                                    "30": "NULL",
                                    "31": "NULL",
                                    "32": "NULL",
                                    "33": "NULL",
                                    "34": "NULL",
                                    "35": "NULL",
                                    "36": "NULL",
                                    "37": "NULL",
                                    "38": "NULL",
                                    "39": "NULL",
                                    "40": "NULL",
                                    "41": "1628385",
                                    "42": "1628385",
                                    "43": "NULL",
                                    "44": "NULL",
                                    "45": "NULL",
                                    "46": "NULL",
                                    "47": "NULL",
                                    "48": "NULL",
                                    "49": "NULL",
                                    "50": "1628385",
                                    "51": "1628385",
                                    "52": "1628385",
                                    "53": "1628385",
                                    "54": "1628385",
                                    "55": "1628385",
                                    "56": "1628385",
                                    "57": "1628385",
                                    "58": "1628385",
                                    "59": "1628385",
                                    "60": "1628385",
                                    "61": "1628385",
                                    "62": "31650000",
                                    "63": "VO THI TUYET MAI",
                                    "64": "NULL",
                                    "65": "NULL",
                                    "66": "NULL",
                                    "67": "NULL",
                                    "68": "NULL",
                                    "69": "NULL",
                                    "70": "NULL",
                                    "71": "NULL"
                                },
                                {
                                    "0": "2017-10-04 00:00:00.0000000",
                                    "1": "JOB_STG_T24_SAOKE_DEBT_COLLECTION_D01",
                                    "2": "2019-01-15 14:34:46.0000000",
                                    "3": "2017-10-04 00:00:00.0000000",
                                    "4": "2017-10-04 00:00:00.0000000",
                                    "5": "1000117090039573",
                                    "6": "LD1726454485",
                                    "7": "8005837",
                                    "8": "14225333007",
                                    "9": "NULL",
                                    "10": "NULL",
                                    "11": "NULL",
                                    "12": "NULL",
                                    "13": "NULL",
                                    "14": "NULL",
                                    "15": "NULL",
                                    "16": "24",
                                    "17": "1",
                                    "18": "2017-10-10 00:00:00.0000000",
                                    "19": "860569",
                                    "20": "682860",
                                    "21": "NULL",
                                    "22": "NULL",
                                    "23": "NULL",
                                    "24": "NULL",
                                    "25": "NULL",
                                    "26": "NULL",
                                    "27": "NULL",
                                    "28": "NULL",
                                    "29": "NULL",
                                    "30": "NULL",
                                    "31": "NULL",
                                    "32": "NULL",
                                    "33": "NULL",
                                    "34": "NULL",
                                    "35": "NULL",
                                    "36": "NULL",
                                    "37": "NULL",
                                    "38": "NULL",
                                    "39": "NULL",
                                    "40": "NULL",
                                    "41": "1555429",
                                    "42": "1555429",
                                    "43": "NULL",
                                    "44": "NULL",
                                    "45": "NULL",
                                    "46": "NULL",
                                    "47": "NULL",
                                    "48": "NULL",
                                    "49": "NULL",
                                    "50": "1555429",
                                    "51": "1555429",
                                    "52": "1555429",
                                    "53": "1555429",
                                    "54": "1555429",
                                    "55": "1555429",
                                    "56": "1555429",
                                    "57": "1555429",
                                    "58": "1555429",
                                    "59": "1555429",
                                    "60": "1555429",
                                    "61": "1555429",
                                    "62": "26375000",
                                    "63": "NGUYEN THI HOI",
                                    "64": "NULL",
                                    "65": "NULL",
                                    "66": "NULL",
                                    "67": "NULL",
                                    "68": "NULL",
                                    "69": "NULL",
                                    "70": "NULL",
                                    "71": "NULL"
                                },
                                {
                                    "0": "2017-10-04 00:00:00.0000000",
                                    "1": "JOB_STG_T24_SAOKE_DEBT_COLLECTION_D01",
                                    "2": "2019-01-15 14:34:46.0000000",
                                    "3": "2017-10-04 00:00:00.0000000",
                                    "4": "2017-10-04 00:00:00.0000000",
                                    "5": "1000117090039590",
                                    "6": "LD1726460085",
                                    "7": "8032733",
                                    "8": "14238211008",
                                    "9": "1853000",
                                    "10": "NULL",
                                    "11": "NULL",
                                    "12": "NULL",
                                    "13": "NULL",
                                    "14": "NULL",
                                    "15": "NULL",
                                    "16": "24",
                                    "17": "1",
                                    "18": "2017-10-10 00:00:00.0000000",
                                    "19": "1032682",
                                    "20": "819432",
                                    "21": "NULL",
                                    "22": "NULL",
                                    "23": "NULL",
                                    "24": "NULL",
                                    "25": "NULL",
                                    "26": "NULL",
                                    "27": "NULL",
                                    "28": "NULL",
                                    "29": "NULL",
                                    "30": "NULL",
                                    "31": "NULL",
                                    "32": "NULL",
                                    "33": "NULL",
                                    "34": "NULL",
                                    "35": "NULL",
                                    "36": "NULL",
                                    "37": "NULL",
                                    "38": "NULL",
                                    "39": "NULL",
                                    "40": "NULL",
                                    "41": "1864114",
                                    "42": "11114",
                                    "43": "NULL",
                                    "44": "NULL",
                                    "45": "NULL",
                                    "46": "NULL",
                                    "47": "NULL",
                                    "48": "NULL",
                                    "49": "NULL",
                                    "50": "1864114",
                                    "51": "1864114",
                                    "52": "1864114",
                                    "53": "1864114",
                                    "54": "1864114",
                                    "55": "1864114",
                                    "56": "11114",
                                    "57": "11114",
                                    "58": "11114",
                                    "59": "11114",
                                    "60": "11114",
                                    "61": "11114",
                                    "62": "31650000",
                                    "63": "LE VAN PHAN",
                                    "64": "NULL",
                                    "65": "NULL",
                                    "66": "NULL",
                                    "67": "NULL",
                                    "68": "NULL",
                                    "69": "NULL",
                                    "70": "NULL",
                                    "71": "NULL"
                                },
                                {
                                    "0": "2017-10-04 00:00:00.0000000",
                                    "1": "JOB_STG_T24_SAOKE_DEBT_COLLECTION_D01",
                                    "2": "2019-01-15 14:34:46.0000000",
                                    "3": "2017-10-04 00:00:00.0000000",
                                    "4": "2017-10-04 00:00:00.0000000",
                                    "5": "1000117090039611",
                                    "6": "LD1726488132",
                                    "7": "8039134",
                                    "8": "14224816007",
                                    "9": "NULL",
                                    "10": "NULL",
                                    "11": "NULL",
                                    "12": "NULL",
                                    "13": "NULL",
                                    "14": "NULL",
                                    "15": "NULL",
                                    "16": "36",
                                    "17": "1",
                                    "18": "2017-10-10 00:00:00.0000000",
                                    "19": "428425",
                                    "20": "526055",
                                    "21": "NULL",
                                    "22": "NULL",
                                    "23": "NULL",
                                    "24": "NULL",
                                    "25": "NULL",
                                    "26": "NULL",
                                    "27": "NULL",
                                    "28": "NULL",
                                    "29": "NULL",
                                    "30": "NULL",
                                    "31": "NULL",
                                    "32": "NULL",
                                    "33": "NULL",
                                    "34": "NULL",
                                    "35": "NULL",
                                    "36": "NULL",
                                    "37": "NULL",
                                    "38": "NULL",
                                    "39": "NULL",
                                    "40": "NULL",
                                    "41": "966480",
                                    "42": "966480",
                                    "43": "NULL",
                                    "44": "NULL",
                                    "45": "NULL",
                                    "46": "NULL",
                                    "47": "NULL",
                                    "48": "NULL",
                                    "49": "NULL",
                                    "50": "966480",
                                    "51": "966480",
                                    "52": "966480",
                                    "53": "966480",
                                    "54": "966480",
                                    "55": "966480",
                                    "56": "966480",
                                    "57": "966480",
                                    "58": "966480",
                                    "59": "966480",
                                    "60": "966480",
                                    "61": "966480",
                                    "62": "21100000",
                                    "63": "LE THI NGOT",
                                    "64": "NULL",
                                    "65": "NULL",
                                    "66": "NULL",
                                    "67": "NULL",
                                    "68": "NULL",
                                    "69": "NULL",
                                    "70": "NULL",
                                    "71": "NULL"
                                },
                                {
                                    "0": "2017-10-04 00:00:00.0000000",
                                    "1": "JOB_STG_T24_SAOKE_DEBT_COLLECTION_D01",
                                    "2": "2019-01-15 14:34:46.0000000",
                                    "3": "2017-10-04 00:00:00.0000000",
                                    "4": "2017-10-04 00:00:00.0000000",
                                    "5": "1000117090039638",
                                    "6": "LD1726459650",
                                    "7": "8011822",
                                    "8": "14229599004",
                                    "9": "NULL",
                                    "10": "NULL",
                                    "11": "NULL",
                                    "12": "NULL",
                                    "13": "NULL",
                                    "14": "NULL",
                                    "15": "NULL",
                                    "16": "12",
                                    "17": "1",
                                    "18": "2017-10-10 00:00:00.0000000",
                                    "19": "1789689",
                                    "20": "863991",
                                    "21": "NULL",
                                    "22": "NULL",
                                    "23": "NULL",
                                    "24": "NULL",
                                    "25": "NULL",
                                    "26": "NULL",
                                    "27": "NULL",
                                    "28": "NULL",
                                    "29": "NULL",
                                    "30": "NULL",
                                    "31": "NULL",
                                    "32": "NULL",
                                    "33": "NULL",
                                    "34": "NULL",
                                    "35": "NULL",
                                    "36": "NULL",
                                    "37": "NULL",
                                    "38": "NULL",
                                    "39": "NULL",
                                    "40": "NULL",
                                    "41": "2665680",
                                    "42": "2665680",
                                    "43": "NULL",
                                    "44": "NULL",
                                    "45": "NULL",
                                    "46": "NULL",
                                    "47": "NULL",
                                    "48": "NULL",
                                    "49": "NULL",
                                    "50": "2665680",
                                    "51": "2665680",
                                    "52": "2665680",
                                    "53": "2665680",
                                    "54": "2665680",
                                    "55": "2665680",
                                    "56": "2665680",
                                    "57": "2665680",
                                    "58": "2665680",
                                    "59": "2665680",
                                    "60": "2665680",
                                    "61": "2665680",
                                    "62": "25338000",
                                    "63": "NGUYEN VAN QUYNH",
                                    "64": "NULL",
                                    "65": "NULL",
                                    "66": "NULL",
                                    "67": "NULL",
                                    "68": "NULL",
                                    "69": "NULL",
                                    "70": "NULL",
                                    "71": "NULL"
                                },
                                {
                                    "0": "2017-10-04 00:00:00.0000000",
                                    "1": "JOB_STG_T24_SAOKE_DEBT_COLLECTION_D01",
                                    "2": "2019-01-15 14:34:46.0000000",
                                    "3": "2017-10-04 00:00:00.0000000",
                                    "4": "2017-10-04 00:00:00.0000000",
                                    "5": "1000117090039654",
                                    "6": "LD1726429364",
                                    "7": "8010619",
                                    "8": "14223833005",
                                    "9": "NULL",
                                    "10": "NULL",
                                    "11": "NULL",
                                    "12": "NULL",
                                    "13": "NULL",
                                    "14": "NULL",
                                    "15": "NULL",
                                    "16": "24",
                                    "17": "1",
                                    "18": "2017-10-10 00:00:00.0000000",
                                    "19": "646319",
                                    "20": "702370",
                                    "21": "NULL",
                                    "22": "NULL",
                                    "23": "NULL",
                                    "24": "NULL",
                                    "25": "NULL",
                                    "26": "NULL",
                                    "27": "NULL",
                                    "28": "NULL",
                                    "29": "NULL",
                                    "30": "NULL",
                                    "31": "NULL",
                                    "32": "NULL",
                                    "33": "NULL",
                                    "34": "NULL",
                                    "35": "NULL",
                                    "36": "NULL",
                                    "37": "NULL",
                                    "38": "NULL",
                                    "39": "NULL",
                                    "40": "NULL",
                                    "41": "1360689",
                                    "42": "1360689",
                                    "43": "NULL",
                                    "44": "NULL",
                                    "45": "NULL",
                                    "46": "NULL",
                                    "47": "NULL",
                                    "48": "NULL",
                                    "49": "NULL",
                                    "50": "1360689",
                                    "51": "1360689",
                                    "52": "1360689",
                                    "53": "1360689",
                                    "54": "1360689",
                                    "55": "1360689",
                                    "56": "1360689",
                                    "57": "1360689",
                                    "58": "1360689",
                                    "59": "1360689",
                                    "60": "1360689",
                                    "61": "1360689",
                                    "62": "21100000",
                                    "63": "NGUYEN DINH HUY",
                                    "64": "NULL",
                                    "65": "NULL",
                                    "66": "NULL",
                                    "67": "NULL",
                                    "68": "NULL",
                                    "69": "NULL",
                                    "70": "NULL",
                                    "71": "NULL"
                                },
                                {
                                    "0": "2017-10-04 00:00:00.0000000",
                                    "1": "JOB_STG_T24_SAOKE_DEBT_COLLECTION_D01",
                                    "2": "2019-01-15 14:34:46.0000000",
                                    "3": "2017-10-04 00:00:00.0000000",
                                    "4": "2017-10-04 00:00:00.0000000",
                                    "5": "1000117090039671",
                                    "6": "LD1726499755",
                                    "7": "8009327",
                                    "8": "14214234007",
                                    "9": "NULL",
                                    "10": "NULL",
                                    "11": "NULL",
                                    "12": "NULL",
                                    "13": "NULL",
                                    "14": "NULL",
                                    "15": "NULL",
                                    "16": "30",
                                    "17": "1",
                                    "18": "2017-10-10 00:00:00.0000000",
                                    "19": "1266387",
                                    "20": "1236229",
                                    "21": "NULL",
                                    "22": "NULL",
                                    "23": "NULL",
                                    "24": "NULL",
                                    "25": "NULL",
                                    "26": "NULL",
                                    "27": "NULL",
                                    "28": "NULL",
                                    "29": "NULL",
                                    "30": "NULL",
                                    "31": "NULL",
                                    "32": "NULL",
                                    "33": "NULL",
                                    "34": "NULL",
                                    "35": "NULL",
                                    "36": "NULL",
                                    "37": "NULL",
                                    "38": "NULL",
                                    "39": "NULL",
                                    "40": "NULL",
                                    "41": "2514616",
                                    "42": "2514616",
                                    "43": "NULL",
                                    "44": "NULL",
                                    "45": "NULL",
                                    "46": "NULL",
                                    "47": "NULL",
                                    "48": "NULL",
                                    "49": "NULL",
                                    "50": "2514616",
                                    "51": "2514616",
                                    "52": "2514616",
                                    "53": "2514616",
                                    "54": "2514616",
                                    "55": "2514616",
                                    "56": "2514616",
                                    "57": "2514616",
                                    "58": "2514616",
                                    "59": "2514616",
                                    "60": "2514616",
                                    "61": "2514616",
                                    "62": "49585000",
                                    "63": "NGUYEN VAN DUNG",
                                    "64": "NULL",
                                    "65": "NULL",
                                    "66": "NULL",
                                    "67": "NULL",
                                    "68": "NULL",
                                    "69": "NULL",
                                    "70": "NULL",
                                    "71": "NULL"
                                },
                                {
                                    "0": "2017-10-04 00:00:00.0000000",
                                    "1": "JOB_STG_T24_SAOKE_DEBT_COLLECTION_D01",
                                    "2": "2019-01-15 14:34:46.0000000",
                                    "3": "2017-10-04 00:00:00.0000000",
                                    "4": "2017-10-04 00:00:00.0000000",
                                    "5": "1000117090039697",
                                    "6": "LD1726446003",
                                    "7": "8005563",
                                    "8": "14217451001",
                                    "9": "NULL",
                                    "10": "NULL",
                                    "11": "NULL",
                                    "12": "NULL",
                                    "13": "NULL",
                                    "14": "NULL",
                                    "15": "NULL",
                                    "16": "12",
                                    "17": "1",
                                    "18": "2017-10-10 00:00:00.0000000",
                                    "19": "1148926",
                                    "20": "791671",
                                    "21": "NULL",
                                    "22": "NULL",
                                    "23": "NULL",
                                    "24": "NULL",
                                    "25": "NULL",
                                    "26": "NULL",
                                    "27": "NULL",
                                    "28": "NULL",
                                    "29": "NULL",
                                    "30": "NULL",
                                    "31": "NULL",
                                    "32": "NULL",
                                    "33": "NULL",
                                    "34": "NULL",
                                    "35": "NULL",
                                    "36": "NULL",
                                    "37": "NULL",
                                    "38": "NULL",
                                    "39": "NULL",
                                    "40": "NULL",
                                    "41": "1952597",
                                    "42": "1952597",
                                    "43": "NULL",
                                    "44": "NULL",
                                    "45": "NULL",
                                    "46": "NULL",
                                    "47": "NULL",
                                    "48": "NULL",
                                    "49": "NULL",
                                    "50": "1952597",
                                    "51": "1952597",
                                    "52": "1952597",
                                    "53": "1952597",
                                    "54": "1952597",
                                    "55": "1952597",
                                    "56": "1952597",
                                    "57": "1952597",
                                    "58": "1952597",
                                    "59": "1952597",
                                    "60": "1952597",
                                    "61": "1952597",
                                    "62": "17200000",
                                    "63": "HUYNH THI MY NGOC",
                                    "64": "NULL",
                                    "65": "NULL",
                                    "66": "NULL",
                                    "67": "NULL",
                                    "68": "NULL",
                                    "69": "NULL",
                                    "70": "NULL",
                                    "71": "NULL"
                                },
                                {
                                    "0": "2017-10-04 00:00:00.0000000",
                                    "1": "JOB_STG_T24_SAOKE_DEBT_COLLECTION_D01",
                                    "2": "2019-01-15 14:34:46.0000000",
                                    "3": "2017-10-04 00:00:00.0000000",
                                    "4": "2017-10-04 00:00:00.0000000",
                                    "5": "1000117090039719",
                                    "6": "LD1726417801",
                                    "7": "8005386",
                                    "8": "14211961008",
                                    "9": "753000",
                                    "10": "NULL",
                                    "11": "NULL",
                                    "12": "NULL",
                                    "13": "NULL",
                                    "14": "NULL",
                                    "15": "NULL",
                                    "16": "12",
                                    "17": "1",
                                    "18": "2017-10-10 00:00:00.0000000",
                                    "19": "424375",
                                    "20": "328539",
                                    "21": "NULL",
                                    "22": "NULL",
                                    "23": "NULL",
                                    "24": "NULL",
                                    "25": "NULL",
                                    "26": "NULL",
                                    "27": "NULL",
                                    "28": "NULL",
                                    "29": "NULL",
                                    "30": "NULL",
                                    "31": "NULL",
                                    "32": "NULL",
                                    "33": "NULL",
                                    "34": "NULL",
                                    "35": "NULL",
                                    "36": "NULL",
                                    "37": "NULL",
                                    "38": "NULL",
                                    "39": "NULL",
                                    "40": "NULL",
                                    "41": "764914",
                                    "42": "11914",
                                    "43": "NULL",
                                    "44": "NULL",
                                    "45": "NULL",
                                    "46": "NULL",
                                    "47": "NULL",
                                    "48": "NULL",
                                    "49": "NULL",
                                    "50": "764914",
                                    "51": "764914",
                                    "52": "764914",
                                    "53": "764914",
                                    "54": "764914",
                                    "55": "764914",
                                    "56": "11914",
                                    "57": "11914",
                                    "58": "11914",
                                    "59": "11914",
                                    "60": "11914",
                                    "61": "11914",
                                    "62": "6489000",
                                    "63": "NGUYEN VAN NAM",
                                    "64": "NULL",
                                    "65": "NULL",
                                    "66": "NULL",
                                    "67": "NULL",
                                    "68": "NULL",
                                    "69": "NULL",
                                    "70": "NULL",
                                    "71": "NULL"
                                },
                                {
                                    "0": "2017-10-04 00:00:00.0000000",
                                    "1": "JOB_STG_T24_SAOKE_DEBT_COLLECTION_D01",
                                    "2": "2019-01-15 14:34:46.0000000",
                                    "3": "2017-10-04 00:00:00.0000000",
                                    "4": "2017-10-04 00:00:00.0000000",
                                    "5": "1000117090039735",
                                    "6": "LD1726463417",
                                    "7": "8019397",
                                    "8": "14227963008",
                                    "9": "NULL",
                                    "10": "NULL",
                                    "11": "NULL",
                                    "12": "NULL",
                                    "13": "NULL",
                                    "14": "NULL",
                                    "15": "NULL",
                                    "16": "33",
                                    "17": "1",
                                    "18": "2017-10-10 00:00:00.0000000",
                                    "19": "845531",
                                    "20": "1404740",
                                    "21": "NULL",
                                    "22": "NULL",
                                    "23": "NULL",
                                    "24": "NULL",
                                    "25": "NULL",
                                    "26": "NULL",
                                    "27": "NULL",
                                    "28": "NULL",
                                    "29": "NULL",
                                    "30": "NULL",
                                    "31": "NULL",
                                    "32": "NULL",
                                    "33": "NULL",
                                    "34": "NULL",
                                    "35": "NULL",
                                    "36": "NULL",
                                    "37": "NULL",
                                    "38": "NULL",
                                    "39": "NULL",
                                    "40": "NULL",
                                    "41": "2262271",
                                    "42": "2262271",
                                    "43": "NULL",
                                    "44": "NULL",
                                    "45": "NULL",
                                    "46": "NULL",
                                    "47": "NULL",
                                    "48": "NULL",
                                    "49": "NULL",
                                    "50": "2262271",
                                    "51": "2262271",
                                    "52": "2262271",
                                    "53": "2262271",
                                    "54": "2262271",
                                    "55": "2262271",
                                    "56": "2262271",
                                    "57": "2262271",
                                    "58": "2262271",
                                    "59": "2262271",
                                    "60": "2262271",
                                    "61": "2262271",
                                    "62": "42200000",
                                    "63": "HUYNH THI HOANG NGA",
                                    "64": "NULL",
                                    "65": "NULL",
                                    "66": "NULL",
                                    "67": "NULL",
                                    "68": "NULL",
                                    "69": "NULL",
                                    "70": "NULL",
                                    "71": "NULL"
                                }
                            ]
                        },
                        "text/html": "<table><tr><th>COB_DT</th><th>UPD_BY</th><th>UPD_TIME</th><th>RUN_DATE</th><th>Y_SEL_DATE</th><th>Y_CONTRACT_REF</th><th>LD_ID</th><th>CUS_ID</th><th>YID_AC</th><th>YWK_BAL</th><th>Y_SONGAY_QH</th><th>Y_SONGAY_QH_T1</th><th>Y_SONGAY_QH_T2</th><th>Y_SONGAY_QH_T3</th><th>Y_SONGAY_QH_T4</th><th>Y_SONGAY_QH_T5</th><th>Y_KYHAN</th><th>Y_KYTRANO</th><th>Y_DATE_NEXT</th><th>Y_PR_NEXT</th><th>Y_IN_NEXT</th><th>Y_QH_PR</th><th>Y_QH_IN</th><th>Y_QH_PE</th><th>YAMT_PE_T1</th><th>YAMT_PE_T2</th><th>YAMT_PE_T3</th><th>YAMT_PE_T4</th><th>YAMT_PE_T5</th><th>Y_QH_PS</th><th>YAMT_PS_T1</th><th>YAMT_PS_T2</th><th>YAMT_PS_T3</th><th>YAMT_PS_T4</th><th>YAMT_PS_T5</th><th>Y_TOTAL_PE</th><th>YTOTAL_PE_PS_T1</th><th>YTOTAL_PE_PS_T2</th><th>YTOTAL_PE_PS_T3</th><th>YTOTAL_PE_PS_T4</th><th>YTOTAL_PE_PS_T5</th><th>YTOTAL_AMT_LD</th><th>YTOTAL_AMT_LD_AC</th><th>Y_TOTAL_QH</th><th>Y_TOTAL_QH_AC</th><th>Y_TOTAL_QH_AC_T1</th><th>Y_TOTAL_QH_AC_T2</th><th>Y_TOTAL_QH_AC_T3</th><th>Y_TOTAL_QH_AC_T4</th><th>Y_TOTAL_QH_AC_T5</th><th>Y_TOTAL_REPAY</th><th>Y_TOTAL_REPAY_T1</th><th>Y_TOTAL_REPAY_T2</th><th>Y_TOTAL_REPAY_T3</th><th>Y_TOTAL_REPAY_T4</th><th>Y_TOTAL_REPAY_T5</th><th>Y_TOTAL_REPAY_AC</th><th>Y_TOTAL_REPAY_AC_T1</th><th>Y_TOTAL_REPAY_AC_T2</th><th>Y_TOTAL_REPAY_AC_T3</th><th>Y_TOTAL_REPAY_AC_T4</th><th>Y_TOTAL_REPAY_AC_T5</th><th>Y_DUNO_CL</th><th>CUS_NAME</th><th>Y_EARLY_RPY</th><th>Y_EARLY_RPY_DATE</th><th>YWK_BAL_43</th><th>Y_CATEGORY</th><th>PRODUCT_TYPE</th><th>Y_SUB_NAME</th><th>Y_DRAWDOWN_NET_AMT</th><th>Y_RFD_AMT</th></tr><tr><td>2017-10-04 00:00:00.0000000</td><td>JOB_STG_T24_SAOKE_DEBT_COLLECTION_D01</td><td>2019-01-15 14:34:46.0000000</td><td>2017-10-04 00:00:00.0000000</td><td>2017-10-04 00:00:00.0000000</td><td>1000117090039557</td><td>LD1726410507</td><td>8039183</td><td>14227760002</td><td>NULL</td><td>NULL</td><td>NULL</td><td>NULL</td><td>NULL</td><td>NULL</td><td>NULL</td><td>36</td><td>1</td><td>2017-10-10 00:00:00.0000000</td><td>562830</td><td>1053555</td><td>NULL</td><td>NULL</td><td>NULL</td><td>NULL</td><td>NULL</td><td>NULL</td><td>NULL</td><td>NULL</td><td>NULL</td><td>NULL</td><td>NULL</td><td>NULL</td><td>NULL</td><td>NULL</td><td>NULL</td><td>NULL</td><td>NULL</td><td>NULL</td><td>NULL</td><td>NULL</td><td>1628385</td><td>1628385</td><td>NULL</td><td>NULL</td><td>NULL</td><td>NULL</td><td>NULL</td><td>NULL</td><td>NULL</td><td>1628385</td><td>1628385</td><td>1628385</td><td>1628385</td><td>1628385</td><td>1628385</td><td>1628385</td><td>1628385</td><td>1628385</td><td>1628385</td><td>1628385</td><td>1628385</td><td>31650000</td><td>VO THI TUYET MAI</td><td>NULL</td><td>NULL</td><td>NULL</td><td>NULL</td><td>NULL</td><td>NULL</td><td>NULL</td><td>NULL</td></tr><tr><td>2017-10-04 00:00:00.0000000</td><td>JOB_STG_T24_SAOKE_DEBT_COLLECTION_D01</td><td>2019-01-15 14:34:46.0000000</td><td>2017-10-04 00:00:00.0000000</td><td>2017-10-04 00:00:00.0000000</td><td>1000117090039573</td><td>LD1726454485</td><td>8005837</td><td>14225333007</td><td>NULL</td><td>NULL</td><td>NULL</td><td>NULL</td><td>NULL</td><td>NULL</td><td>NULL</td><td>24</td><td>1</td><td>2017-10-10 00:00:00.0000000</td><td>860569</td><td>682860</td><td>NULL</td><td>NULL</td><td>NULL</td><td>NULL</td><td>NULL</td><td>NULL</td><td>NULL</td><td>NULL</td><td>NULL</td><td>NULL</td><td>NULL</td><td>NULL</td><td>NULL</td><td>NULL</td><td>NULL</td><td>NULL</td><td>NULL</td><td>NULL</td><td>NULL</td><td>NULL</td><td>1555429</td><td>1555429</td><td>NULL</td><td>NULL</td><td>NULL</td><td>NULL</td><td>NULL</td><td>NULL</td><td>NULL</td><td>1555429</td><td>1555429</td><td>1555429</td><td>1555429</td><td>1555429</td><td>1555429</td><td>1555429</td><td>1555429</td><td>1555429</td><td>1555429</td><td>1555429</td><td>1555429</td><td>26375000</td><td>NGUYEN THI HOI</td><td>NULL</td><td>NULL</td><td>NULL</td><td>NULL</td><td>NULL</td><td>NULL</td><td>NULL</td><td>NULL</td></tr><tr><td>2017-10-04 00:00:00.0000000</td><td>JOB_STG_T24_SAOKE_DEBT_COLLECTION_D01</td><td>2019-01-15 14:34:46.0000000</td><td>2017-10-04 00:00:00.0000000</td><td>2017-10-04 00:00:00.0000000</td><td>1000117090039590</td><td>LD1726460085</td><td>8032733</td><td>14238211008</td><td>1853000</td><td>NULL</td><td>NULL</td><td>NULL</td><td>NULL</td><td>NULL</td><td>NULL</td><td>24</td><td>1</td><td>2017-10-10 00:00:00.0000000</td><td>1032682</td><td>819432</td><td>NULL</td><td>NULL</td><td>NULL</td><td>NULL</td><td>NULL</td><td>NULL</td><td>NULL</td><td>NULL</td><td>NULL</td><td>NULL</td><td>NULL</td><td>NULL</td><td>NULL</td><td>NULL</td><td>NULL</td><td>NULL</td><td>NULL</td><td>NULL</td><td>NULL</td><td>NULL</td><td>1864114</td><td>11114</td><td>NULL</td><td>NULL</td><td>NULL</td><td>NULL</td><td>NULL</td><td>NULL</td><td>NULL</td><td>1864114</td><td>1864114</td><td>1864114</td><td>1864114</td><td>1864114</td><td>1864114</td><td>11114</td><td>11114</td><td>11114</td><td>11114</td><td>11114</td><td>11114</td><td>31650000</td><td>LE VAN PHAN</td><td>NULL</td><td>NULL</td><td>NULL</td><td>NULL</td><td>NULL</td><td>NULL</td><td>NULL</td><td>NULL</td></tr><tr><td>2017-10-04 00:00:00.0000000</td><td>JOB_STG_T24_SAOKE_DEBT_COLLECTION_D01</td><td>2019-01-15 14:34:46.0000000</td><td>2017-10-04 00:00:00.0000000</td><td>2017-10-04 00:00:00.0000000</td><td>1000117090039611</td><td>LD1726488132</td><td>8039134</td><td>14224816007</td><td>NULL</td><td>NULL</td><td>NULL</td><td>NULL</td><td>NULL</td><td>NULL</td><td>NULL</td><td>36</td><td>1</td><td>2017-10-10 00:00:00.0000000</td><td>428425</td><td>526055</td><td>NULL</td><td>NULL</td><td>NULL</td><td>NULL</td><td>NULL</td><td>NULL</td><td>NULL</td><td>NULL</td><td>NULL</td><td>NULL</td><td>NULL</td><td>NULL</td><td>NULL</td><td>NULL</td><td>NULL</td><td>NULL</td><td>NULL</td><td>NULL</td><td>NULL</td><td>NULL</td><td>966480</td><td>966480</td><td>NULL</td><td>NULL</td><td>NULL</td><td>NULL</td><td>NULL</td><td>NULL</td><td>NULL</td><td>966480</td><td>966480</td><td>966480</td><td>966480</td><td>966480</td><td>966480</td><td>966480</td><td>966480</td><td>966480</td><td>966480</td><td>966480</td><td>966480</td><td>21100000</td><td>LE THI NGOT</td><td>NULL</td><td>NULL</td><td>NULL</td><td>NULL</td><td>NULL</td><td>NULL</td><td>NULL</td><td>NULL</td></tr><tr><td>2017-10-04 00:00:00.0000000</td><td>JOB_STG_T24_SAOKE_DEBT_COLLECTION_D01</td><td>2019-01-15 14:34:46.0000000</td><td>2017-10-04 00:00:00.0000000</td><td>2017-10-04 00:00:00.0000000</td><td>1000117090039638</td><td>LD1726459650</td><td>8011822</td><td>14229599004</td><td>NULL</td><td>NULL</td><td>NULL</td><td>NULL</td><td>NULL</td><td>NULL</td><td>NULL</td><td>12</td><td>1</td><td>2017-10-10 00:00:00.0000000</td><td>1789689</td><td>863991</td><td>NULL</td><td>NULL</td><td>NULL</td><td>NULL</td><td>NULL</td><td>NULL</td><td>NULL</td><td>NULL</td><td>NULL</td><td>NULL</td><td>NULL</td><td>NULL</td><td>NULL</td><td>NULL</td><td>NULL</td><td>NULL</td><td>NULL</td><td>NULL</td><td>NULL</td><td>NULL</td><td>2665680</td><td>2665680</td><td>NULL</td><td>NULL</td><td>NULL</td><td>NULL</td><td>NULL</td><td>NULL</td><td>NULL</td><td>2665680</td><td>2665680</td><td>2665680</td><td>2665680</td><td>2665680</td><td>2665680</td><td>2665680</td><td>2665680</td><td>2665680</td><td>2665680</td><td>2665680</td><td>2665680</td><td>25338000</td><td>NGUYEN VAN QUYNH</td><td>NULL</td><td>NULL</td><td>NULL</td><td>NULL</td><td>NULL</td><td>NULL</td><td>NULL</td><td>NULL</td></tr><tr><td>2017-10-04 00:00:00.0000000</td><td>JOB_STG_T24_SAOKE_DEBT_COLLECTION_D01</td><td>2019-01-15 14:34:46.0000000</td><td>2017-10-04 00:00:00.0000000</td><td>2017-10-04 00:00:00.0000000</td><td>1000117090039654</td><td>LD1726429364</td><td>8010619</td><td>14223833005</td><td>NULL</td><td>NULL</td><td>NULL</td><td>NULL</td><td>NULL</td><td>NULL</td><td>NULL</td><td>24</td><td>1</td><td>2017-10-10 00:00:00.0000000</td><td>646319</td><td>702370</td><td>NULL</td><td>NULL</td><td>NULL</td><td>NULL</td><td>NULL</td><td>NULL</td><td>NULL</td><td>NULL</td><td>NULL</td><td>NULL</td><td>NULL</td><td>NULL</td><td>NULL</td><td>NULL</td><td>NULL</td><td>NULL</td><td>NULL</td><td>NULL</td><td>NULL</td><td>NULL</td><td>1360689</td><td>1360689</td><td>NULL</td><td>NULL</td><td>NULL</td><td>NULL</td><td>NULL</td><td>NULL</td><td>NULL</td><td>1360689</td><td>1360689</td><td>1360689</td><td>1360689</td><td>1360689</td><td>1360689</td><td>1360689</td><td>1360689</td><td>1360689</td><td>1360689</td><td>1360689</td><td>1360689</td><td>21100000</td><td>NGUYEN DINH HUY</td><td>NULL</td><td>NULL</td><td>NULL</td><td>NULL</td><td>NULL</td><td>NULL</td><td>NULL</td><td>NULL</td></tr><tr><td>2017-10-04 00:00:00.0000000</td><td>JOB_STG_T24_SAOKE_DEBT_COLLECTION_D01</td><td>2019-01-15 14:34:46.0000000</td><td>2017-10-04 00:00:00.0000000</td><td>2017-10-04 00:00:00.0000000</td><td>1000117090039671</td><td>LD1726499755</td><td>8009327</td><td>14214234007</td><td>NULL</td><td>NULL</td><td>NULL</td><td>NULL</td><td>NULL</td><td>NULL</td><td>NULL</td><td>30</td><td>1</td><td>2017-10-10 00:00:00.0000000</td><td>1266387</td><td>1236229</td><td>NULL</td><td>NULL</td><td>NULL</td><td>NULL</td><td>NULL</td><td>NULL</td><td>NULL</td><td>NULL</td><td>NULL</td><td>NULL</td><td>NULL</td><td>NULL</td><td>NULL</td><td>NULL</td><td>NULL</td><td>NULL</td><td>NULL</td><td>NULL</td><td>NULL</td><td>NULL</td><td>2514616</td><td>2514616</td><td>NULL</td><td>NULL</td><td>NULL</td><td>NULL</td><td>NULL</td><td>NULL</td><td>NULL</td><td>2514616</td><td>2514616</td><td>2514616</td><td>2514616</td><td>2514616</td><td>2514616</td><td>2514616</td><td>2514616</td><td>2514616</td><td>2514616</td><td>2514616</td><td>2514616</td><td>49585000</td><td>NGUYEN VAN DUNG</td><td>NULL</td><td>NULL</td><td>NULL</td><td>NULL</td><td>NULL</td><td>NULL</td><td>NULL</td><td>NULL</td></tr><tr><td>2017-10-04 00:00:00.0000000</td><td>JOB_STG_T24_SAOKE_DEBT_COLLECTION_D01</td><td>2019-01-15 14:34:46.0000000</td><td>2017-10-04 00:00:00.0000000</td><td>2017-10-04 00:00:00.0000000</td><td>1000117090039697</td><td>LD1726446003</td><td>8005563</td><td>14217451001</td><td>NULL</td><td>NULL</td><td>NULL</td><td>NULL</td><td>NULL</td><td>NULL</td><td>NULL</td><td>12</td><td>1</td><td>2017-10-10 00:00:00.0000000</td><td>1148926</td><td>791671</td><td>NULL</td><td>NULL</td><td>NULL</td><td>NULL</td><td>NULL</td><td>NULL</td><td>NULL</td><td>NULL</td><td>NULL</td><td>NULL</td><td>NULL</td><td>NULL</td><td>NULL</td><td>NULL</td><td>NULL</td><td>NULL</td><td>NULL</td><td>NULL</td><td>NULL</td><td>NULL</td><td>1952597</td><td>1952597</td><td>NULL</td><td>NULL</td><td>NULL</td><td>NULL</td><td>NULL</td><td>NULL</td><td>NULL</td><td>1952597</td><td>1952597</td><td>1952597</td><td>1952597</td><td>1952597</td><td>1952597</td><td>1952597</td><td>1952597</td><td>1952597</td><td>1952597</td><td>1952597</td><td>1952597</td><td>17200000</td><td>HUYNH THI MY NGOC</td><td>NULL</td><td>NULL</td><td>NULL</td><td>NULL</td><td>NULL</td><td>NULL</td><td>NULL</td><td>NULL</td></tr><tr><td>2017-10-04 00:00:00.0000000</td><td>JOB_STG_T24_SAOKE_DEBT_COLLECTION_D01</td><td>2019-01-15 14:34:46.0000000</td><td>2017-10-04 00:00:00.0000000</td><td>2017-10-04 00:00:00.0000000</td><td>1000117090039719</td><td>LD1726417801</td><td>8005386</td><td>14211961008</td><td>753000</td><td>NULL</td><td>NULL</td><td>NULL</td><td>NULL</td><td>NULL</td><td>NULL</td><td>12</td><td>1</td><td>2017-10-10 00:00:00.0000000</td><td>424375</td><td>328539</td><td>NULL</td><td>NULL</td><td>NULL</td><td>NULL</td><td>NULL</td><td>NULL</td><td>NULL</td><td>NULL</td><td>NULL</td><td>NULL</td><td>NULL</td><td>NULL</td><td>NULL</td><td>NULL</td><td>NULL</td><td>NULL</td><td>NULL</td><td>NULL</td><td>NULL</td><td>NULL</td><td>764914</td><td>11914</td><td>NULL</td><td>NULL</td><td>NULL</td><td>NULL</td><td>NULL</td><td>NULL</td><td>NULL</td><td>764914</td><td>764914</td><td>764914</td><td>764914</td><td>764914</td><td>764914</td><td>11914</td><td>11914</td><td>11914</td><td>11914</td><td>11914</td><td>11914</td><td>6489000</td><td>NGUYEN VAN NAM</td><td>NULL</td><td>NULL</td><td>NULL</td><td>NULL</td><td>NULL</td><td>NULL</td><td>NULL</td><td>NULL</td></tr><tr><td>2017-10-04 00:00:00.0000000</td><td>JOB_STG_T24_SAOKE_DEBT_COLLECTION_D01</td><td>2019-01-15 14:34:46.0000000</td><td>2017-10-04 00:00:00.0000000</td><td>2017-10-04 00:00:00.0000000</td><td>1000117090039735</td><td>LD1726463417</td><td>8019397</td><td>14227963008</td><td>NULL</td><td>NULL</td><td>NULL</td><td>NULL</td><td>NULL</td><td>NULL</td><td>NULL</td><td>33</td><td>1</td><td>2017-10-10 00:00:00.0000000</td><td>845531</td><td>1404740</td><td>NULL</td><td>NULL</td><td>NULL</td><td>NULL</td><td>NULL</td><td>NULL</td><td>NULL</td><td>NULL</td><td>NULL</td><td>NULL</td><td>NULL</td><td>NULL</td><td>NULL</td><td>NULL</td><td>NULL</td><td>NULL</td><td>NULL</td><td>NULL</td><td>NULL</td><td>NULL</td><td>2262271</td><td>2262271</td><td>NULL</td><td>NULL</td><td>NULL</td><td>NULL</td><td>NULL</td><td>NULL</td><td>NULL</td><td>2262271</td><td>2262271</td><td>2262271</td><td>2262271</td><td>2262271</td><td>2262271</td><td>2262271</td><td>2262271</td><td>2262271</td><td>2262271</td><td>2262271</td><td>2262271</td><td>42200000</td><td>HUYNH THI HOANG NGA</td><td>NULL</td><td>NULL</td><td>NULL</td><td>NULL</td><td>NULL</td><td>NULL</td><td>NULL</td><td>NULL</td></tr></table>"
                    },
                    "metadata": {}
                }
            ],
            "execution_count": 1
        },
        {
            "cell_type": "markdown",
            "source": [
                "Đây là cách truy vấn đơn giản nhất theo cú pháp của T-SQL. Tuy nhiên cách truy vấn này có nhược điểm là tốc độ truy vấn chậm.\n",
                "\n",
                "Lý do là bởi khi ta yêu cầu SQL server thực hiện một câu lệnh cho Oracle thông qua Linked Server, SQL Server sẽ lấy ra toàn bộ dữ liệu của cả bảng ở bên Oracle rồi sau đó mới áp đặt các điều kiệu ở WHERE. Giả sử bảng gốc trên Oracle có 10 triệu dòng, trong khi ta chỉ cần query 100 dòng, SQL Server sẽ lấy toàn bộ 10 triệu dòng rồi sau đó mới áp dụng điều kiện lọc để lấy 100 dòng cần thiết.\n",
                "\n",
                "#### Truy vấn thông qua OPENQUERY\n",
                "\n",
                "Có thể hiểu đơn giản việc dùng phương thức truy vấn trực tiếp như ở trên là: Ta để SQL Server tự \"dịch\" các câu lệnh từ ngôn ngữ T-SQL sang PL/SQL. \n",
                "\n",
                "Ngược lại, nếu dùng `OPENQUERY`, ta sẽ tự viết câu lệnh truy vấn theo cú pháp của PL/SQL, rồi chỉ để SQL Server gửi câu lệnh này sang cho Oracle.\n",
                "\n",
                "Cú pháp của `OPENQUERY` như câu truy vấn ở dưới, trong đó `OPENQUERY` nhận 2 tham số là:\n",
                "\n",
                "1. Tên Linked Server, trong trường hợp này là **ORASRV** (Viết tắt của Oracle Server), và\n",
                "2. Câu truy vấn THEO CÚ PHÁP của ORACLE (PL/SQL), nằm trong nháy đơn."
            ],
            "metadata": {
                "azdata_cell_guid": "56fcb36b-b8ce-40d9-9e3c-c7970c55ce6a"
            }
        },
        {
            "cell_type": "code",
            "source": [
                "SELECT top 10 * FROM \r\n",
                "OPENQUERY(ORASRV ,'Select * from IT_USER.STG_T24_SAOKE_DEBT_COLLECTION' )  \r\n",
                ""
            ],
            "metadata": {
                "azdata_cell_guid": "add48dfe-4ea7-4344-b9d7-4c662e49ec48"
            },
            "outputs": [
                {
                    "output_type": "display_data",
                    "data": {
                        "text/html": "(10 rows affected)"
                    },
                    "metadata": {}
                },
                {
                    "output_type": "display_data",
                    "data": {
                        "text/html": "Total execution time: 00:00:00.379"
                    },
                    "metadata": {}
                },
                {
                    "output_type": "execute_result",
                    "execution_count": 3,
                    "data": {
                        "application/vnd.dataresource+json": {
                            "schema": {
                                "fields": [
                                    {
                                        "name": "COB_DT"
                                    },
                                    {
                                        "name": "UPD_BY"
                                    },
                                    {
                                        "name": "UPD_TIME"
                                    },
                                    {
                                        "name": "RUN_DATE"
                                    },
                                    {
                                        "name": "Y_SEL_DATE"
                                    },
                                    {
                                        "name": "Y_CONTRACT_REF"
                                    },
                                    {
                                        "name": "LD_ID"
                                    },
                                    {
                                        "name": "CUS_ID"
                                    },
                                    {
                                        "name": "YID_AC"
                                    },
                                    {
                                        "name": "YWK_BAL"
                                    },
                                    {
                                        "name": "Y_SONGAY_QH"
                                    },
                                    {
                                        "name": "Y_SONGAY_QH_T1"
                                    },
                                    {
                                        "name": "Y_SONGAY_QH_T2"
                                    },
                                    {
                                        "name": "Y_SONGAY_QH_T3"
                                    },
                                    {
                                        "name": "Y_SONGAY_QH_T4"
                                    },
                                    {
                                        "name": "Y_SONGAY_QH_T5"
                                    },
                                    {
                                        "name": "Y_KYHAN"
                                    },
                                    {
                                        "name": "Y_KYTRANO"
                                    },
                                    {
                                        "name": "Y_DATE_NEXT"
                                    },
                                    {
                                        "name": "Y_PR_NEXT"
                                    },
                                    {
                                        "name": "Y_IN_NEXT"
                                    },
                                    {
                                        "name": "Y_QH_PR"
                                    },
                                    {
                                        "name": "Y_QH_IN"
                                    },
                                    {
                                        "name": "Y_QH_PE"
                                    },
                                    {
                                        "name": "YAMT_PE_T1"
                                    },
                                    {
                                        "name": "YAMT_PE_T2"
                                    },
                                    {
                                        "name": "YAMT_PE_T3"
                                    },
                                    {
                                        "name": "YAMT_PE_T4"
                                    },
                                    {
                                        "name": "YAMT_PE_T5"
                                    },
                                    {
                                        "name": "Y_QH_PS"
                                    },
                                    {
                                        "name": "YAMT_PS_T1"
                                    },
                                    {
                                        "name": "YAMT_PS_T2"
                                    },
                                    {
                                        "name": "YAMT_PS_T3"
                                    },
                                    {
                                        "name": "YAMT_PS_T4"
                                    },
                                    {
                                        "name": "YAMT_PS_T5"
                                    },
                                    {
                                        "name": "Y_TOTAL_PE"
                                    },
                                    {
                                        "name": "YTOTAL_PE_PS_T1"
                                    },
                                    {
                                        "name": "YTOTAL_PE_PS_T2"
                                    },
                                    {
                                        "name": "YTOTAL_PE_PS_T3"
                                    },
                                    {
                                        "name": "YTOTAL_PE_PS_T4"
                                    },
                                    {
                                        "name": "YTOTAL_PE_PS_T5"
                                    },
                                    {
                                        "name": "YTOTAL_AMT_LD"
                                    },
                                    {
                                        "name": "YTOTAL_AMT_LD_AC"
                                    },
                                    {
                                        "name": "Y_TOTAL_QH"
                                    },
                                    {
                                        "name": "Y_TOTAL_QH_AC"
                                    },
                                    {
                                        "name": "Y_TOTAL_QH_AC_T1"
                                    },
                                    {
                                        "name": "Y_TOTAL_QH_AC_T2"
                                    },
                                    {
                                        "name": "Y_TOTAL_QH_AC_T3"
                                    },
                                    {
                                        "name": "Y_TOTAL_QH_AC_T4"
                                    },
                                    {
                                        "name": "Y_TOTAL_QH_AC_T5"
                                    },
                                    {
                                        "name": "Y_TOTAL_REPAY"
                                    },
                                    {
                                        "name": "Y_TOTAL_REPAY_T1"
                                    },
                                    {
                                        "name": "Y_TOTAL_REPAY_T2"
                                    },
                                    {
                                        "name": "Y_TOTAL_REPAY_T3"
                                    },
                                    {
                                        "name": "Y_TOTAL_REPAY_T4"
                                    },
                                    {
                                        "name": "Y_TOTAL_REPAY_T5"
                                    },
                                    {
                                        "name": "Y_TOTAL_REPAY_AC"
                                    },
                                    {
                                        "name": "Y_TOTAL_REPAY_AC_T1"
                                    },
                                    {
                                        "name": "Y_TOTAL_REPAY_AC_T2"
                                    },
                                    {
                                        "name": "Y_TOTAL_REPAY_AC_T3"
                                    },
                                    {
                                        "name": "Y_TOTAL_REPAY_AC_T4"
                                    },
                                    {
                                        "name": "Y_TOTAL_REPAY_AC_T5"
                                    },
                                    {
                                        "name": "Y_DUNO_CL"
                                    },
                                    {
                                        "name": "CUS_NAME"
                                    },
                                    {
                                        "name": "Y_EARLY_RPY"
                                    },
                                    {
                                        "name": "Y_EARLY_RPY_DATE"
                                    },
                                    {
                                        "name": "YWK_BAL_43"
                                    },
                                    {
                                        "name": "Y_CATEGORY"
                                    },
                                    {
                                        "name": "PRODUCT_TYPE"
                                    },
                                    {
                                        "name": "Y_SUB_NAME"
                                    },
                                    {
                                        "name": "Y_DRAWDOWN_NET_AMT"
                                    },
                                    {
                                        "name": "Y_RFD_AMT"
                                    }
                                ]
                            },
                            "data": [
                                {
                                    "0": "2017-10-04 00:00:00.0000000",
                                    "1": "JOB_STG_T24_SAOKE_DEBT_COLLECTION_D01",
                                    "2": "2019-01-15 14:34:46.0000000",
                                    "3": "2017-10-04 00:00:00.0000000",
                                    "4": "2017-10-04 00:00:00.0000000",
                                    "5": "1000117090039557",
                                    "6": "LD1726410507",
                                    "7": "8039183",
                                    "8": "14227760002",
                                    "9": "NULL",
                                    "10": "NULL",
                                    "11": "NULL",
                                    "12": "NULL",
                                    "13": "NULL",
                                    "14": "NULL",
                                    "15": "NULL",
                                    "16": "36",
                                    "17": "1",
                                    "18": "2017-10-10 00:00:00.0000000",
                                    "19": "562830",
                                    "20": "1053555",
                                    "21": "NULL",
                                    "22": "NULL",
                                    "23": "NULL",
                                    "24": "NULL",
                                    "25": "NULL",
                                    "26": "NULL",
                                    "27": "NULL",
                                    "28": "NULL",
                                    "29": "NULL",
                                    "30": "NULL",
                                    "31": "NULL",
                                    "32": "NULL",
                                    "33": "NULL",
                                    "34": "NULL",
                                    "35": "NULL",
                                    "36": "NULL",
                                    "37": "NULL",
                                    "38": "NULL",
                                    "39": "NULL",
                                    "40": "NULL",
                                    "41": "1628385",
                                    "42": "1628385",
                                    "43": "NULL",
                                    "44": "NULL",
                                    "45": "NULL",
                                    "46": "NULL",
                                    "47": "NULL",
                                    "48": "NULL",
                                    "49": "NULL",
                                    "50": "1628385",
                                    "51": "1628385",
                                    "52": "1628385",
                                    "53": "1628385",
                                    "54": "1628385",
                                    "55": "1628385",
                                    "56": "1628385",
                                    "57": "1628385",
                                    "58": "1628385",
                                    "59": "1628385",
                                    "60": "1628385",
                                    "61": "1628385",
                                    "62": "31650000",
                                    "63": "VO THI TUYET MAI",
                                    "64": "NULL",
                                    "65": "NULL",
                                    "66": "NULL",
                                    "67": "NULL",
                                    "68": "NULL",
                                    "69": "NULL",
                                    "70": "NULL",
                                    "71": "NULL"
                                },
                                {
                                    "0": "2017-10-04 00:00:00.0000000",
                                    "1": "JOB_STG_T24_SAOKE_DEBT_COLLECTION_D01",
                                    "2": "2019-01-15 14:34:46.0000000",
                                    "3": "2017-10-04 00:00:00.0000000",
                                    "4": "2017-10-04 00:00:00.0000000",
                                    "5": "1000117090039573",
                                    "6": "LD1726454485",
                                    "7": "8005837",
                                    "8": "14225333007",
                                    "9": "NULL",
                                    "10": "NULL",
                                    "11": "NULL",
                                    "12": "NULL",
                                    "13": "NULL",
                                    "14": "NULL",
                                    "15": "NULL",
                                    "16": "24",
                                    "17": "1",
                                    "18": "2017-10-10 00:00:00.0000000",
                                    "19": "860569",
                                    "20": "682860",
                                    "21": "NULL",
                                    "22": "NULL",
                                    "23": "NULL",
                                    "24": "NULL",
                                    "25": "NULL",
                                    "26": "NULL",
                                    "27": "NULL",
                                    "28": "NULL",
                                    "29": "NULL",
                                    "30": "NULL",
                                    "31": "NULL",
                                    "32": "NULL",
                                    "33": "NULL",
                                    "34": "NULL",
                                    "35": "NULL",
                                    "36": "NULL",
                                    "37": "NULL",
                                    "38": "NULL",
                                    "39": "NULL",
                                    "40": "NULL",
                                    "41": "1555429",
                                    "42": "1555429",
                                    "43": "NULL",
                                    "44": "NULL",
                                    "45": "NULL",
                                    "46": "NULL",
                                    "47": "NULL",
                                    "48": "NULL",
                                    "49": "NULL",
                                    "50": "1555429",
                                    "51": "1555429",
                                    "52": "1555429",
                                    "53": "1555429",
                                    "54": "1555429",
                                    "55": "1555429",
                                    "56": "1555429",
                                    "57": "1555429",
                                    "58": "1555429",
                                    "59": "1555429",
                                    "60": "1555429",
                                    "61": "1555429",
                                    "62": "26375000",
                                    "63": "NGUYEN THI HOI",
                                    "64": "NULL",
                                    "65": "NULL",
                                    "66": "NULL",
                                    "67": "NULL",
                                    "68": "NULL",
                                    "69": "NULL",
                                    "70": "NULL",
                                    "71": "NULL"
                                },
                                {
                                    "0": "2017-10-04 00:00:00.0000000",
                                    "1": "JOB_STG_T24_SAOKE_DEBT_COLLECTION_D01",
                                    "2": "2019-01-15 14:34:46.0000000",
                                    "3": "2017-10-04 00:00:00.0000000",
                                    "4": "2017-10-04 00:00:00.0000000",
                                    "5": "1000117090039590",
                                    "6": "LD1726460085",
                                    "7": "8032733",
                                    "8": "14238211008",
                                    "9": "1853000",
                                    "10": "NULL",
                                    "11": "NULL",
                                    "12": "NULL",
                                    "13": "NULL",
                                    "14": "NULL",
                                    "15": "NULL",
                                    "16": "24",
                                    "17": "1",
                                    "18": "2017-10-10 00:00:00.0000000",
                                    "19": "1032682",
                                    "20": "819432",
                                    "21": "NULL",
                                    "22": "NULL",
                                    "23": "NULL",
                                    "24": "NULL",
                                    "25": "NULL",
                                    "26": "NULL",
                                    "27": "NULL",
                                    "28": "NULL",
                                    "29": "NULL",
                                    "30": "NULL",
                                    "31": "NULL",
                                    "32": "NULL",
                                    "33": "NULL",
                                    "34": "NULL",
                                    "35": "NULL",
                                    "36": "NULL",
                                    "37": "NULL",
                                    "38": "NULL",
                                    "39": "NULL",
                                    "40": "NULL",
                                    "41": "1864114",
                                    "42": "11114",
                                    "43": "NULL",
                                    "44": "NULL",
                                    "45": "NULL",
                                    "46": "NULL",
                                    "47": "NULL",
                                    "48": "NULL",
                                    "49": "NULL",
                                    "50": "1864114",
                                    "51": "1864114",
                                    "52": "1864114",
                                    "53": "1864114",
                                    "54": "1864114",
                                    "55": "1864114",
                                    "56": "11114",
                                    "57": "11114",
                                    "58": "11114",
                                    "59": "11114",
                                    "60": "11114",
                                    "61": "11114",
                                    "62": "31650000",
                                    "63": "LE VAN PHAN",
                                    "64": "NULL",
                                    "65": "NULL",
                                    "66": "NULL",
                                    "67": "NULL",
                                    "68": "NULL",
                                    "69": "NULL",
                                    "70": "NULL",
                                    "71": "NULL"
                                },
                                {
                                    "0": "2017-10-04 00:00:00.0000000",
                                    "1": "JOB_STG_T24_SAOKE_DEBT_COLLECTION_D01",
                                    "2": "2019-01-15 14:34:46.0000000",
                                    "3": "2017-10-04 00:00:00.0000000",
                                    "4": "2017-10-04 00:00:00.0000000",
                                    "5": "1000117090039611",
                                    "6": "LD1726488132",
                                    "7": "8039134",
                                    "8": "14224816007",
                                    "9": "NULL",
                                    "10": "NULL",
                                    "11": "NULL",
                                    "12": "NULL",
                                    "13": "NULL",
                                    "14": "NULL",
                                    "15": "NULL",
                                    "16": "36",
                                    "17": "1",
                                    "18": "2017-10-10 00:00:00.0000000",
                                    "19": "428425",
                                    "20": "526055",
                                    "21": "NULL",
                                    "22": "NULL",
                                    "23": "NULL",
                                    "24": "NULL",
                                    "25": "NULL",
                                    "26": "NULL",
                                    "27": "NULL",
                                    "28": "NULL",
                                    "29": "NULL",
                                    "30": "NULL",
                                    "31": "NULL",
                                    "32": "NULL",
                                    "33": "NULL",
                                    "34": "NULL",
                                    "35": "NULL",
                                    "36": "NULL",
                                    "37": "NULL",
                                    "38": "NULL",
                                    "39": "NULL",
                                    "40": "NULL",
                                    "41": "966480",
                                    "42": "966480",
                                    "43": "NULL",
                                    "44": "NULL",
                                    "45": "NULL",
                                    "46": "NULL",
                                    "47": "NULL",
                                    "48": "NULL",
                                    "49": "NULL",
                                    "50": "966480",
                                    "51": "966480",
                                    "52": "966480",
                                    "53": "966480",
                                    "54": "966480",
                                    "55": "966480",
                                    "56": "966480",
                                    "57": "966480",
                                    "58": "966480",
                                    "59": "966480",
                                    "60": "966480",
                                    "61": "966480",
                                    "62": "21100000",
                                    "63": "LE THI NGOT",
                                    "64": "NULL",
                                    "65": "NULL",
                                    "66": "NULL",
                                    "67": "NULL",
                                    "68": "NULL",
                                    "69": "NULL",
                                    "70": "NULL",
                                    "71": "NULL"
                                },
                                {
                                    "0": "2017-10-04 00:00:00.0000000",
                                    "1": "JOB_STG_T24_SAOKE_DEBT_COLLECTION_D01",
                                    "2": "2019-01-15 14:34:46.0000000",
                                    "3": "2017-10-04 00:00:00.0000000",
                                    "4": "2017-10-04 00:00:00.0000000",
                                    "5": "1000117090039638",
                                    "6": "LD1726459650",
                                    "7": "8011822",
                                    "8": "14229599004",
                                    "9": "NULL",
                                    "10": "NULL",
                                    "11": "NULL",
                                    "12": "NULL",
                                    "13": "NULL",
                                    "14": "NULL",
                                    "15": "NULL",
                                    "16": "12",
                                    "17": "1",
                                    "18": "2017-10-10 00:00:00.0000000",
                                    "19": "1789689",
                                    "20": "863991",
                                    "21": "NULL",
                                    "22": "NULL",
                                    "23": "NULL",
                                    "24": "NULL",
                                    "25": "NULL",
                                    "26": "NULL",
                                    "27": "NULL",
                                    "28": "NULL",
                                    "29": "NULL",
                                    "30": "NULL",
                                    "31": "NULL",
                                    "32": "NULL",
                                    "33": "NULL",
                                    "34": "NULL",
                                    "35": "NULL",
                                    "36": "NULL",
                                    "37": "NULL",
                                    "38": "NULL",
                                    "39": "NULL",
                                    "40": "NULL",
                                    "41": "2665680",
                                    "42": "2665680",
                                    "43": "NULL",
                                    "44": "NULL",
                                    "45": "NULL",
                                    "46": "NULL",
                                    "47": "NULL",
                                    "48": "NULL",
                                    "49": "NULL",
                                    "50": "2665680",
                                    "51": "2665680",
                                    "52": "2665680",
                                    "53": "2665680",
                                    "54": "2665680",
                                    "55": "2665680",
                                    "56": "2665680",
                                    "57": "2665680",
                                    "58": "2665680",
                                    "59": "2665680",
                                    "60": "2665680",
                                    "61": "2665680",
                                    "62": "25338000",
                                    "63": "NGUYEN VAN QUYNH",
                                    "64": "NULL",
                                    "65": "NULL",
                                    "66": "NULL",
                                    "67": "NULL",
                                    "68": "NULL",
                                    "69": "NULL",
                                    "70": "NULL",
                                    "71": "NULL"
                                },
                                {
                                    "0": "2017-10-04 00:00:00.0000000",
                                    "1": "JOB_STG_T24_SAOKE_DEBT_COLLECTION_D01",
                                    "2": "2019-01-15 14:34:46.0000000",
                                    "3": "2017-10-04 00:00:00.0000000",
                                    "4": "2017-10-04 00:00:00.0000000",
                                    "5": "1000117090039654",
                                    "6": "LD1726429364",
                                    "7": "8010619",
                                    "8": "14223833005",
                                    "9": "NULL",
                                    "10": "NULL",
                                    "11": "NULL",
                                    "12": "NULL",
                                    "13": "NULL",
                                    "14": "NULL",
                                    "15": "NULL",
                                    "16": "24",
                                    "17": "1",
                                    "18": "2017-10-10 00:00:00.0000000",
                                    "19": "646319",
                                    "20": "702370",
                                    "21": "NULL",
                                    "22": "NULL",
                                    "23": "NULL",
                                    "24": "NULL",
                                    "25": "NULL",
                                    "26": "NULL",
                                    "27": "NULL",
                                    "28": "NULL",
                                    "29": "NULL",
                                    "30": "NULL",
                                    "31": "NULL",
                                    "32": "NULL",
                                    "33": "NULL",
                                    "34": "NULL",
                                    "35": "NULL",
                                    "36": "NULL",
                                    "37": "NULL",
                                    "38": "NULL",
                                    "39": "NULL",
                                    "40": "NULL",
                                    "41": "1360689",
                                    "42": "1360689",
                                    "43": "NULL",
                                    "44": "NULL",
                                    "45": "NULL",
                                    "46": "NULL",
                                    "47": "NULL",
                                    "48": "NULL",
                                    "49": "NULL",
                                    "50": "1360689",
                                    "51": "1360689",
                                    "52": "1360689",
                                    "53": "1360689",
                                    "54": "1360689",
                                    "55": "1360689",
                                    "56": "1360689",
                                    "57": "1360689",
                                    "58": "1360689",
                                    "59": "1360689",
                                    "60": "1360689",
                                    "61": "1360689",
                                    "62": "21100000",
                                    "63": "NGUYEN DINH HUY",
                                    "64": "NULL",
                                    "65": "NULL",
                                    "66": "NULL",
                                    "67": "NULL",
                                    "68": "NULL",
                                    "69": "NULL",
                                    "70": "NULL",
                                    "71": "NULL"
                                },
                                {
                                    "0": "2017-10-04 00:00:00.0000000",
                                    "1": "JOB_STG_T24_SAOKE_DEBT_COLLECTION_D01",
                                    "2": "2019-01-15 14:34:46.0000000",
                                    "3": "2017-10-04 00:00:00.0000000",
                                    "4": "2017-10-04 00:00:00.0000000",
                                    "5": "1000117090039671",
                                    "6": "LD1726499755",
                                    "7": "8009327",
                                    "8": "14214234007",
                                    "9": "NULL",
                                    "10": "NULL",
                                    "11": "NULL",
                                    "12": "NULL",
                                    "13": "NULL",
                                    "14": "NULL",
                                    "15": "NULL",
                                    "16": "30",
                                    "17": "1",
                                    "18": "2017-10-10 00:00:00.0000000",
                                    "19": "1266387",
                                    "20": "1236229",
                                    "21": "NULL",
                                    "22": "NULL",
                                    "23": "NULL",
                                    "24": "NULL",
                                    "25": "NULL",
                                    "26": "NULL",
                                    "27": "NULL",
                                    "28": "NULL",
                                    "29": "NULL",
                                    "30": "NULL",
                                    "31": "NULL",
                                    "32": "NULL",
                                    "33": "NULL",
                                    "34": "NULL",
                                    "35": "NULL",
                                    "36": "NULL",
                                    "37": "NULL",
                                    "38": "NULL",
                                    "39": "NULL",
                                    "40": "NULL",
                                    "41": "2514616",
                                    "42": "2514616",
                                    "43": "NULL",
                                    "44": "NULL",
                                    "45": "NULL",
                                    "46": "NULL",
                                    "47": "NULL",
                                    "48": "NULL",
                                    "49": "NULL",
                                    "50": "2514616",
                                    "51": "2514616",
                                    "52": "2514616",
                                    "53": "2514616",
                                    "54": "2514616",
                                    "55": "2514616",
                                    "56": "2514616",
                                    "57": "2514616",
                                    "58": "2514616",
                                    "59": "2514616",
                                    "60": "2514616",
                                    "61": "2514616",
                                    "62": "49585000",
                                    "63": "NGUYEN VAN DUNG",
                                    "64": "NULL",
                                    "65": "NULL",
                                    "66": "NULL",
                                    "67": "NULL",
                                    "68": "NULL",
                                    "69": "NULL",
                                    "70": "NULL",
                                    "71": "NULL"
                                },
                                {
                                    "0": "2017-10-04 00:00:00.0000000",
                                    "1": "JOB_STG_T24_SAOKE_DEBT_COLLECTION_D01",
                                    "2": "2019-01-15 14:34:46.0000000",
                                    "3": "2017-10-04 00:00:00.0000000",
                                    "4": "2017-10-04 00:00:00.0000000",
                                    "5": "1000117090039697",
                                    "6": "LD1726446003",
                                    "7": "8005563",
                                    "8": "14217451001",
                                    "9": "NULL",
                                    "10": "NULL",
                                    "11": "NULL",
                                    "12": "NULL",
                                    "13": "NULL",
                                    "14": "NULL",
                                    "15": "NULL",
                                    "16": "12",
                                    "17": "1",
                                    "18": "2017-10-10 00:00:00.0000000",
                                    "19": "1148926",
                                    "20": "791671",
                                    "21": "NULL",
                                    "22": "NULL",
                                    "23": "NULL",
                                    "24": "NULL",
                                    "25": "NULL",
                                    "26": "NULL",
                                    "27": "NULL",
                                    "28": "NULL",
                                    "29": "NULL",
                                    "30": "NULL",
                                    "31": "NULL",
                                    "32": "NULL",
                                    "33": "NULL",
                                    "34": "NULL",
                                    "35": "NULL",
                                    "36": "NULL",
                                    "37": "NULL",
                                    "38": "NULL",
                                    "39": "NULL",
                                    "40": "NULL",
                                    "41": "1952597",
                                    "42": "1952597",
                                    "43": "NULL",
                                    "44": "NULL",
                                    "45": "NULL",
                                    "46": "NULL",
                                    "47": "NULL",
                                    "48": "NULL",
                                    "49": "NULL",
                                    "50": "1952597",
                                    "51": "1952597",
                                    "52": "1952597",
                                    "53": "1952597",
                                    "54": "1952597",
                                    "55": "1952597",
                                    "56": "1952597",
                                    "57": "1952597",
                                    "58": "1952597",
                                    "59": "1952597",
                                    "60": "1952597",
                                    "61": "1952597",
                                    "62": "17200000",
                                    "63": "HUYNH THI MY NGOC",
                                    "64": "NULL",
                                    "65": "NULL",
                                    "66": "NULL",
                                    "67": "NULL",
                                    "68": "NULL",
                                    "69": "NULL",
                                    "70": "NULL",
                                    "71": "NULL"
                                },
                                {
                                    "0": "2017-10-04 00:00:00.0000000",
                                    "1": "JOB_STG_T24_SAOKE_DEBT_COLLECTION_D01",
                                    "2": "2019-01-15 14:34:46.0000000",
                                    "3": "2017-10-04 00:00:00.0000000",
                                    "4": "2017-10-04 00:00:00.0000000",
                                    "5": "1000117090039719",
                                    "6": "LD1726417801",
                                    "7": "8005386",
                                    "8": "14211961008",
                                    "9": "753000",
                                    "10": "NULL",
                                    "11": "NULL",
                                    "12": "NULL",
                                    "13": "NULL",
                                    "14": "NULL",
                                    "15": "NULL",
                                    "16": "12",
                                    "17": "1",
                                    "18": "2017-10-10 00:00:00.0000000",
                                    "19": "424375",
                                    "20": "328539",
                                    "21": "NULL",
                                    "22": "NULL",
                                    "23": "NULL",
                                    "24": "NULL",
                                    "25": "NULL",
                                    "26": "NULL",
                                    "27": "NULL",
                                    "28": "NULL",
                                    "29": "NULL",
                                    "30": "NULL",
                                    "31": "NULL",
                                    "32": "NULL",
                                    "33": "NULL",
                                    "34": "NULL",
                                    "35": "NULL",
                                    "36": "NULL",
                                    "37": "NULL",
                                    "38": "NULL",
                                    "39": "NULL",
                                    "40": "NULL",
                                    "41": "764914",
                                    "42": "11914",
                                    "43": "NULL",
                                    "44": "NULL",
                                    "45": "NULL",
                                    "46": "NULL",
                                    "47": "NULL",
                                    "48": "NULL",
                                    "49": "NULL",
                                    "50": "764914",
                                    "51": "764914",
                                    "52": "764914",
                                    "53": "764914",
                                    "54": "764914",
                                    "55": "764914",
                                    "56": "11914",
                                    "57": "11914",
                                    "58": "11914",
                                    "59": "11914",
                                    "60": "11914",
                                    "61": "11914",
                                    "62": "6489000",
                                    "63": "NGUYEN VAN NAM",
                                    "64": "NULL",
                                    "65": "NULL",
                                    "66": "NULL",
                                    "67": "NULL",
                                    "68": "NULL",
                                    "69": "NULL",
                                    "70": "NULL",
                                    "71": "NULL"
                                },
                                {
                                    "0": "2017-10-04 00:00:00.0000000",
                                    "1": "JOB_STG_T24_SAOKE_DEBT_COLLECTION_D01",
                                    "2": "2019-01-15 14:34:46.0000000",
                                    "3": "2017-10-04 00:00:00.0000000",
                                    "4": "2017-10-04 00:00:00.0000000",
                                    "5": "1000117090039735",
                                    "6": "LD1726463417",
                                    "7": "8019397",
                                    "8": "14227963008",
                                    "9": "NULL",
                                    "10": "NULL",
                                    "11": "NULL",
                                    "12": "NULL",
                                    "13": "NULL",
                                    "14": "NULL",
                                    "15": "NULL",
                                    "16": "33",
                                    "17": "1",
                                    "18": "2017-10-10 00:00:00.0000000",
                                    "19": "845531",
                                    "20": "1404740",
                                    "21": "NULL",
                                    "22": "NULL",
                                    "23": "NULL",
                                    "24": "NULL",
                                    "25": "NULL",
                                    "26": "NULL",
                                    "27": "NULL",
                                    "28": "NULL",
                                    "29": "NULL",
                                    "30": "NULL",
                                    "31": "NULL",
                                    "32": "NULL",
                                    "33": "NULL",
                                    "34": "NULL",
                                    "35": "NULL",
                                    "36": "NULL",
                                    "37": "NULL",
                                    "38": "NULL",
                                    "39": "NULL",
                                    "40": "NULL",
                                    "41": "2262271",
                                    "42": "2262271",
                                    "43": "NULL",
                                    "44": "NULL",
                                    "45": "NULL",
                                    "46": "NULL",
                                    "47": "NULL",
                                    "48": "NULL",
                                    "49": "NULL",
                                    "50": "2262271",
                                    "51": "2262271",
                                    "52": "2262271",
                                    "53": "2262271",
                                    "54": "2262271",
                                    "55": "2262271",
                                    "56": "2262271",
                                    "57": "2262271",
                                    "58": "2262271",
                                    "59": "2262271",
                                    "60": "2262271",
                                    "61": "2262271",
                                    "62": "42200000",
                                    "63": "HUYNH THI HOANG NGA",
                                    "64": "NULL",
                                    "65": "NULL",
                                    "66": "NULL",
                                    "67": "NULL",
                                    "68": "NULL",
                                    "69": "NULL",
                                    "70": "NULL",
                                    "71": "NULL"
                                }
                            ]
                        },
                        "text/html": "<table><tr><th>COB_DT</th><th>UPD_BY</th><th>UPD_TIME</th><th>RUN_DATE</th><th>Y_SEL_DATE</th><th>Y_CONTRACT_REF</th><th>LD_ID</th><th>CUS_ID</th><th>YID_AC</th><th>YWK_BAL</th><th>Y_SONGAY_QH</th><th>Y_SONGAY_QH_T1</th><th>Y_SONGAY_QH_T2</th><th>Y_SONGAY_QH_T3</th><th>Y_SONGAY_QH_T4</th><th>Y_SONGAY_QH_T5</th><th>Y_KYHAN</th><th>Y_KYTRANO</th><th>Y_DATE_NEXT</th><th>Y_PR_NEXT</th><th>Y_IN_NEXT</th><th>Y_QH_PR</th><th>Y_QH_IN</th><th>Y_QH_PE</th><th>YAMT_PE_T1</th><th>YAMT_PE_T2</th><th>YAMT_PE_T3</th><th>YAMT_PE_T4</th><th>YAMT_PE_T5</th><th>Y_QH_PS</th><th>YAMT_PS_T1</th><th>YAMT_PS_T2</th><th>YAMT_PS_T3</th><th>YAMT_PS_T4</th><th>YAMT_PS_T5</th><th>Y_TOTAL_PE</th><th>YTOTAL_PE_PS_T1</th><th>YTOTAL_PE_PS_T2</th><th>YTOTAL_PE_PS_T3</th><th>YTOTAL_PE_PS_T4</th><th>YTOTAL_PE_PS_T5</th><th>YTOTAL_AMT_LD</th><th>YTOTAL_AMT_LD_AC</th><th>Y_TOTAL_QH</th><th>Y_TOTAL_QH_AC</th><th>Y_TOTAL_QH_AC_T1</th><th>Y_TOTAL_QH_AC_T2</th><th>Y_TOTAL_QH_AC_T3</th><th>Y_TOTAL_QH_AC_T4</th><th>Y_TOTAL_QH_AC_T5</th><th>Y_TOTAL_REPAY</th><th>Y_TOTAL_REPAY_T1</th><th>Y_TOTAL_REPAY_T2</th><th>Y_TOTAL_REPAY_T3</th><th>Y_TOTAL_REPAY_T4</th><th>Y_TOTAL_REPAY_T5</th><th>Y_TOTAL_REPAY_AC</th><th>Y_TOTAL_REPAY_AC_T1</th><th>Y_TOTAL_REPAY_AC_T2</th><th>Y_TOTAL_REPAY_AC_T3</th><th>Y_TOTAL_REPAY_AC_T4</th><th>Y_TOTAL_REPAY_AC_T5</th><th>Y_DUNO_CL</th><th>CUS_NAME</th><th>Y_EARLY_RPY</th><th>Y_EARLY_RPY_DATE</th><th>YWK_BAL_43</th><th>Y_CATEGORY</th><th>PRODUCT_TYPE</th><th>Y_SUB_NAME</th><th>Y_DRAWDOWN_NET_AMT</th><th>Y_RFD_AMT</th></tr><tr><td>2017-10-04 00:00:00.0000000</td><td>JOB_STG_T24_SAOKE_DEBT_COLLECTION_D01</td><td>2019-01-15 14:34:46.0000000</td><td>2017-10-04 00:00:00.0000000</td><td>2017-10-04 00:00:00.0000000</td><td>1000117090039557</td><td>LD1726410507</td><td>8039183</td><td>14227760002</td><td>NULL</td><td>NULL</td><td>NULL</td><td>NULL</td><td>NULL</td><td>NULL</td><td>NULL</td><td>36</td><td>1</td><td>2017-10-10 00:00:00.0000000</td><td>562830</td><td>1053555</td><td>NULL</td><td>NULL</td><td>NULL</td><td>NULL</td><td>NULL</td><td>NULL</td><td>NULL</td><td>NULL</td><td>NULL</td><td>NULL</td><td>NULL</td><td>NULL</td><td>NULL</td><td>NULL</td><td>NULL</td><td>NULL</td><td>NULL</td><td>NULL</td><td>NULL</td><td>NULL</td><td>1628385</td><td>1628385</td><td>NULL</td><td>NULL</td><td>NULL</td><td>NULL</td><td>NULL</td><td>NULL</td><td>NULL</td><td>1628385</td><td>1628385</td><td>1628385</td><td>1628385</td><td>1628385</td><td>1628385</td><td>1628385</td><td>1628385</td><td>1628385</td><td>1628385</td><td>1628385</td><td>1628385</td><td>31650000</td><td>VO THI TUYET MAI</td><td>NULL</td><td>NULL</td><td>NULL</td><td>NULL</td><td>NULL</td><td>NULL</td><td>NULL</td><td>NULL</td></tr><tr><td>2017-10-04 00:00:00.0000000</td><td>JOB_STG_T24_SAOKE_DEBT_COLLECTION_D01</td><td>2019-01-15 14:34:46.0000000</td><td>2017-10-04 00:00:00.0000000</td><td>2017-10-04 00:00:00.0000000</td><td>1000117090039573</td><td>LD1726454485</td><td>8005837</td><td>14225333007</td><td>NULL</td><td>NULL</td><td>NULL</td><td>NULL</td><td>NULL</td><td>NULL</td><td>NULL</td><td>24</td><td>1</td><td>2017-10-10 00:00:00.0000000</td><td>860569</td><td>682860</td><td>NULL</td><td>NULL</td><td>NULL</td><td>NULL</td><td>NULL</td><td>NULL</td><td>NULL</td><td>NULL</td><td>NULL</td><td>NULL</td><td>NULL</td><td>NULL</td><td>NULL</td><td>NULL</td><td>NULL</td><td>NULL</td><td>NULL</td><td>NULL</td><td>NULL</td><td>NULL</td><td>1555429</td><td>1555429</td><td>NULL</td><td>NULL</td><td>NULL</td><td>NULL</td><td>NULL</td><td>NULL</td><td>NULL</td><td>1555429</td><td>1555429</td><td>1555429</td><td>1555429</td><td>1555429</td><td>1555429</td><td>1555429</td><td>1555429</td><td>1555429</td><td>1555429</td><td>1555429</td><td>1555429</td><td>26375000</td><td>NGUYEN THI HOI</td><td>NULL</td><td>NULL</td><td>NULL</td><td>NULL</td><td>NULL</td><td>NULL</td><td>NULL</td><td>NULL</td></tr><tr><td>2017-10-04 00:00:00.0000000</td><td>JOB_STG_T24_SAOKE_DEBT_COLLECTION_D01</td><td>2019-01-15 14:34:46.0000000</td><td>2017-10-04 00:00:00.0000000</td><td>2017-10-04 00:00:00.0000000</td><td>1000117090039590</td><td>LD1726460085</td><td>8032733</td><td>14238211008</td><td>1853000</td><td>NULL</td><td>NULL</td><td>NULL</td><td>NULL</td><td>NULL</td><td>NULL</td><td>24</td><td>1</td><td>2017-10-10 00:00:00.0000000</td><td>1032682</td><td>819432</td><td>NULL</td><td>NULL</td><td>NULL</td><td>NULL</td><td>NULL</td><td>NULL</td><td>NULL</td><td>NULL</td><td>NULL</td><td>NULL</td><td>NULL</td><td>NULL</td><td>NULL</td><td>NULL</td><td>NULL</td><td>NULL</td><td>NULL</td><td>NULL</td><td>NULL</td><td>NULL</td><td>1864114</td><td>11114</td><td>NULL</td><td>NULL</td><td>NULL</td><td>NULL</td><td>NULL</td><td>NULL</td><td>NULL</td><td>1864114</td><td>1864114</td><td>1864114</td><td>1864114</td><td>1864114</td><td>1864114</td><td>11114</td><td>11114</td><td>11114</td><td>11114</td><td>11114</td><td>11114</td><td>31650000</td><td>LE VAN PHAN</td><td>NULL</td><td>NULL</td><td>NULL</td><td>NULL</td><td>NULL</td><td>NULL</td><td>NULL</td><td>NULL</td></tr><tr><td>2017-10-04 00:00:00.0000000</td><td>JOB_STG_T24_SAOKE_DEBT_COLLECTION_D01</td><td>2019-01-15 14:34:46.0000000</td><td>2017-10-04 00:00:00.0000000</td><td>2017-10-04 00:00:00.0000000</td><td>1000117090039611</td><td>LD1726488132</td><td>8039134</td><td>14224816007</td><td>NULL</td><td>NULL</td><td>NULL</td><td>NULL</td><td>NULL</td><td>NULL</td><td>NULL</td><td>36</td><td>1</td><td>2017-10-10 00:00:00.0000000</td><td>428425</td><td>526055</td><td>NULL</td><td>NULL</td><td>NULL</td><td>NULL</td><td>NULL</td><td>NULL</td><td>NULL</td><td>NULL</td><td>NULL</td><td>NULL</td><td>NULL</td><td>NULL</td><td>NULL</td><td>NULL</td><td>NULL</td><td>NULL</td><td>NULL</td><td>NULL</td><td>NULL</td><td>NULL</td><td>966480</td><td>966480</td><td>NULL</td><td>NULL</td><td>NULL</td><td>NULL</td><td>NULL</td><td>NULL</td><td>NULL</td><td>966480</td><td>966480</td><td>966480</td><td>966480</td><td>966480</td><td>966480</td><td>966480</td><td>966480</td><td>966480</td><td>966480</td><td>966480</td><td>966480</td><td>21100000</td><td>LE THI NGOT</td><td>NULL</td><td>NULL</td><td>NULL</td><td>NULL</td><td>NULL</td><td>NULL</td><td>NULL</td><td>NULL</td></tr><tr><td>2017-10-04 00:00:00.0000000</td><td>JOB_STG_T24_SAOKE_DEBT_COLLECTION_D01</td><td>2019-01-15 14:34:46.0000000</td><td>2017-10-04 00:00:00.0000000</td><td>2017-10-04 00:00:00.0000000</td><td>1000117090039638</td><td>LD1726459650</td><td>8011822</td><td>14229599004</td><td>NULL</td><td>NULL</td><td>NULL</td><td>NULL</td><td>NULL</td><td>NULL</td><td>NULL</td><td>12</td><td>1</td><td>2017-10-10 00:00:00.0000000</td><td>1789689</td><td>863991</td><td>NULL</td><td>NULL</td><td>NULL</td><td>NULL</td><td>NULL</td><td>NULL</td><td>NULL</td><td>NULL</td><td>NULL</td><td>NULL</td><td>NULL</td><td>NULL</td><td>NULL</td><td>NULL</td><td>NULL</td><td>NULL</td><td>NULL</td><td>NULL</td><td>NULL</td><td>NULL</td><td>2665680</td><td>2665680</td><td>NULL</td><td>NULL</td><td>NULL</td><td>NULL</td><td>NULL</td><td>NULL</td><td>NULL</td><td>2665680</td><td>2665680</td><td>2665680</td><td>2665680</td><td>2665680</td><td>2665680</td><td>2665680</td><td>2665680</td><td>2665680</td><td>2665680</td><td>2665680</td><td>2665680</td><td>25338000</td><td>NGUYEN VAN QUYNH</td><td>NULL</td><td>NULL</td><td>NULL</td><td>NULL</td><td>NULL</td><td>NULL</td><td>NULL</td><td>NULL</td></tr><tr><td>2017-10-04 00:00:00.0000000</td><td>JOB_STG_T24_SAOKE_DEBT_COLLECTION_D01</td><td>2019-01-15 14:34:46.0000000</td><td>2017-10-04 00:00:00.0000000</td><td>2017-10-04 00:00:00.0000000</td><td>1000117090039654</td><td>LD1726429364</td><td>8010619</td><td>14223833005</td><td>NULL</td><td>NULL</td><td>NULL</td><td>NULL</td><td>NULL</td><td>NULL</td><td>NULL</td><td>24</td><td>1</td><td>2017-10-10 00:00:00.0000000</td><td>646319</td><td>702370</td><td>NULL</td><td>NULL</td><td>NULL</td><td>NULL</td><td>NULL</td><td>NULL</td><td>NULL</td><td>NULL</td><td>NULL</td><td>NULL</td><td>NULL</td><td>NULL</td><td>NULL</td><td>NULL</td><td>NULL</td><td>NULL</td><td>NULL</td><td>NULL</td><td>NULL</td><td>NULL</td><td>1360689</td><td>1360689</td><td>NULL</td><td>NULL</td><td>NULL</td><td>NULL</td><td>NULL</td><td>NULL</td><td>NULL</td><td>1360689</td><td>1360689</td><td>1360689</td><td>1360689</td><td>1360689</td><td>1360689</td><td>1360689</td><td>1360689</td><td>1360689</td><td>1360689</td><td>1360689</td><td>1360689</td><td>21100000</td><td>NGUYEN DINH HUY</td><td>NULL</td><td>NULL</td><td>NULL</td><td>NULL</td><td>NULL</td><td>NULL</td><td>NULL</td><td>NULL</td></tr><tr><td>2017-10-04 00:00:00.0000000</td><td>JOB_STG_T24_SAOKE_DEBT_COLLECTION_D01</td><td>2019-01-15 14:34:46.0000000</td><td>2017-10-04 00:00:00.0000000</td><td>2017-10-04 00:00:00.0000000</td><td>1000117090039671</td><td>LD1726499755</td><td>8009327</td><td>14214234007</td><td>NULL</td><td>NULL</td><td>NULL</td><td>NULL</td><td>NULL</td><td>NULL</td><td>NULL</td><td>30</td><td>1</td><td>2017-10-10 00:00:00.0000000</td><td>1266387</td><td>1236229</td><td>NULL</td><td>NULL</td><td>NULL</td><td>NULL</td><td>NULL</td><td>NULL</td><td>NULL</td><td>NULL</td><td>NULL</td><td>NULL</td><td>NULL</td><td>NULL</td><td>NULL</td><td>NULL</td><td>NULL</td><td>NULL</td><td>NULL</td><td>NULL</td><td>NULL</td><td>NULL</td><td>2514616</td><td>2514616</td><td>NULL</td><td>NULL</td><td>NULL</td><td>NULL</td><td>NULL</td><td>NULL</td><td>NULL</td><td>2514616</td><td>2514616</td><td>2514616</td><td>2514616</td><td>2514616</td><td>2514616</td><td>2514616</td><td>2514616</td><td>2514616</td><td>2514616</td><td>2514616</td><td>2514616</td><td>49585000</td><td>NGUYEN VAN DUNG</td><td>NULL</td><td>NULL</td><td>NULL</td><td>NULL</td><td>NULL</td><td>NULL</td><td>NULL</td><td>NULL</td></tr><tr><td>2017-10-04 00:00:00.0000000</td><td>JOB_STG_T24_SAOKE_DEBT_COLLECTION_D01</td><td>2019-01-15 14:34:46.0000000</td><td>2017-10-04 00:00:00.0000000</td><td>2017-10-04 00:00:00.0000000</td><td>1000117090039697</td><td>LD1726446003</td><td>8005563</td><td>14217451001</td><td>NULL</td><td>NULL</td><td>NULL</td><td>NULL</td><td>NULL</td><td>NULL</td><td>NULL</td><td>12</td><td>1</td><td>2017-10-10 00:00:00.0000000</td><td>1148926</td><td>791671</td><td>NULL</td><td>NULL</td><td>NULL</td><td>NULL</td><td>NULL</td><td>NULL</td><td>NULL</td><td>NULL</td><td>NULL</td><td>NULL</td><td>NULL</td><td>NULL</td><td>NULL</td><td>NULL</td><td>NULL</td><td>NULL</td><td>NULL</td><td>NULL</td><td>NULL</td><td>NULL</td><td>1952597</td><td>1952597</td><td>NULL</td><td>NULL</td><td>NULL</td><td>NULL</td><td>NULL</td><td>NULL</td><td>NULL</td><td>1952597</td><td>1952597</td><td>1952597</td><td>1952597</td><td>1952597</td><td>1952597</td><td>1952597</td><td>1952597</td><td>1952597</td><td>1952597</td><td>1952597</td><td>1952597</td><td>17200000</td><td>HUYNH THI MY NGOC</td><td>NULL</td><td>NULL</td><td>NULL</td><td>NULL</td><td>NULL</td><td>NULL</td><td>NULL</td><td>NULL</td></tr><tr><td>2017-10-04 00:00:00.0000000</td><td>JOB_STG_T24_SAOKE_DEBT_COLLECTION_D01</td><td>2019-01-15 14:34:46.0000000</td><td>2017-10-04 00:00:00.0000000</td><td>2017-10-04 00:00:00.0000000</td><td>1000117090039719</td><td>LD1726417801</td><td>8005386</td><td>14211961008</td><td>753000</td><td>NULL</td><td>NULL</td><td>NULL</td><td>NULL</td><td>NULL</td><td>NULL</td><td>12</td><td>1</td><td>2017-10-10 00:00:00.0000000</td><td>424375</td><td>328539</td><td>NULL</td><td>NULL</td><td>NULL</td><td>NULL</td><td>NULL</td><td>NULL</td><td>NULL</td><td>NULL</td><td>NULL</td><td>NULL</td><td>NULL</td><td>NULL</td><td>NULL</td><td>NULL</td><td>NULL</td><td>NULL</td><td>NULL</td><td>NULL</td><td>NULL</td><td>NULL</td><td>764914</td><td>11914</td><td>NULL</td><td>NULL</td><td>NULL</td><td>NULL</td><td>NULL</td><td>NULL</td><td>NULL</td><td>764914</td><td>764914</td><td>764914</td><td>764914</td><td>764914</td><td>764914</td><td>11914</td><td>11914</td><td>11914</td><td>11914</td><td>11914</td><td>11914</td><td>6489000</td><td>NGUYEN VAN NAM</td><td>NULL</td><td>NULL</td><td>NULL</td><td>NULL</td><td>NULL</td><td>NULL</td><td>NULL</td><td>NULL</td></tr><tr><td>2017-10-04 00:00:00.0000000</td><td>JOB_STG_T24_SAOKE_DEBT_COLLECTION_D01</td><td>2019-01-15 14:34:46.0000000</td><td>2017-10-04 00:00:00.0000000</td><td>2017-10-04 00:00:00.0000000</td><td>1000117090039735</td><td>LD1726463417</td><td>8019397</td><td>14227963008</td><td>NULL</td><td>NULL</td><td>NULL</td><td>NULL</td><td>NULL</td><td>NULL</td><td>NULL</td><td>33</td><td>1</td><td>2017-10-10 00:00:00.0000000</td><td>845531</td><td>1404740</td><td>NULL</td><td>NULL</td><td>NULL</td><td>NULL</td><td>NULL</td><td>NULL</td><td>NULL</td><td>NULL</td><td>NULL</td><td>NULL</td><td>NULL</td><td>NULL</td><td>NULL</td><td>NULL</td><td>NULL</td><td>NULL</td><td>NULL</td><td>NULL</td><td>NULL</td><td>NULL</td><td>2262271</td><td>2262271</td><td>NULL</td><td>NULL</td><td>NULL</td><td>NULL</td><td>NULL</td><td>NULL</td><td>NULL</td><td>2262271</td><td>2262271</td><td>2262271</td><td>2262271</td><td>2262271</td><td>2262271</td><td>2262271</td><td>2262271</td><td>2262271</td><td>2262271</td><td>2262271</td><td>2262271</td><td>42200000</td><td>HUYNH THI HOANG NGA</td><td>NULL</td><td>NULL</td><td>NULL</td><td>NULL</td><td>NULL</td><td>NULL</td><td>NULL</td><td>NULL</td></tr></table>"
                    },
                    "metadata": {}
                }
            ],
            "execution_count": 3
        },
        {
            "cell_type": "markdown",
            "source": [
                "Có thể nhận thấy rõ sự khác biệt về tốc độ truy vấn của 2 cách thức với cùng một câu lệnh query ra 10 dòng đầu ở bảng `STG_T24_SAOKE_DEBT_COLLECTION`:\n",
                "\n",
                "- **Truy vấn trực tiếp**: Total execution time: 00:00:03.226\n",
                "- **Truy vấn qua OPENQUERY**: Total execution time: 00:00:00.379\n",
                "\n",
                "Lưu ý rằng ta còn có thể cải thiện tốc độ truy vấn hơn nữa nếu chuyển điều kiện \"TOP 10\" từ SQL Server vào bên trong câu truy vấn PL/SQL như sau:"
            ],
            "metadata": {
                "azdata_cell_guid": "17649423-aacf-471f-93d8-b42bb63d1dcb"
            }
        },
        {
            "cell_type": "code",
            "source": [
                "-- rownum <= N tương đương với top N\n",
                "SELECT * FROM \n",
                "OPENQUERY(ORASRV ,'Select * from IT_USER.STG_T24_SAOKE_DEBT_COLLECTION where rownum <= 10' )"
            ],
            "metadata": {
                "azdata_cell_guid": "52aa3fde-1c4c-4947-83fa-fe1a3b056adb"
            },
            "outputs": [
                {
                    "output_type": "display_data",
                    "data": {
                        "text/html": "(10 rows affected)"
                    },
                    "metadata": {}
                },
                {
                    "output_type": "display_data",
                    "data": {
                        "text/html": "Total execution time: 00:00:00.229"
                    },
                    "metadata": {}
                },
                {
                    "output_type": "execute_result",
                    "execution_count": 4,
                    "data": {
                        "application/vnd.dataresource+json": {
                            "schema": {
                                "fields": [
                                    {
                                        "name": "COB_DT"
                                    },
                                    {
                                        "name": "UPD_BY"
                                    },
                                    {
                                        "name": "UPD_TIME"
                                    },
                                    {
                                        "name": "RUN_DATE"
                                    },
                                    {
                                        "name": "Y_SEL_DATE"
                                    },
                                    {
                                        "name": "Y_CONTRACT_REF"
                                    },
                                    {
                                        "name": "LD_ID"
                                    },
                                    {
                                        "name": "CUS_ID"
                                    },
                                    {
                                        "name": "YID_AC"
                                    },
                                    {
                                        "name": "YWK_BAL"
                                    },
                                    {
                                        "name": "Y_SONGAY_QH"
                                    },
                                    {
                                        "name": "Y_SONGAY_QH_T1"
                                    },
                                    {
                                        "name": "Y_SONGAY_QH_T2"
                                    },
                                    {
                                        "name": "Y_SONGAY_QH_T3"
                                    },
                                    {
                                        "name": "Y_SONGAY_QH_T4"
                                    },
                                    {
                                        "name": "Y_SONGAY_QH_T5"
                                    },
                                    {
                                        "name": "Y_KYHAN"
                                    },
                                    {
                                        "name": "Y_KYTRANO"
                                    },
                                    {
                                        "name": "Y_DATE_NEXT"
                                    },
                                    {
                                        "name": "Y_PR_NEXT"
                                    },
                                    {
                                        "name": "Y_IN_NEXT"
                                    },
                                    {
                                        "name": "Y_QH_PR"
                                    },
                                    {
                                        "name": "Y_QH_IN"
                                    },
                                    {
                                        "name": "Y_QH_PE"
                                    },
                                    {
                                        "name": "YAMT_PE_T1"
                                    },
                                    {
                                        "name": "YAMT_PE_T2"
                                    },
                                    {
                                        "name": "YAMT_PE_T3"
                                    },
                                    {
                                        "name": "YAMT_PE_T4"
                                    },
                                    {
                                        "name": "YAMT_PE_T5"
                                    },
                                    {
                                        "name": "Y_QH_PS"
                                    },
                                    {
                                        "name": "YAMT_PS_T1"
                                    },
                                    {
                                        "name": "YAMT_PS_T2"
                                    },
                                    {
                                        "name": "YAMT_PS_T3"
                                    },
                                    {
                                        "name": "YAMT_PS_T4"
                                    },
                                    {
                                        "name": "YAMT_PS_T5"
                                    },
                                    {
                                        "name": "Y_TOTAL_PE"
                                    },
                                    {
                                        "name": "YTOTAL_PE_PS_T1"
                                    },
                                    {
                                        "name": "YTOTAL_PE_PS_T2"
                                    },
                                    {
                                        "name": "YTOTAL_PE_PS_T3"
                                    },
                                    {
                                        "name": "YTOTAL_PE_PS_T4"
                                    },
                                    {
                                        "name": "YTOTAL_PE_PS_T5"
                                    },
                                    {
                                        "name": "YTOTAL_AMT_LD"
                                    },
                                    {
                                        "name": "YTOTAL_AMT_LD_AC"
                                    },
                                    {
                                        "name": "Y_TOTAL_QH"
                                    },
                                    {
                                        "name": "Y_TOTAL_QH_AC"
                                    },
                                    {
                                        "name": "Y_TOTAL_QH_AC_T1"
                                    },
                                    {
                                        "name": "Y_TOTAL_QH_AC_T2"
                                    },
                                    {
                                        "name": "Y_TOTAL_QH_AC_T3"
                                    },
                                    {
                                        "name": "Y_TOTAL_QH_AC_T4"
                                    },
                                    {
                                        "name": "Y_TOTAL_QH_AC_T5"
                                    },
                                    {
                                        "name": "Y_TOTAL_REPAY"
                                    },
                                    {
                                        "name": "Y_TOTAL_REPAY_T1"
                                    },
                                    {
                                        "name": "Y_TOTAL_REPAY_T2"
                                    },
                                    {
                                        "name": "Y_TOTAL_REPAY_T3"
                                    },
                                    {
                                        "name": "Y_TOTAL_REPAY_T4"
                                    },
                                    {
                                        "name": "Y_TOTAL_REPAY_T5"
                                    },
                                    {
                                        "name": "Y_TOTAL_REPAY_AC"
                                    },
                                    {
                                        "name": "Y_TOTAL_REPAY_AC_T1"
                                    },
                                    {
                                        "name": "Y_TOTAL_REPAY_AC_T2"
                                    },
                                    {
                                        "name": "Y_TOTAL_REPAY_AC_T3"
                                    },
                                    {
                                        "name": "Y_TOTAL_REPAY_AC_T4"
                                    },
                                    {
                                        "name": "Y_TOTAL_REPAY_AC_T5"
                                    },
                                    {
                                        "name": "Y_DUNO_CL"
                                    },
                                    {
                                        "name": "CUS_NAME"
                                    },
                                    {
                                        "name": "Y_EARLY_RPY"
                                    },
                                    {
                                        "name": "Y_EARLY_RPY_DATE"
                                    },
                                    {
                                        "name": "YWK_BAL_43"
                                    },
                                    {
                                        "name": "Y_CATEGORY"
                                    },
                                    {
                                        "name": "PRODUCT_TYPE"
                                    },
                                    {
                                        "name": "Y_SUB_NAME"
                                    },
                                    {
                                        "name": "Y_DRAWDOWN_NET_AMT"
                                    },
                                    {
                                        "name": "Y_RFD_AMT"
                                    }
                                ]
                            },
                            "data": [
                                {
                                    "0": "2017-10-04 00:00:00.0000000",
                                    "1": "JOB_STG_T24_SAOKE_DEBT_COLLECTION_D01",
                                    "2": "2019-01-15 14:34:46.0000000",
                                    "3": "2017-10-04 00:00:00.0000000",
                                    "4": "2017-10-04 00:00:00.0000000",
                                    "5": "1000117090039557",
                                    "6": "LD1726410507",
                                    "7": "8039183",
                                    "8": "14227760002",
                                    "9": "NULL",
                                    "10": "NULL",
                                    "11": "NULL",
                                    "12": "NULL",
                                    "13": "NULL",
                                    "14": "NULL",
                                    "15": "NULL",
                                    "16": "36",
                                    "17": "1",
                                    "18": "2017-10-10 00:00:00.0000000",
                                    "19": "562830",
                                    "20": "1053555",
                                    "21": "NULL",
                                    "22": "NULL",
                                    "23": "NULL",
                                    "24": "NULL",
                                    "25": "NULL",
                                    "26": "NULL",
                                    "27": "NULL",
                                    "28": "NULL",
                                    "29": "NULL",
                                    "30": "NULL",
                                    "31": "NULL",
                                    "32": "NULL",
                                    "33": "NULL",
                                    "34": "NULL",
                                    "35": "NULL",
                                    "36": "NULL",
                                    "37": "NULL",
                                    "38": "NULL",
                                    "39": "NULL",
                                    "40": "NULL",
                                    "41": "1628385",
                                    "42": "1628385",
                                    "43": "NULL",
                                    "44": "NULL",
                                    "45": "NULL",
                                    "46": "NULL",
                                    "47": "NULL",
                                    "48": "NULL",
                                    "49": "NULL",
                                    "50": "1628385",
                                    "51": "1628385",
                                    "52": "1628385",
                                    "53": "1628385",
                                    "54": "1628385",
                                    "55": "1628385",
                                    "56": "1628385",
                                    "57": "1628385",
                                    "58": "1628385",
                                    "59": "1628385",
                                    "60": "1628385",
                                    "61": "1628385",
                                    "62": "31650000",
                                    "63": "VO THI TUYET MAI",
                                    "64": "NULL",
                                    "65": "NULL",
                                    "66": "NULL",
                                    "67": "NULL",
                                    "68": "NULL",
                                    "69": "NULL",
                                    "70": "NULL",
                                    "71": "NULL"
                                },
                                {
                                    "0": "2017-10-04 00:00:00.0000000",
                                    "1": "JOB_STG_T24_SAOKE_DEBT_COLLECTION_D01",
                                    "2": "2019-01-15 14:34:46.0000000",
                                    "3": "2017-10-04 00:00:00.0000000",
                                    "4": "2017-10-04 00:00:00.0000000",
                                    "5": "1000117090039573",
                                    "6": "LD1726454485",
                                    "7": "8005837",
                                    "8": "14225333007",
                                    "9": "NULL",
                                    "10": "NULL",
                                    "11": "NULL",
                                    "12": "NULL",
                                    "13": "NULL",
                                    "14": "NULL",
                                    "15": "NULL",
                                    "16": "24",
                                    "17": "1",
                                    "18": "2017-10-10 00:00:00.0000000",
                                    "19": "860569",
                                    "20": "682860",
                                    "21": "NULL",
                                    "22": "NULL",
                                    "23": "NULL",
                                    "24": "NULL",
                                    "25": "NULL",
                                    "26": "NULL",
                                    "27": "NULL",
                                    "28": "NULL",
                                    "29": "NULL",
                                    "30": "NULL",
                                    "31": "NULL",
                                    "32": "NULL",
                                    "33": "NULL",
                                    "34": "NULL",
                                    "35": "NULL",
                                    "36": "NULL",
                                    "37": "NULL",
                                    "38": "NULL",
                                    "39": "NULL",
                                    "40": "NULL",
                                    "41": "1555429",
                                    "42": "1555429",
                                    "43": "NULL",
                                    "44": "NULL",
                                    "45": "NULL",
                                    "46": "NULL",
                                    "47": "NULL",
                                    "48": "NULL",
                                    "49": "NULL",
                                    "50": "1555429",
                                    "51": "1555429",
                                    "52": "1555429",
                                    "53": "1555429",
                                    "54": "1555429",
                                    "55": "1555429",
                                    "56": "1555429",
                                    "57": "1555429",
                                    "58": "1555429",
                                    "59": "1555429",
                                    "60": "1555429",
                                    "61": "1555429",
                                    "62": "26375000",
                                    "63": "NGUYEN THI HOI",
                                    "64": "NULL",
                                    "65": "NULL",
                                    "66": "NULL",
                                    "67": "NULL",
                                    "68": "NULL",
                                    "69": "NULL",
                                    "70": "NULL",
                                    "71": "NULL"
                                },
                                {
                                    "0": "2017-10-04 00:00:00.0000000",
                                    "1": "JOB_STG_T24_SAOKE_DEBT_COLLECTION_D01",
                                    "2": "2019-01-15 14:34:46.0000000",
                                    "3": "2017-10-04 00:00:00.0000000",
                                    "4": "2017-10-04 00:00:00.0000000",
                                    "5": "1000117090039590",
                                    "6": "LD1726460085",
                                    "7": "8032733",
                                    "8": "14238211008",
                                    "9": "1853000",
                                    "10": "NULL",
                                    "11": "NULL",
                                    "12": "NULL",
                                    "13": "NULL",
                                    "14": "NULL",
                                    "15": "NULL",
                                    "16": "24",
                                    "17": "1",
                                    "18": "2017-10-10 00:00:00.0000000",
                                    "19": "1032682",
                                    "20": "819432",
                                    "21": "NULL",
                                    "22": "NULL",
                                    "23": "NULL",
                                    "24": "NULL",
                                    "25": "NULL",
                                    "26": "NULL",
                                    "27": "NULL",
                                    "28": "NULL",
                                    "29": "NULL",
                                    "30": "NULL",
                                    "31": "NULL",
                                    "32": "NULL",
                                    "33": "NULL",
                                    "34": "NULL",
                                    "35": "NULL",
                                    "36": "NULL",
                                    "37": "NULL",
                                    "38": "NULL",
                                    "39": "NULL",
                                    "40": "NULL",
                                    "41": "1864114",
                                    "42": "11114",
                                    "43": "NULL",
                                    "44": "NULL",
                                    "45": "NULL",
                                    "46": "NULL",
                                    "47": "NULL",
                                    "48": "NULL",
                                    "49": "NULL",
                                    "50": "1864114",
                                    "51": "1864114",
                                    "52": "1864114",
                                    "53": "1864114",
                                    "54": "1864114",
                                    "55": "1864114",
                                    "56": "11114",
                                    "57": "11114",
                                    "58": "11114",
                                    "59": "11114",
                                    "60": "11114",
                                    "61": "11114",
                                    "62": "31650000",
                                    "63": "LE VAN PHAN",
                                    "64": "NULL",
                                    "65": "NULL",
                                    "66": "NULL",
                                    "67": "NULL",
                                    "68": "NULL",
                                    "69": "NULL",
                                    "70": "NULL",
                                    "71": "NULL"
                                },
                                {
                                    "0": "2017-10-04 00:00:00.0000000",
                                    "1": "JOB_STG_T24_SAOKE_DEBT_COLLECTION_D01",
                                    "2": "2019-01-15 14:34:46.0000000",
                                    "3": "2017-10-04 00:00:00.0000000",
                                    "4": "2017-10-04 00:00:00.0000000",
                                    "5": "1000117090039611",
                                    "6": "LD1726488132",
                                    "7": "8039134",
                                    "8": "14224816007",
                                    "9": "NULL",
                                    "10": "NULL",
                                    "11": "NULL",
                                    "12": "NULL",
                                    "13": "NULL",
                                    "14": "NULL",
                                    "15": "NULL",
                                    "16": "36",
                                    "17": "1",
                                    "18": "2017-10-10 00:00:00.0000000",
                                    "19": "428425",
                                    "20": "526055",
                                    "21": "NULL",
                                    "22": "NULL",
                                    "23": "NULL",
                                    "24": "NULL",
                                    "25": "NULL",
                                    "26": "NULL",
                                    "27": "NULL",
                                    "28": "NULL",
                                    "29": "NULL",
                                    "30": "NULL",
                                    "31": "NULL",
                                    "32": "NULL",
                                    "33": "NULL",
                                    "34": "NULL",
                                    "35": "NULL",
                                    "36": "NULL",
                                    "37": "NULL",
                                    "38": "NULL",
                                    "39": "NULL",
                                    "40": "NULL",
                                    "41": "966480",
                                    "42": "966480",
                                    "43": "NULL",
                                    "44": "NULL",
                                    "45": "NULL",
                                    "46": "NULL",
                                    "47": "NULL",
                                    "48": "NULL",
                                    "49": "NULL",
                                    "50": "966480",
                                    "51": "966480",
                                    "52": "966480",
                                    "53": "966480",
                                    "54": "966480",
                                    "55": "966480",
                                    "56": "966480",
                                    "57": "966480",
                                    "58": "966480",
                                    "59": "966480",
                                    "60": "966480",
                                    "61": "966480",
                                    "62": "21100000",
                                    "63": "LE THI NGOT",
                                    "64": "NULL",
                                    "65": "NULL",
                                    "66": "NULL",
                                    "67": "NULL",
                                    "68": "NULL",
                                    "69": "NULL",
                                    "70": "NULL",
                                    "71": "NULL"
                                },
                                {
                                    "0": "2017-10-04 00:00:00.0000000",
                                    "1": "JOB_STG_T24_SAOKE_DEBT_COLLECTION_D01",
                                    "2": "2019-01-15 14:34:46.0000000",
                                    "3": "2017-10-04 00:00:00.0000000",
                                    "4": "2017-10-04 00:00:00.0000000",
                                    "5": "1000117090039638",
                                    "6": "LD1726459650",
                                    "7": "8011822",
                                    "8": "14229599004",
                                    "9": "NULL",
                                    "10": "NULL",
                                    "11": "NULL",
                                    "12": "NULL",
                                    "13": "NULL",
                                    "14": "NULL",
                                    "15": "NULL",
                                    "16": "12",
                                    "17": "1",
                                    "18": "2017-10-10 00:00:00.0000000",
                                    "19": "1789689",
                                    "20": "863991",
                                    "21": "NULL",
                                    "22": "NULL",
                                    "23": "NULL",
                                    "24": "NULL",
                                    "25": "NULL",
                                    "26": "NULL",
                                    "27": "NULL",
                                    "28": "NULL",
                                    "29": "NULL",
                                    "30": "NULL",
                                    "31": "NULL",
                                    "32": "NULL",
                                    "33": "NULL",
                                    "34": "NULL",
                                    "35": "NULL",
                                    "36": "NULL",
                                    "37": "NULL",
                                    "38": "NULL",
                                    "39": "NULL",
                                    "40": "NULL",
                                    "41": "2665680",
                                    "42": "2665680",
                                    "43": "NULL",
                                    "44": "NULL",
                                    "45": "NULL",
                                    "46": "NULL",
                                    "47": "NULL",
                                    "48": "NULL",
                                    "49": "NULL",
                                    "50": "2665680",
                                    "51": "2665680",
                                    "52": "2665680",
                                    "53": "2665680",
                                    "54": "2665680",
                                    "55": "2665680",
                                    "56": "2665680",
                                    "57": "2665680",
                                    "58": "2665680",
                                    "59": "2665680",
                                    "60": "2665680",
                                    "61": "2665680",
                                    "62": "25338000",
                                    "63": "NGUYEN VAN QUYNH",
                                    "64": "NULL",
                                    "65": "NULL",
                                    "66": "NULL",
                                    "67": "NULL",
                                    "68": "NULL",
                                    "69": "NULL",
                                    "70": "NULL",
                                    "71": "NULL"
                                },
                                {
                                    "0": "2017-10-04 00:00:00.0000000",
                                    "1": "JOB_STG_T24_SAOKE_DEBT_COLLECTION_D01",
                                    "2": "2019-01-15 14:34:46.0000000",
                                    "3": "2017-10-04 00:00:00.0000000",
                                    "4": "2017-10-04 00:00:00.0000000",
                                    "5": "1000117090039654",
                                    "6": "LD1726429364",
                                    "7": "8010619",
                                    "8": "14223833005",
                                    "9": "NULL",
                                    "10": "NULL",
                                    "11": "NULL",
                                    "12": "NULL",
                                    "13": "NULL",
                                    "14": "NULL",
                                    "15": "NULL",
                                    "16": "24",
                                    "17": "1",
                                    "18": "2017-10-10 00:00:00.0000000",
                                    "19": "646319",
                                    "20": "702370",
                                    "21": "NULL",
                                    "22": "NULL",
                                    "23": "NULL",
                                    "24": "NULL",
                                    "25": "NULL",
                                    "26": "NULL",
                                    "27": "NULL",
                                    "28": "NULL",
                                    "29": "NULL",
                                    "30": "NULL",
                                    "31": "NULL",
                                    "32": "NULL",
                                    "33": "NULL",
                                    "34": "NULL",
                                    "35": "NULL",
                                    "36": "NULL",
                                    "37": "NULL",
                                    "38": "NULL",
                                    "39": "NULL",
                                    "40": "NULL",
                                    "41": "1360689",
                                    "42": "1360689",
                                    "43": "NULL",
                                    "44": "NULL",
                                    "45": "NULL",
                                    "46": "NULL",
                                    "47": "NULL",
                                    "48": "NULL",
                                    "49": "NULL",
                                    "50": "1360689",
                                    "51": "1360689",
                                    "52": "1360689",
                                    "53": "1360689",
                                    "54": "1360689",
                                    "55": "1360689",
                                    "56": "1360689",
                                    "57": "1360689",
                                    "58": "1360689",
                                    "59": "1360689",
                                    "60": "1360689",
                                    "61": "1360689",
                                    "62": "21100000",
                                    "63": "NGUYEN DINH HUY",
                                    "64": "NULL",
                                    "65": "NULL",
                                    "66": "NULL",
                                    "67": "NULL",
                                    "68": "NULL",
                                    "69": "NULL",
                                    "70": "NULL",
                                    "71": "NULL"
                                },
                                {
                                    "0": "2017-10-04 00:00:00.0000000",
                                    "1": "JOB_STG_T24_SAOKE_DEBT_COLLECTION_D01",
                                    "2": "2019-01-15 14:34:46.0000000",
                                    "3": "2017-10-04 00:00:00.0000000",
                                    "4": "2017-10-04 00:00:00.0000000",
                                    "5": "1000117090039671",
                                    "6": "LD1726499755",
                                    "7": "8009327",
                                    "8": "14214234007",
                                    "9": "NULL",
                                    "10": "NULL",
                                    "11": "NULL",
                                    "12": "NULL",
                                    "13": "NULL",
                                    "14": "NULL",
                                    "15": "NULL",
                                    "16": "30",
                                    "17": "1",
                                    "18": "2017-10-10 00:00:00.0000000",
                                    "19": "1266387",
                                    "20": "1236229",
                                    "21": "NULL",
                                    "22": "NULL",
                                    "23": "NULL",
                                    "24": "NULL",
                                    "25": "NULL",
                                    "26": "NULL",
                                    "27": "NULL",
                                    "28": "NULL",
                                    "29": "NULL",
                                    "30": "NULL",
                                    "31": "NULL",
                                    "32": "NULL",
                                    "33": "NULL",
                                    "34": "NULL",
                                    "35": "NULL",
                                    "36": "NULL",
                                    "37": "NULL",
                                    "38": "NULL",
                                    "39": "NULL",
                                    "40": "NULL",
                                    "41": "2514616",
                                    "42": "2514616",
                                    "43": "NULL",
                                    "44": "NULL",
                                    "45": "NULL",
                                    "46": "NULL",
                                    "47": "NULL",
                                    "48": "NULL",
                                    "49": "NULL",
                                    "50": "2514616",
                                    "51": "2514616",
                                    "52": "2514616",
                                    "53": "2514616",
                                    "54": "2514616",
                                    "55": "2514616",
                                    "56": "2514616",
                                    "57": "2514616",
                                    "58": "2514616",
                                    "59": "2514616",
                                    "60": "2514616",
                                    "61": "2514616",
                                    "62": "49585000",
                                    "63": "NGUYEN VAN DUNG",
                                    "64": "NULL",
                                    "65": "NULL",
                                    "66": "NULL",
                                    "67": "NULL",
                                    "68": "NULL",
                                    "69": "NULL",
                                    "70": "NULL",
                                    "71": "NULL"
                                },
                                {
                                    "0": "2017-10-04 00:00:00.0000000",
                                    "1": "JOB_STG_T24_SAOKE_DEBT_COLLECTION_D01",
                                    "2": "2019-01-15 14:34:46.0000000",
                                    "3": "2017-10-04 00:00:00.0000000",
                                    "4": "2017-10-04 00:00:00.0000000",
                                    "5": "1000117090039697",
                                    "6": "LD1726446003",
                                    "7": "8005563",
                                    "8": "14217451001",
                                    "9": "NULL",
                                    "10": "NULL",
                                    "11": "NULL",
                                    "12": "NULL",
                                    "13": "NULL",
                                    "14": "NULL",
                                    "15": "NULL",
                                    "16": "12",
                                    "17": "1",
                                    "18": "2017-10-10 00:00:00.0000000",
                                    "19": "1148926",
                                    "20": "791671",
                                    "21": "NULL",
                                    "22": "NULL",
                                    "23": "NULL",
                                    "24": "NULL",
                                    "25": "NULL",
                                    "26": "NULL",
                                    "27": "NULL",
                                    "28": "NULL",
                                    "29": "NULL",
                                    "30": "NULL",
                                    "31": "NULL",
                                    "32": "NULL",
                                    "33": "NULL",
                                    "34": "NULL",
                                    "35": "NULL",
                                    "36": "NULL",
                                    "37": "NULL",
                                    "38": "NULL",
                                    "39": "NULL",
                                    "40": "NULL",
                                    "41": "1952597",
                                    "42": "1952597",
                                    "43": "NULL",
                                    "44": "NULL",
                                    "45": "NULL",
                                    "46": "NULL",
                                    "47": "NULL",
                                    "48": "NULL",
                                    "49": "NULL",
                                    "50": "1952597",
                                    "51": "1952597",
                                    "52": "1952597",
                                    "53": "1952597",
                                    "54": "1952597",
                                    "55": "1952597",
                                    "56": "1952597",
                                    "57": "1952597",
                                    "58": "1952597",
                                    "59": "1952597",
                                    "60": "1952597",
                                    "61": "1952597",
                                    "62": "17200000",
                                    "63": "HUYNH THI MY NGOC",
                                    "64": "NULL",
                                    "65": "NULL",
                                    "66": "NULL",
                                    "67": "NULL",
                                    "68": "NULL",
                                    "69": "NULL",
                                    "70": "NULL",
                                    "71": "NULL"
                                },
                                {
                                    "0": "2017-10-04 00:00:00.0000000",
                                    "1": "JOB_STG_T24_SAOKE_DEBT_COLLECTION_D01",
                                    "2": "2019-01-15 14:34:46.0000000",
                                    "3": "2017-10-04 00:00:00.0000000",
                                    "4": "2017-10-04 00:00:00.0000000",
                                    "5": "1000117090039719",
                                    "6": "LD1726417801",
                                    "7": "8005386",
                                    "8": "14211961008",
                                    "9": "753000",
                                    "10": "NULL",
                                    "11": "NULL",
                                    "12": "NULL",
                                    "13": "NULL",
                                    "14": "NULL",
                                    "15": "NULL",
                                    "16": "12",
                                    "17": "1",
                                    "18": "2017-10-10 00:00:00.0000000",
                                    "19": "424375",
                                    "20": "328539",
                                    "21": "NULL",
                                    "22": "NULL",
                                    "23": "NULL",
                                    "24": "NULL",
                                    "25": "NULL",
                                    "26": "NULL",
                                    "27": "NULL",
                                    "28": "NULL",
                                    "29": "NULL",
                                    "30": "NULL",
                                    "31": "NULL",
                                    "32": "NULL",
                                    "33": "NULL",
                                    "34": "NULL",
                                    "35": "NULL",
                                    "36": "NULL",
                                    "37": "NULL",
                                    "38": "NULL",
                                    "39": "NULL",
                                    "40": "NULL",
                                    "41": "764914",
                                    "42": "11914",
                                    "43": "NULL",
                                    "44": "NULL",
                                    "45": "NULL",
                                    "46": "NULL",
                                    "47": "NULL",
                                    "48": "NULL",
                                    "49": "NULL",
                                    "50": "764914",
                                    "51": "764914",
                                    "52": "764914",
                                    "53": "764914",
                                    "54": "764914",
                                    "55": "764914",
                                    "56": "11914",
                                    "57": "11914",
                                    "58": "11914",
                                    "59": "11914",
                                    "60": "11914",
                                    "61": "11914",
                                    "62": "6489000",
                                    "63": "NGUYEN VAN NAM",
                                    "64": "NULL",
                                    "65": "NULL",
                                    "66": "NULL",
                                    "67": "NULL",
                                    "68": "NULL",
                                    "69": "NULL",
                                    "70": "NULL",
                                    "71": "NULL"
                                },
                                {
                                    "0": "2017-10-04 00:00:00.0000000",
                                    "1": "JOB_STG_T24_SAOKE_DEBT_COLLECTION_D01",
                                    "2": "2019-01-15 14:34:46.0000000",
                                    "3": "2017-10-04 00:00:00.0000000",
                                    "4": "2017-10-04 00:00:00.0000000",
                                    "5": "1000117090039735",
                                    "6": "LD1726463417",
                                    "7": "8019397",
                                    "8": "14227963008",
                                    "9": "NULL",
                                    "10": "NULL",
                                    "11": "NULL",
                                    "12": "NULL",
                                    "13": "NULL",
                                    "14": "NULL",
                                    "15": "NULL",
                                    "16": "33",
                                    "17": "1",
                                    "18": "2017-10-10 00:00:00.0000000",
                                    "19": "845531",
                                    "20": "1404740",
                                    "21": "NULL",
                                    "22": "NULL",
                                    "23": "NULL",
                                    "24": "NULL",
                                    "25": "NULL",
                                    "26": "NULL",
                                    "27": "NULL",
                                    "28": "NULL",
                                    "29": "NULL",
                                    "30": "NULL",
                                    "31": "NULL",
                                    "32": "NULL",
                                    "33": "NULL",
                                    "34": "NULL",
                                    "35": "NULL",
                                    "36": "NULL",
                                    "37": "NULL",
                                    "38": "NULL",
                                    "39": "NULL",
                                    "40": "NULL",
                                    "41": "2262271",
                                    "42": "2262271",
                                    "43": "NULL",
                                    "44": "NULL",
                                    "45": "NULL",
                                    "46": "NULL",
                                    "47": "NULL",
                                    "48": "NULL",
                                    "49": "NULL",
                                    "50": "2262271",
                                    "51": "2262271",
                                    "52": "2262271",
                                    "53": "2262271",
                                    "54": "2262271",
                                    "55": "2262271",
                                    "56": "2262271",
                                    "57": "2262271",
                                    "58": "2262271",
                                    "59": "2262271",
                                    "60": "2262271",
                                    "61": "2262271",
                                    "62": "42200000",
                                    "63": "HUYNH THI HOANG NGA",
                                    "64": "NULL",
                                    "65": "NULL",
                                    "66": "NULL",
                                    "67": "NULL",
                                    "68": "NULL",
                                    "69": "NULL",
                                    "70": "NULL",
                                    "71": "NULL"
                                }
                            ]
                        },
                        "text/html": "<table><tr><th>COB_DT</th><th>UPD_BY</th><th>UPD_TIME</th><th>RUN_DATE</th><th>Y_SEL_DATE</th><th>Y_CONTRACT_REF</th><th>LD_ID</th><th>CUS_ID</th><th>YID_AC</th><th>YWK_BAL</th><th>Y_SONGAY_QH</th><th>Y_SONGAY_QH_T1</th><th>Y_SONGAY_QH_T2</th><th>Y_SONGAY_QH_T3</th><th>Y_SONGAY_QH_T4</th><th>Y_SONGAY_QH_T5</th><th>Y_KYHAN</th><th>Y_KYTRANO</th><th>Y_DATE_NEXT</th><th>Y_PR_NEXT</th><th>Y_IN_NEXT</th><th>Y_QH_PR</th><th>Y_QH_IN</th><th>Y_QH_PE</th><th>YAMT_PE_T1</th><th>YAMT_PE_T2</th><th>YAMT_PE_T3</th><th>YAMT_PE_T4</th><th>YAMT_PE_T5</th><th>Y_QH_PS</th><th>YAMT_PS_T1</th><th>YAMT_PS_T2</th><th>YAMT_PS_T3</th><th>YAMT_PS_T4</th><th>YAMT_PS_T5</th><th>Y_TOTAL_PE</th><th>YTOTAL_PE_PS_T1</th><th>YTOTAL_PE_PS_T2</th><th>YTOTAL_PE_PS_T3</th><th>YTOTAL_PE_PS_T4</th><th>YTOTAL_PE_PS_T5</th><th>YTOTAL_AMT_LD</th><th>YTOTAL_AMT_LD_AC</th><th>Y_TOTAL_QH</th><th>Y_TOTAL_QH_AC</th><th>Y_TOTAL_QH_AC_T1</th><th>Y_TOTAL_QH_AC_T2</th><th>Y_TOTAL_QH_AC_T3</th><th>Y_TOTAL_QH_AC_T4</th><th>Y_TOTAL_QH_AC_T5</th><th>Y_TOTAL_REPAY</th><th>Y_TOTAL_REPAY_T1</th><th>Y_TOTAL_REPAY_T2</th><th>Y_TOTAL_REPAY_T3</th><th>Y_TOTAL_REPAY_T4</th><th>Y_TOTAL_REPAY_T5</th><th>Y_TOTAL_REPAY_AC</th><th>Y_TOTAL_REPAY_AC_T1</th><th>Y_TOTAL_REPAY_AC_T2</th><th>Y_TOTAL_REPAY_AC_T3</th><th>Y_TOTAL_REPAY_AC_T4</th><th>Y_TOTAL_REPAY_AC_T5</th><th>Y_DUNO_CL</th><th>CUS_NAME</th><th>Y_EARLY_RPY</th><th>Y_EARLY_RPY_DATE</th><th>YWK_BAL_43</th><th>Y_CATEGORY</th><th>PRODUCT_TYPE</th><th>Y_SUB_NAME</th><th>Y_DRAWDOWN_NET_AMT</th><th>Y_RFD_AMT</th></tr><tr><td>2017-10-04 00:00:00.0000000</td><td>JOB_STG_T24_SAOKE_DEBT_COLLECTION_D01</td><td>2019-01-15 14:34:46.0000000</td><td>2017-10-04 00:00:00.0000000</td><td>2017-10-04 00:00:00.0000000</td><td>1000117090039557</td><td>LD1726410507</td><td>8039183</td><td>14227760002</td><td>NULL</td><td>NULL</td><td>NULL</td><td>NULL</td><td>NULL</td><td>NULL</td><td>NULL</td><td>36</td><td>1</td><td>2017-10-10 00:00:00.0000000</td><td>562830</td><td>1053555</td><td>NULL</td><td>NULL</td><td>NULL</td><td>NULL</td><td>NULL</td><td>NULL</td><td>NULL</td><td>NULL</td><td>NULL</td><td>NULL</td><td>NULL</td><td>NULL</td><td>NULL</td><td>NULL</td><td>NULL</td><td>NULL</td><td>NULL</td><td>NULL</td><td>NULL</td><td>NULL</td><td>1628385</td><td>1628385</td><td>NULL</td><td>NULL</td><td>NULL</td><td>NULL</td><td>NULL</td><td>NULL</td><td>NULL</td><td>1628385</td><td>1628385</td><td>1628385</td><td>1628385</td><td>1628385</td><td>1628385</td><td>1628385</td><td>1628385</td><td>1628385</td><td>1628385</td><td>1628385</td><td>1628385</td><td>31650000</td><td>VO THI TUYET MAI</td><td>NULL</td><td>NULL</td><td>NULL</td><td>NULL</td><td>NULL</td><td>NULL</td><td>NULL</td><td>NULL</td></tr><tr><td>2017-10-04 00:00:00.0000000</td><td>JOB_STG_T24_SAOKE_DEBT_COLLECTION_D01</td><td>2019-01-15 14:34:46.0000000</td><td>2017-10-04 00:00:00.0000000</td><td>2017-10-04 00:00:00.0000000</td><td>1000117090039573</td><td>LD1726454485</td><td>8005837</td><td>14225333007</td><td>NULL</td><td>NULL</td><td>NULL</td><td>NULL</td><td>NULL</td><td>NULL</td><td>NULL</td><td>24</td><td>1</td><td>2017-10-10 00:00:00.0000000</td><td>860569</td><td>682860</td><td>NULL</td><td>NULL</td><td>NULL</td><td>NULL</td><td>NULL</td><td>NULL</td><td>NULL</td><td>NULL</td><td>NULL</td><td>NULL</td><td>NULL</td><td>NULL</td><td>NULL</td><td>NULL</td><td>NULL</td><td>NULL</td><td>NULL</td><td>NULL</td><td>NULL</td><td>NULL</td><td>1555429</td><td>1555429</td><td>NULL</td><td>NULL</td><td>NULL</td><td>NULL</td><td>NULL</td><td>NULL</td><td>NULL</td><td>1555429</td><td>1555429</td><td>1555429</td><td>1555429</td><td>1555429</td><td>1555429</td><td>1555429</td><td>1555429</td><td>1555429</td><td>1555429</td><td>1555429</td><td>1555429</td><td>26375000</td><td>NGUYEN THI HOI</td><td>NULL</td><td>NULL</td><td>NULL</td><td>NULL</td><td>NULL</td><td>NULL</td><td>NULL</td><td>NULL</td></tr><tr><td>2017-10-04 00:00:00.0000000</td><td>JOB_STG_T24_SAOKE_DEBT_COLLECTION_D01</td><td>2019-01-15 14:34:46.0000000</td><td>2017-10-04 00:00:00.0000000</td><td>2017-10-04 00:00:00.0000000</td><td>1000117090039590</td><td>LD1726460085</td><td>8032733</td><td>14238211008</td><td>1853000</td><td>NULL</td><td>NULL</td><td>NULL</td><td>NULL</td><td>NULL</td><td>NULL</td><td>24</td><td>1</td><td>2017-10-10 00:00:00.0000000</td><td>1032682</td><td>819432</td><td>NULL</td><td>NULL</td><td>NULL</td><td>NULL</td><td>NULL</td><td>NULL</td><td>NULL</td><td>NULL</td><td>NULL</td><td>NULL</td><td>NULL</td><td>NULL</td><td>NULL</td><td>NULL</td><td>NULL</td><td>NULL</td><td>NULL</td><td>NULL</td><td>NULL</td><td>NULL</td><td>1864114</td><td>11114</td><td>NULL</td><td>NULL</td><td>NULL</td><td>NULL</td><td>NULL</td><td>NULL</td><td>NULL</td><td>1864114</td><td>1864114</td><td>1864114</td><td>1864114</td><td>1864114</td><td>1864114</td><td>11114</td><td>11114</td><td>11114</td><td>11114</td><td>11114</td><td>11114</td><td>31650000</td><td>LE VAN PHAN</td><td>NULL</td><td>NULL</td><td>NULL</td><td>NULL</td><td>NULL</td><td>NULL</td><td>NULL</td><td>NULL</td></tr><tr><td>2017-10-04 00:00:00.0000000</td><td>JOB_STG_T24_SAOKE_DEBT_COLLECTION_D01</td><td>2019-01-15 14:34:46.0000000</td><td>2017-10-04 00:00:00.0000000</td><td>2017-10-04 00:00:00.0000000</td><td>1000117090039611</td><td>LD1726488132</td><td>8039134</td><td>14224816007</td><td>NULL</td><td>NULL</td><td>NULL</td><td>NULL</td><td>NULL</td><td>NULL</td><td>NULL</td><td>36</td><td>1</td><td>2017-10-10 00:00:00.0000000</td><td>428425</td><td>526055</td><td>NULL</td><td>NULL</td><td>NULL</td><td>NULL</td><td>NULL</td><td>NULL</td><td>NULL</td><td>NULL</td><td>NULL</td><td>NULL</td><td>NULL</td><td>NULL</td><td>NULL</td><td>NULL</td><td>NULL</td><td>NULL</td><td>NULL</td><td>NULL</td><td>NULL</td><td>NULL</td><td>966480</td><td>966480</td><td>NULL</td><td>NULL</td><td>NULL</td><td>NULL</td><td>NULL</td><td>NULL</td><td>NULL</td><td>966480</td><td>966480</td><td>966480</td><td>966480</td><td>966480</td><td>966480</td><td>966480</td><td>966480</td><td>966480</td><td>966480</td><td>966480</td><td>966480</td><td>21100000</td><td>LE THI NGOT</td><td>NULL</td><td>NULL</td><td>NULL</td><td>NULL</td><td>NULL</td><td>NULL</td><td>NULL</td><td>NULL</td></tr><tr><td>2017-10-04 00:00:00.0000000</td><td>JOB_STG_T24_SAOKE_DEBT_COLLECTION_D01</td><td>2019-01-15 14:34:46.0000000</td><td>2017-10-04 00:00:00.0000000</td><td>2017-10-04 00:00:00.0000000</td><td>1000117090039638</td><td>LD1726459650</td><td>8011822</td><td>14229599004</td><td>NULL</td><td>NULL</td><td>NULL</td><td>NULL</td><td>NULL</td><td>NULL</td><td>NULL</td><td>12</td><td>1</td><td>2017-10-10 00:00:00.0000000</td><td>1789689</td><td>863991</td><td>NULL</td><td>NULL</td><td>NULL</td><td>NULL</td><td>NULL</td><td>NULL</td><td>NULL</td><td>NULL</td><td>NULL</td><td>NULL</td><td>NULL</td><td>NULL</td><td>NULL</td><td>NULL</td><td>NULL</td><td>NULL</td><td>NULL</td><td>NULL</td><td>NULL</td><td>NULL</td><td>2665680</td><td>2665680</td><td>NULL</td><td>NULL</td><td>NULL</td><td>NULL</td><td>NULL</td><td>NULL</td><td>NULL</td><td>2665680</td><td>2665680</td><td>2665680</td><td>2665680</td><td>2665680</td><td>2665680</td><td>2665680</td><td>2665680</td><td>2665680</td><td>2665680</td><td>2665680</td><td>2665680</td><td>25338000</td><td>NGUYEN VAN QUYNH</td><td>NULL</td><td>NULL</td><td>NULL</td><td>NULL</td><td>NULL</td><td>NULL</td><td>NULL</td><td>NULL</td></tr><tr><td>2017-10-04 00:00:00.0000000</td><td>JOB_STG_T24_SAOKE_DEBT_COLLECTION_D01</td><td>2019-01-15 14:34:46.0000000</td><td>2017-10-04 00:00:00.0000000</td><td>2017-10-04 00:00:00.0000000</td><td>1000117090039654</td><td>LD1726429364</td><td>8010619</td><td>14223833005</td><td>NULL</td><td>NULL</td><td>NULL</td><td>NULL</td><td>NULL</td><td>NULL</td><td>NULL</td><td>24</td><td>1</td><td>2017-10-10 00:00:00.0000000</td><td>646319</td><td>702370</td><td>NULL</td><td>NULL</td><td>NULL</td><td>NULL</td><td>NULL</td><td>NULL</td><td>NULL</td><td>NULL</td><td>NULL</td><td>NULL</td><td>NULL</td><td>NULL</td><td>NULL</td><td>NULL</td><td>NULL</td><td>NULL</td><td>NULL</td><td>NULL</td><td>NULL</td><td>NULL</td><td>1360689</td><td>1360689</td><td>NULL</td><td>NULL</td><td>NULL</td><td>NULL</td><td>NULL</td><td>NULL</td><td>NULL</td><td>1360689</td><td>1360689</td><td>1360689</td><td>1360689</td><td>1360689</td><td>1360689</td><td>1360689</td><td>1360689</td><td>1360689</td><td>1360689</td><td>1360689</td><td>1360689</td><td>21100000</td><td>NGUYEN DINH HUY</td><td>NULL</td><td>NULL</td><td>NULL</td><td>NULL</td><td>NULL</td><td>NULL</td><td>NULL</td><td>NULL</td></tr><tr><td>2017-10-04 00:00:00.0000000</td><td>JOB_STG_T24_SAOKE_DEBT_COLLECTION_D01</td><td>2019-01-15 14:34:46.0000000</td><td>2017-10-04 00:00:00.0000000</td><td>2017-10-04 00:00:00.0000000</td><td>1000117090039671</td><td>LD1726499755</td><td>8009327</td><td>14214234007</td><td>NULL</td><td>NULL</td><td>NULL</td><td>NULL</td><td>NULL</td><td>NULL</td><td>NULL</td><td>30</td><td>1</td><td>2017-10-10 00:00:00.0000000</td><td>1266387</td><td>1236229</td><td>NULL</td><td>NULL</td><td>NULL</td><td>NULL</td><td>NULL</td><td>NULL</td><td>NULL</td><td>NULL</td><td>NULL</td><td>NULL</td><td>NULL</td><td>NULL</td><td>NULL</td><td>NULL</td><td>NULL</td><td>NULL</td><td>NULL</td><td>NULL</td><td>NULL</td><td>NULL</td><td>2514616</td><td>2514616</td><td>NULL</td><td>NULL</td><td>NULL</td><td>NULL</td><td>NULL</td><td>NULL</td><td>NULL</td><td>2514616</td><td>2514616</td><td>2514616</td><td>2514616</td><td>2514616</td><td>2514616</td><td>2514616</td><td>2514616</td><td>2514616</td><td>2514616</td><td>2514616</td><td>2514616</td><td>49585000</td><td>NGUYEN VAN DUNG</td><td>NULL</td><td>NULL</td><td>NULL</td><td>NULL</td><td>NULL</td><td>NULL</td><td>NULL</td><td>NULL</td></tr><tr><td>2017-10-04 00:00:00.0000000</td><td>JOB_STG_T24_SAOKE_DEBT_COLLECTION_D01</td><td>2019-01-15 14:34:46.0000000</td><td>2017-10-04 00:00:00.0000000</td><td>2017-10-04 00:00:00.0000000</td><td>1000117090039697</td><td>LD1726446003</td><td>8005563</td><td>14217451001</td><td>NULL</td><td>NULL</td><td>NULL</td><td>NULL</td><td>NULL</td><td>NULL</td><td>NULL</td><td>12</td><td>1</td><td>2017-10-10 00:00:00.0000000</td><td>1148926</td><td>791671</td><td>NULL</td><td>NULL</td><td>NULL</td><td>NULL</td><td>NULL</td><td>NULL</td><td>NULL</td><td>NULL</td><td>NULL</td><td>NULL</td><td>NULL</td><td>NULL</td><td>NULL</td><td>NULL</td><td>NULL</td><td>NULL</td><td>NULL</td><td>NULL</td><td>NULL</td><td>NULL</td><td>1952597</td><td>1952597</td><td>NULL</td><td>NULL</td><td>NULL</td><td>NULL</td><td>NULL</td><td>NULL</td><td>NULL</td><td>1952597</td><td>1952597</td><td>1952597</td><td>1952597</td><td>1952597</td><td>1952597</td><td>1952597</td><td>1952597</td><td>1952597</td><td>1952597</td><td>1952597</td><td>1952597</td><td>17200000</td><td>HUYNH THI MY NGOC</td><td>NULL</td><td>NULL</td><td>NULL</td><td>NULL</td><td>NULL</td><td>NULL</td><td>NULL</td><td>NULL</td></tr><tr><td>2017-10-04 00:00:00.0000000</td><td>JOB_STG_T24_SAOKE_DEBT_COLLECTION_D01</td><td>2019-01-15 14:34:46.0000000</td><td>2017-10-04 00:00:00.0000000</td><td>2017-10-04 00:00:00.0000000</td><td>1000117090039719</td><td>LD1726417801</td><td>8005386</td><td>14211961008</td><td>753000</td><td>NULL</td><td>NULL</td><td>NULL</td><td>NULL</td><td>NULL</td><td>NULL</td><td>12</td><td>1</td><td>2017-10-10 00:00:00.0000000</td><td>424375</td><td>328539</td><td>NULL</td><td>NULL</td><td>NULL</td><td>NULL</td><td>NULL</td><td>NULL</td><td>NULL</td><td>NULL</td><td>NULL</td><td>NULL</td><td>NULL</td><td>NULL</td><td>NULL</td><td>NULL</td><td>NULL</td><td>NULL</td><td>NULL</td><td>NULL</td><td>NULL</td><td>NULL</td><td>764914</td><td>11914</td><td>NULL</td><td>NULL</td><td>NULL</td><td>NULL</td><td>NULL</td><td>NULL</td><td>NULL</td><td>764914</td><td>764914</td><td>764914</td><td>764914</td><td>764914</td><td>764914</td><td>11914</td><td>11914</td><td>11914</td><td>11914</td><td>11914</td><td>11914</td><td>6489000</td><td>NGUYEN VAN NAM</td><td>NULL</td><td>NULL</td><td>NULL</td><td>NULL</td><td>NULL</td><td>NULL</td><td>NULL</td><td>NULL</td></tr><tr><td>2017-10-04 00:00:00.0000000</td><td>JOB_STG_T24_SAOKE_DEBT_COLLECTION_D01</td><td>2019-01-15 14:34:46.0000000</td><td>2017-10-04 00:00:00.0000000</td><td>2017-10-04 00:00:00.0000000</td><td>1000117090039735</td><td>LD1726463417</td><td>8019397</td><td>14227963008</td><td>NULL</td><td>NULL</td><td>NULL</td><td>NULL</td><td>NULL</td><td>NULL</td><td>NULL</td><td>33</td><td>1</td><td>2017-10-10 00:00:00.0000000</td><td>845531</td><td>1404740</td><td>NULL</td><td>NULL</td><td>NULL</td><td>NULL</td><td>NULL</td><td>NULL</td><td>NULL</td><td>NULL</td><td>NULL</td><td>NULL</td><td>NULL</td><td>NULL</td><td>NULL</td><td>NULL</td><td>NULL</td><td>NULL</td><td>NULL</td><td>NULL</td><td>NULL</td><td>NULL</td><td>2262271</td><td>2262271</td><td>NULL</td><td>NULL</td><td>NULL</td><td>NULL</td><td>NULL</td><td>NULL</td><td>NULL</td><td>2262271</td><td>2262271</td><td>2262271</td><td>2262271</td><td>2262271</td><td>2262271</td><td>2262271</td><td>2262271</td><td>2262271</td><td>2262271</td><td>2262271</td><td>2262271</td><td>42200000</td><td>HUYNH THI HOANG NGA</td><td>NULL</td><td>NULL</td><td>NULL</td><td>NULL</td><td>NULL</td><td>NULL</td><td>NULL</td><td>NULL</td></tr></table>"
                    },
                    "metadata": {}
                }
            ],
            "execution_count": 4
        },
        {
            "cell_type": "markdown",
            "source": [
                "### 2.3. Cách sử dụng OPENQUERY\n",
                "\n",
                "#### 2.3.1. Áp dụng điều kiện trong OPENQUERY\n",
                "\n",
                "Có thể thấy rõ ngay một nhược điểm của OPENQUERY, đó là câu query của ORACLE sẽ phải đưa vào trong nháy đơn, tức là việc đưa vào các điều kiện sẽ khó khăn hơn bình thường. Ví dụ:"
            ],
            "metadata": {
                "azdata_cell_guid": "4715c3c1-f4dc-430e-9716-59c3af20e878"
            }
        },
        {
            "cell_type": "code",
            "source": [
                "SELECT top 10 * FROM \r\n",
                "OPENQUERY(ORASRV ,'Select * from IT_USER.STG_T24_SAOKE_DEBT_COLLECTION  where Y_SEL_DATE = ''2021-05-23''' )"
            ],
            "metadata": {
                "azdata_cell_guid": "7cd35d20-e924-4c34-9c80-9dd634085457"
            },
            "outputs": [
                {
                    "output_type": "display_data",
                    "data": {
                        "text/html": "(10 rows affected)"
                    },
                    "metadata": {}
                },
                {
                    "output_type": "display_data",
                    "data": {
                        "text/html": "Total execution time: 00:00:00.042"
                    },
                    "metadata": {}
                },
                {
                    "output_type": "execute_result",
                    "execution_count": 5,
                    "data": {
                        "application/vnd.dataresource+json": {
                            "schema": {
                                "fields": [
                                    {
                                        "name": "COB_DT"
                                    },
                                    {
                                        "name": "UPD_BY"
                                    },
                                    {
                                        "name": "UPD_TIME"
                                    },
                                    {
                                        "name": "RUN_DATE"
                                    },
                                    {
                                        "name": "Y_SEL_DATE"
                                    },
                                    {
                                        "name": "Y_CONTRACT_REF"
                                    },
                                    {
                                        "name": "LD_ID"
                                    },
                                    {
                                        "name": "CUS_ID"
                                    },
                                    {
                                        "name": "YID_AC"
                                    },
                                    {
                                        "name": "YWK_BAL"
                                    },
                                    {
                                        "name": "Y_SONGAY_QH"
                                    },
                                    {
                                        "name": "Y_SONGAY_QH_T1"
                                    },
                                    {
                                        "name": "Y_SONGAY_QH_T2"
                                    },
                                    {
                                        "name": "Y_SONGAY_QH_T3"
                                    },
                                    {
                                        "name": "Y_SONGAY_QH_T4"
                                    },
                                    {
                                        "name": "Y_SONGAY_QH_T5"
                                    },
                                    {
                                        "name": "Y_KYHAN"
                                    },
                                    {
                                        "name": "Y_KYTRANO"
                                    },
                                    {
                                        "name": "Y_DATE_NEXT"
                                    },
                                    {
                                        "name": "Y_PR_NEXT"
                                    },
                                    {
                                        "name": "Y_IN_NEXT"
                                    },
                                    {
                                        "name": "Y_QH_PR"
                                    },
                                    {
                                        "name": "Y_QH_IN"
                                    },
                                    {
                                        "name": "Y_QH_PE"
                                    },
                                    {
                                        "name": "YAMT_PE_T1"
                                    },
                                    {
                                        "name": "YAMT_PE_T2"
                                    },
                                    {
                                        "name": "YAMT_PE_T3"
                                    },
                                    {
                                        "name": "YAMT_PE_T4"
                                    },
                                    {
                                        "name": "YAMT_PE_T5"
                                    },
                                    {
                                        "name": "Y_QH_PS"
                                    },
                                    {
                                        "name": "YAMT_PS_T1"
                                    },
                                    {
                                        "name": "YAMT_PS_T2"
                                    },
                                    {
                                        "name": "YAMT_PS_T3"
                                    },
                                    {
                                        "name": "YAMT_PS_T4"
                                    },
                                    {
                                        "name": "YAMT_PS_T5"
                                    },
                                    {
                                        "name": "Y_TOTAL_PE"
                                    },
                                    {
                                        "name": "YTOTAL_PE_PS_T1"
                                    },
                                    {
                                        "name": "YTOTAL_PE_PS_T2"
                                    },
                                    {
                                        "name": "YTOTAL_PE_PS_T3"
                                    },
                                    {
                                        "name": "YTOTAL_PE_PS_T4"
                                    },
                                    {
                                        "name": "YTOTAL_PE_PS_T5"
                                    },
                                    {
                                        "name": "YTOTAL_AMT_LD"
                                    },
                                    {
                                        "name": "YTOTAL_AMT_LD_AC"
                                    },
                                    {
                                        "name": "Y_TOTAL_QH"
                                    },
                                    {
                                        "name": "Y_TOTAL_QH_AC"
                                    },
                                    {
                                        "name": "Y_TOTAL_QH_AC_T1"
                                    },
                                    {
                                        "name": "Y_TOTAL_QH_AC_T2"
                                    },
                                    {
                                        "name": "Y_TOTAL_QH_AC_T3"
                                    },
                                    {
                                        "name": "Y_TOTAL_QH_AC_T4"
                                    },
                                    {
                                        "name": "Y_TOTAL_QH_AC_T5"
                                    },
                                    {
                                        "name": "Y_TOTAL_REPAY"
                                    },
                                    {
                                        "name": "Y_TOTAL_REPAY_T1"
                                    },
                                    {
                                        "name": "Y_TOTAL_REPAY_T2"
                                    },
                                    {
                                        "name": "Y_TOTAL_REPAY_T3"
                                    },
                                    {
                                        "name": "Y_TOTAL_REPAY_T4"
                                    },
                                    {
                                        "name": "Y_TOTAL_REPAY_T5"
                                    },
                                    {
                                        "name": "Y_TOTAL_REPAY_AC"
                                    },
                                    {
                                        "name": "Y_TOTAL_REPAY_AC_T1"
                                    },
                                    {
                                        "name": "Y_TOTAL_REPAY_AC_T2"
                                    },
                                    {
                                        "name": "Y_TOTAL_REPAY_AC_T3"
                                    },
                                    {
                                        "name": "Y_TOTAL_REPAY_AC_T4"
                                    },
                                    {
                                        "name": "Y_TOTAL_REPAY_AC_T5"
                                    },
                                    {
                                        "name": "Y_DUNO_CL"
                                    },
                                    {
                                        "name": "CUS_NAME"
                                    },
                                    {
                                        "name": "Y_EARLY_RPY"
                                    },
                                    {
                                        "name": "Y_EARLY_RPY_DATE"
                                    },
                                    {
                                        "name": "YWK_BAL_43"
                                    },
                                    {
                                        "name": "Y_CATEGORY"
                                    },
                                    {
                                        "name": "PRODUCT_TYPE"
                                    },
                                    {
                                        "name": "Y_SUB_NAME"
                                    },
                                    {
                                        "name": "Y_DRAWDOWN_NET_AMT"
                                    },
                                    {
                                        "name": "Y_RFD_AMT"
                                    }
                                ]
                            },
                            "data": [
                                {
                                    "0": "2021-05-23 00:00:00.0000000",
                                    "1": "JOB_STG_T24_SAOKE_DEBT_COLLECTION_D01",
                                    "2": "2021-05-24 06:37:50.0000000",
                                    "3": "2021-05-23 00:00:00.0000000",
                                    "4": "2021-05-23 00:00:00.0000000",
                                    "5": "1000320060317241",
                                    "6": "LD2018102258",
                                    "7": "1059130",
                                    "8": "10126023346",
                                    "9": "180",
                                    "10": "0",
                                    "11": "NULL",
                                    "12": "NULL",
                                    "13": "NULL",
                                    "14": "NULL",
                                    "15": "NULL",
                                    "16": "27",
                                    "17": "11",
                                    "18": "2021-06-11 00:00:00.0000000",
                                    "19": "986522",
                                    "20": "687360",
                                    "21": "NULL",
                                    "22": "NULL",
                                    "23": "NULL",
                                    "24": "NULL",
                                    "25": "NULL",
                                    "26": "NULL",
                                    "27": "NULL",
                                    "28": "NULL",
                                    "29": "NULL",
                                    "30": "NULL",
                                    "31": "NULL",
                                    "32": "NULL",
                                    "33": "NULL",
                                    "34": "NULL",
                                    "35": "NULL",
                                    "36": "NULL",
                                    "37": "NULL",
                                    "38": "NULL",
                                    "39": "NULL",
                                    "40": "NULL",
                                    "41": "1685882",
                                    "42": "1685702",
                                    "43": "NULL",
                                    "44": "NULL",
                                    "45": "NULL",
                                    "46": "NULL",
                                    "47": "NULL",
                                    "48": "NULL",
                                    "49": "NULL",
                                    "50": "1673882",
                                    "51": "1673882",
                                    "52": "1673882",
                                    "53": "1673882",
                                    "54": "1673882",
                                    "55": "1673882",
                                    "56": "1673702",
                                    "57": "1673702",
                                    "58": "1673702",
                                    "59": "1673702",
                                    "60": "1673702",
                                    "61": "1673702",
                                    "62": "21873268",
                                    "63": "LE CONG TUOC",
                                    "64": "NULL",
                                    "65": "NULL",
                                    "66": "NULL",
                                    "67": "21061",
                                    "68": "CS",
                                    "69": "CS SY A 37",
                                    "70": "30000000.00",
                                    "71": "NULL"
                                },
                                {
                                    "0": "2021-05-23 00:00:00.0000000",
                                    "1": "JOB_STG_T24_SAOKE_DEBT_COLLECTION_D01",
                                    "2": "2021-05-24 06:37:50.0000000",
                                    "3": "2021-05-23 00:00:00.0000000",
                                    "4": "2021-05-23 00:00:00.0000000",
                                    "5": "1000320060317330",
                                    "6": "10126004791",
                                    "7": "1058542",
                                    "8": "10126004775",
                                    "9": "5226",
                                    "10": "0",
                                    "11": "NULL",
                                    "12": "NULL",
                                    "13": "NULL",
                                    "14": "NULL",
                                    "15": "NULL",
                                    "16": "36",
                                    "17": "11",
                                    "18": "2021-06-11 00:00:00.0000000",
                                    "19": "648290",
                                    "20": "1099430",
                                    "21": "NULL",
                                    "22": "NULL",
                                    "23": "NULL",
                                    "24": "NULL",
                                    "25": "NULL",
                                    "26": "NULL",
                                    "27": "NULL",
                                    "28": "NULL",
                                    "29": "NULL",
                                    "30": "NULL",
                                    "31": "NULL",
                                    "32": "NULL",
                                    "33": "NULL",
                                    "34": "NULL",
                                    "35": "0",
                                    "36": "0",
                                    "37": "0",
                                    "38": "0",
                                    "39": "0",
                                    "40": "0",
                                    "41": "1759720",
                                    "42": "1754494",
                                    "43": "0",
                                    "44": "NULL",
                                    "45": "NULL",
                                    "46": "NULL",
                                    "47": "NULL",
                                    "48": "NULL",
                                    "49": "NULL",
                                    "50": "1747720",
                                    "51": "1747720",
                                    "52": "1747720",
                                    "53": "1747720",
                                    "54": "1747720",
                                    "55": "1747720",
                                    "56": "1742494",
                                    "57": "1742494",
                                    "58": "1742494",
                                    "59": "1742494",
                                    "60": "1742494",
                                    "61": "1742494",
                                    "62": "25931612",
                                    "63": "NGUYEN VU BINH NHI",
                                    "64": "NULL",
                                    "65": "NULL",
                                    "66": "-7837.00",
                                    "67": "HOP DONG HAN MUC",
                                    "68": "REVOLVING.LOAN",
                                    "69": "CS RL CD DUO 50",
                                    "70": "42200000.00",
                                    "71": "NULL"
                                },
                                {
                                    "0": "2021-05-23 00:00:00.0000000",
                                    "1": "JOB_STG_T24_SAOKE_DEBT_COLLECTION_D01",
                                    "2": "2021-05-24 06:37:50.0000000",
                                    "3": "2021-05-23 00:00:00.0000000",
                                    "4": "2021-05-23 00:00:00.0000000",
                                    "5": "1000320060317437",
                                    "6": "10125968282",
                                    "7": "326505",
                                    "8": "10106425421",
                                    "9": "580614",
                                    "10": "0",
                                    "11": "NULL",
                                    "12": "NULL",
                                    "13": "NULL",
                                    "14": "NULL",
                                    "15": "NULL",
                                    "16": "36",
                                    "17": "11",
                                    "18": "2021-06-09 00:00:00.0000000",
                                    "19": "134743",
                                    "20": "212971",
                                    "21": "NULL",
                                    "22": "NULL",
                                    "23": "NULL",
                                    "24": "NULL",
                                    "25": "NULL",
                                    "26": "NULL",
                                    "27": "NULL",
                                    "28": "NULL",
                                    "29": "NULL",
                                    "30": "NULL",
                                    "31": "NULL",
                                    "32": "NULL",
                                    "33": "NULL",
                                    "34": "NULL",
                                    "35": "NULL",
                                    "36": "NULL",
                                    "37": "NULL",
                                    "38": "NULL",
                                    "39": "NULL",
                                    "40": "NULL",
                                    "41": "359714",
                                    "42": "-220900",
                                    "43": "NULL",
                                    "44": "NULL",
                                    "45": "NULL",
                                    "46": "NULL",
                                    "47": "NULL",
                                    "48": "NULL",
                                    "49": "NULL",
                                    "50": "347714",
                                    "51": "347714",
                                    "52": "347714",
                                    "53": "347714",
                                    "54": "347714",
                                    "55": "347714",
                                    "56": "-232900",
                                    "57": "-232900",
                                    "58": "-232900",
                                    "59": "-232900",
                                    "60": "-232900",
                                    "61": "-232900",
                                    "62": "5389734",
                                    "63": "NGUYEN DIEP HUE PHUONG",
                                    "64": "NULL",
                                    "65": "NULL",
                                    "66": "-8972.00",
                                    "67": "HOP DONG HAN MUC",
                                    "68": "REVOLVING.LOAN",
                                    "69": "CS RL CS DUO 46.6",
                                    "70": "10550000.00",
                                    "71": "NULL"
                                },
                                {
                                    "0": "2021-05-23 00:00:00.0000000",
                                    "1": "JOB_STG_T24_SAOKE_DEBT_COLLECTION_D01",
                                    "2": "2021-05-24 06:37:50.0000000",
                                    "3": "2021-05-23 00:00:00.0000000",
                                    "4": "2021-05-23 00:00:00.0000000",
                                    "5": "1000320060317551",
                                    "6": "LD2018275194",
                                    "7": "1060095",
                                    "8": "10126053587",
                                    "9": "0",
                                    "10": "12",
                                    "11": "13",
                                    "12": "14",
                                    "13": "15",
                                    "14": "16",
                                    "15": "17",
                                    "16": "24",
                                    "17": "11",
                                    "18": "2021-06-12 00:00:00.0000000",
                                    "19": "796898",
                                    "20": "634304",
                                    "21": "783473",
                                    "22": "636420",
                                    "23": "19332",
                                    "24": "20942",
                                    "25": "22552",
                                    "26": "24162",
                                    "27": "25772",
                                    "28": "27382",
                                    "29": "2092",
                                    "30": "2266",
                                    "31": "2440",
                                    "32": "2614",
                                    "33": "2788",
                                    "34": "2962",
                                    "35": "21424",
                                    "36": "23208",
                                    "37": "24992",
                                    "38": "26776",
                                    "39": "28560",
                                    "40": "30344",
                                    "41": "1443202",
                                    "42": "1443202",
                                    "43": "1453317",
                                    "44": "1453317",
                                    "45": "1455101",
                                    "46": "1456885",
                                    "47": "1458669",
                                    "48": "1460453",
                                    "49": "1462237",
                                    "50": "2884519",
                                    "51": "2886303",
                                    "52": "2888087",
                                    "53": "2889871",
                                    "54": "2891655",
                                    "55": "2893439",
                                    "56": "2884519",
                                    "57": "2886303",
                                    "58": "2888087",
                                    "59": "2889871",
                                    "60": "2891655",
                                    "61": "2893439",
                                    "62": "15720319",
                                    "63": "NGUYEN THI TAM",
                                    "64": "NULL",
                                    "65": "NULL",
                                    "66": "-19050.00",
                                    "67": "21061",
                                    "68": "CS",
                                    "69": "CS U-BILL 50",
                                    "70": "21100000.00",
                                    "71": "NULL"
                                },
                                {
                                    "0": "2021-05-23 00:00:00.0000000",
                                    "1": "JOB_STG_T24_SAOKE_DEBT_COLLECTION_D01",
                                    "2": "2021-05-24 06:37:50.0000000",
                                    "3": "2021-05-23 00:00:00.0000000",
                                    "4": "2021-05-23 00:00:00.0000000",
                                    "5": "1000320060317658",
                                    "6": "LD2018164000",
                                    "7": "826394",
                                    "8": "10119053458",
                                    "9": "0",
                                    "10": "225",
                                    "11": "226",
                                    "12": "227",
                                    "13": "228",
                                    "14": "229",
                                    "15": "230",
                                    "16": "12",
                                    "17": "11",
                                    "18": "2021-06-11 00:00:00.0000000",
                                    "19": "2064458",
                                    "20": "149998",
                                    "21": "12002002",
                                    "22": "3489868",
                                    "23": "2264248",
                                    "24": "2284964",
                                    "25": "2305680",
                                    "26": "2326396",
                                    "27": "2347112",
                                    "28": "2367828",
                                    "29": "134597",
                                    "30": "135553",
                                    "31": "136509",
                                    "32": "137465",
                                    "33": "138421",
                                    "34": "139377",
                                    "35": "2398845",
                                    "36": "2420517",
                                    "37": "2442189",
                                    "38": "2463861",
                                    "39": "2485533",
                                    "40": "2507205",
                                    "41": "2226456",
                                    "42": "2226456",
                                    "43": "17902715",
                                    "44": "17902715",
                                    "45": "17924387",
                                    "46": "17946059",
                                    "47": "17967731",
                                    "48": "17989403",
                                    "49": "18011075",
                                    "50": "20117171",
                                    "51": "20138843",
                                    "52": "20160515",
                                    "53": "20182187",
                                    "54": "20203859",
                                    "55": "20225531",
                                    "56": "20117171",
                                    "57": "20138843",
                                    "58": "20160515",
                                    "59": "20182187",
                                    "60": "20203859",
                                    "61": "20225531",
                                    "62": "16207016",
                                    "63": "TRUONG MINH HOA",
                                    "64": "NULL",
                                    "65": "NULL",
                                    "66": "0.00",
                                    "67": "21061",
                                    "68": "CS",
                                    "69": "CS XS TW Standard 42",
                                    "70": "21100000.00",
                                    "71": "NULL"
                                },
                                {
                                    "0": "2021-05-23 00:00:00.0000000",
                                    "1": "JOB_STG_T24_SAOKE_DEBT_COLLECTION_D01",
                                    "2": "2021-05-24 06:37:50.0000000",
                                    "3": "2021-05-23 00:00:00.0000000",
                                    "4": "2021-05-23 00:00:00.0000000",
                                    "5": "1000320060317763",
                                    "6": "LD2017972387",
                                    "7": "1057796",
                                    "8": "10125982118",
                                    "9": "664",
                                    "10": "0",
                                    "11": "NULL",
                                    "12": "NULL",
                                    "13": "NULL",
                                    "14": "NULL",
                                    "15": "NULL",
                                    "16": "36",
                                    "17": "11",
                                    "18": "2021-06-09 00:00:00.0000000",
                                    "19": "599027",
                                    "20": "1193483",
                                    "21": "NULL",
                                    "22": "NULL",
                                    "23": "NULL",
                                    "24": "NULL",
                                    "25": "NULL",
                                    "26": "NULL",
                                    "27": "NULL",
                                    "28": "NULL",
                                    "29": "NULL",
                                    "30": "NULL",
                                    "31": "NULL",
                                    "32": "NULL",
                                    "33": "NULL",
                                    "34": "NULL",
                                    "35": "NULL",
                                    "36": "NULL",
                                    "37": "NULL",
                                    "38": "NULL",
                                    "39": "NULL",
                                    "40": "NULL",
                                    "41": "1804510",
                                    "42": "1803846",
                                    "43": "NULL",
                                    "44": "NULL",
                                    "45": "NULL",
                                    "46": "NULL",
                                    "47": "NULL",
                                    "48": "NULL",
                                    "49": "NULL",
                                    "50": "1792510",
                                    "51": "1792510",
                                    "52": "1792510",
                                    "53": "1792510",
                                    "54": "1792510",
                                    "55": "1792510",
                                    "56": "1791846",
                                    "57": "1791846",
                                    "58": "1791846",
                                    "59": "1791846",
                                    "60": "1791846",
                                    "61": "1791846",
                                    "62": "28104588",
                                    "63": "BUI THI THUY HOA",
                                    "64": "NULL",
                                    "65": "NULL",
                                    "66": "NULL",
                                    "67": "21061",
                                    "68": "CS",
                                    "69": "CS CF A 50",
                                    "70": "32705000.00",
                                    "71": "NULL"
                                },
                                {
                                    "0": "2021-05-23 00:00:00.0000000",
                                    "1": "JOB_STG_T24_SAOKE_DEBT_COLLECTION_D01",
                                    "2": "2021-05-24 06:37:50.0000000",
                                    "3": "2021-05-23 00:00:00.0000000",
                                    "4": "2021-05-23 00:00:00.0000000",
                                    "5": "1000320060322741",
                                    "6": "LD2018128809",
                                    "7": "1058771",
                                    "8": "10126011941",
                                    "9": "726",
                                    "10": "0",
                                    "11": "NULL",
                                    "12": "NULL",
                                    "13": "NULL",
                                    "14": "NULL",
                                    "15": "NULL",
                                    "16": "24",
                                    "17": "11",
                                    "18": "2021-06-11 00:00:00.0000000",
                                    "19": "1195346",
                                    "20": "951457",
                                    "21": "NULL",
                                    "22": "NULL",
                                    "23": "NULL",
                                    "24": "NULL",
                                    "25": "NULL",
                                    "26": "NULL",
                                    "27": "NULL",
                                    "28": "NULL",
                                    "29": "NULL",
                                    "30": "NULL",
                                    "31": "NULL",
                                    "32": "NULL",
                                    "33": "NULL",
                                    "34": "NULL",
                                    "35": "0",
                                    "36": "0",
                                    "37": "0",
                                    "38": "0",
                                    "39": "0",
                                    "40": "0",
                                    "41": "2158803",
                                    "42": "2158077",
                                    "43": "0",
                                    "44": "NULL",
                                    "45": "NULL",
                                    "46": "NULL",
                                    "47": "NULL",
                                    "48": "NULL",
                                    "49": "NULL",
                                    "50": "2146803",
                                    "51": "2146803",
                                    "52": "2146803",
                                    "53": "2146803",
                                    "54": "2146803",
                                    "55": "2146803",
                                    "56": "2146077",
                                    "57": "2146077",
                                    "58": "2146077",
                                    "59": "2146077",
                                    "60": "2146077",
                                    "61": "2146077",
                                    "62": "22405271",
                                    "63": "HUYNH THONG THAI",
                                    "64": "NULL",
                                    "65": "NULL",
                                    "66": "-17075.00",
                                    "67": "21061",
                                    "68": "CS",
                                    "69": "CS CF C 50",
                                    "70": "31650000.00",
                                    "71": "NULL"
                                },
                                {
                                    "0": "2021-05-23 00:00:00.0000000",
                                    "1": "JOB_STG_T24_SAOKE_DEBT_COLLECTION_D01",
                                    "2": "2021-05-24 06:37:50.0000000",
                                    "3": "2021-05-23 00:00:00.0000000",
                                    "4": "2021-05-23 00:00:00.0000000",
                                    "5": "1000320060322864",
                                    "6": "10126001202",
                                    "7": "726818",
                                    "8": "10116077537",
                                    "9": "1729769",
                                    "10": "0",
                                    "11": "NULL",
                                    "12": "NULL",
                                    "13": "NULL",
                                    "14": "NULL",
                                    "15": "NULL",
                                    "16": "36",
                                    "17": "11",
                                    "18": "2021-06-11 00:00:00.0000000",
                                    "19": "1687073",
                                    "20": "2666537",
                                    "21": "NULL",
                                    "22": "NULL",
                                    "23": "NULL",
                                    "24": "NULL",
                                    "25": "NULL",
                                    "26": "NULL",
                                    "27": "NULL",
                                    "28": "NULL",
                                    "29": "NULL",
                                    "30": "NULL",
                                    "31": "NULL",
                                    "32": "NULL",
                                    "33": "NULL",
                                    "34": "NULL",
                                    "35": "NULL",
                                    "36": "NULL",
                                    "37": "NULL",
                                    "38": "NULL",
                                    "39": "NULL",
                                    "40": "NULL",
                                    "41": "4365610",
                                    "42": "2635841",
                                    "43": "NULL",
                                    "44": "NULL",
                                    "45": "NULL",
                                    "46": "NULL",
                                    "47": "NULL",
                                    "48": "NULL",
                                    "49": "NULL",
                                    "50": "4353610",
                                    "51": "4353610",
                                    "52": "4353610",
                                    "53": "4353610",
                                    "54": "4353610",
                                    "55": "4353610",
                                    "56": "2623841",
                                    "57": "2623841",
                                    "58": "2623841",
                                    "59": "2623841",
                                    "60": "2623841",
                                    "61": "2623841",
                                    "62": "67482929",
                                    "63": "PHAM THI BICH HUYEN",
                                    "64": "NULL",
                                    "65": "NULL",
                                    "66": "NULL",
                                    "67": "HOP DONG HAN MUC",
                                    "68": "REVOLVING.LOAN",
                                    "69": "CS RL TW DUO 46.6",
                                    "70": "77015000.00",
                                    "71": "NULL"
                                },
                                {
                                    "0": "2021-05-23 00:00:00.0000000",
                                    "1": "JOB_STG_T24_SAOKE_DEBT_COLLECTION_D01",
                                    "2": "2021-05-24 06:37:50.0000000",
                                    "3": "2021-05-23 00:00:00.0000000",
                                    "4": "2021-05-23 00:00:00.0000000",
                                    "5": "1000320060322988",
                                    "6": "LD2018320568",
                                    "7": "1060877",
                                    "8": "10126077683",
                                    "9": "210611",
                                    "10": "0",
                                    "11": "NULL",
                                    "12": "NULL",
                                    "13": "NULL",
                                    "14": "NULL",
                                    "15": "NULL",
                                    "16": "36",
                                    "17": "11",
                                    "18": "2021-06-13 00:00:00.0000000",
                                    "19": "1539800",
                                    "20": "1927906",
                                    "21": "NULL",
                                    "22": "NULL",
                                    "23": "NULL",
                                    "24": "NULL",
                                    "25": "NULL",
                                    "26": "NULL",
                                    "27": "NULL",
                                    "28": "NULL",
                                    "29": "NULL",
                                    "30": "NULL",
                                    "31": "NULL",
                                    "32": "NULL",
                                    "33": "NULL",
                                    "34": "NULL",
                                    "35": "0",
                                    "36": "0",
                                    "37": "0",
                                    "38": "0",
                                    "39": "0",
                                    "40": "0",
                                    "41": "3479706",
                                    "42": "3269095",
                                    "43": "0",
                                    "44": "NULL",
                                    "45": "NULL",
                                    "46": "NULL",
                                    "47": "NULL",
                                    "48": "NULL",
                                    "49": "NULL",
                                    "50": "3467706",
                                    "51": "3467706",
                                    "52": "3467706",
                                    "53": "3467706",
                                    "54": "3467706",
                                    "55": "3467706",
                                    "56": "3257095",
                                    "57": "3257095",
                                    "58": "3257095",
                                    "59": "3257095",
                                    "60": "3257095",
                                    "61": "3257095",
                                    "62": "61350101",
                                    "63": "CHU VAN PHAT",
                                    "64": "YES",
                                    "65": "2021-03-18 00:00:00.0000000",
                                    "66": "-30246.00",
                                    "67": "21061",
                                    "68": "CS",
                                    "69": "CS Bank Acct VIP 37",
                                    "70": "73850000.00",
                                    "71": "NULL"
                                },
                                {
                                    "0": "2021-05-23 00:00:00.0000000",
                                    "1": "JOB_STG_T24_SAOKE_DEBT_COLLECTION_D01",
                                    "2": "2021-05-24 06:37:50.0000000",
                                    "3": "2021-05-23 00:00:00.0000000",
                                    "4": "2021-05-23 00:00:00.0000000",
                                    "5": "1000320060323071",
                                    "6": "LD2018158070",
                                    "7": "1059081",
                                    "8": "10126021742",
                                    "9": "0",
                                    "10": "225",
                                    "11": "226",
                                    "12": "227",
                                    "13": "228",
                                    "14": "229",
                                    "15": "230",
                                    "16": "21",
                                    "17": "11",
                                    "18": "2021-06-11 00:00:00.0000000",
                                    "19": "981063",
                                    "20": "571851",
                                    "21": "5099745",
                                    "22": "5764395",
                                    "23": "1307892",
                                    "24": "1318371",
                                    "25": "1328850",
                                    "26": "1339329",
                                    "27": "1349808",
                                    "28": "1360287",
                                    "29": "199252",
                                    "30": "200831",
                                    "31": "202410",
                                    "32": "203989",
                                    "33": "205568",
                                    "34": "207147",
                                    "35": "1507144",
                                    "36": "1519202",
                                    "37": "1531260",
                                    "38": "1543318",
                                    "39": "1555376",
                                    "40": "1567434",
                                    "41": "1564914",
                                    "42": "1564914",
                                    "43": "12383284",
                                    "44": "12383284",
                                    "45": "12395342",
                                    "46": "12407400",
                                    "47": "12419458",
                                    "48": "12431516",
                                    "49": "12443574",
                                    "50": "13936198",
                                    "51": "13948256",
                                    "52": "13960314",
                                    "53": "13972372",
                                    "54": "13984430",
                                    "55": "13996488",
                                    "56": "13936198",
                                    "57": "13948256",
                                    "58": "13960314",
                                    "59": "13972372",
                                    "60": "13984430",
                                    "61": "13996488",
                                    "62": "18565910",
                                    "63": "TRAN MINH THIET",
                                    "64": "NULL",
                                    "65": "NULL",
                                    "66": "-4856.00",
                                    "67": "21061",
                                    "68": "CS",
                                    "69": "CS CF A 50",
                                    "70": "21100000.00",
                                    "71": "NULL"
                                }
                            ]
                        },
                        "text/html": "<table><tr><th>COB_DT</th><th>UPD_BY</th><th>UPD_TIME</th><th>RUN_DATE</th><th>Y_SEL_DATE</th><th>Y_CONTRACT_REF</th><th>LD_ID</th><th>CUS_ID</th><th>YID_AC</th><th>YWK_BAL</th><th>Y_SONGAY_QH</th><th>Y_SONGAY_QH_T1</th><th>Y_SONGAY_QH_T2</th><th>Y_SONGAY_QH_T3</th><th>Y_SONGAY_QH_T4</th><th>Y_SONGAY_QH_T5</th><th>Y_KYHAN</th><th>Y_KYTRANO</th><th>Y_DATE_NEXT</th><th>Y_PR_NEXT</th><th>Y_IN_NEXT</th><th>Y_QH_PR</th><th>Y_QH_IN</th><th>Y_QH_PE</th><th>YAMT_PE_T1</th><th>YAMT_PE_T2</th><th>YAMT_PE_T3</th><th>YAMT_PE_T4</th><th>YAMT_PE_T5</th><th>Y_QH_PS</th><th>YAMT_PS_T1</th><th>YAMT_PS_T2</th><th>YAMT_PS_T3</th><th>YAMT_PS_T4</th><th>YAMT_PS_T5</th><th>Y_TOTAL_PE</th><th>YTOTAL_PE_PS_T1</th><th>YTOTAL_PE_PS_T2</th><th>YTOTAL_PE_PS_T3</th><th>YTOTAL_PE_PS_T4</th><th>YTOTAL_PE_PS_T5</th><th>YTOTAL_AMT_LD</th><th>YTOTAL_AMT_LD_AC</th><th>Y_TOTAL_QH</th><th>Y_TOTAL_QH_AC</th><th>Y_TOTAL_QH_AC_T1</th><th>Y_TOTAL_QH_AC_T2</th><th>Y_TOTAL_QH_AC_T3</th><th>Y_TOTAL_QH_AC_T4</th><th>Y_TOTAL_QH_AC_T5</th><th>Y_TOTAL_REPAY</th><th>Y_TOTAL_REPAY_T1</th><th>Y_TOTAL_REPAY_T2</th><th>Y_TOTAL_REPAY_T3</th><th>Y_TOTAL_REPAY_T4</th><th>Y_TOTAL_REPAY_T5</th><th>Y_TOTAL_REPAY_AC</th><th>Y_TOTAL_REPAY_AC_T1</th><th>Y_TOTAL_REPAY_AC_T2</th><th>Y_TOTAL_REPAY_AC_T3</th><th>Y_TOTAL_REPAY_AC_T4</th><th>Y_TOTAL_REPAY_AC_T5</th><th>Y_DUNO_CL</th><th>CUS_NAME</th><th>Y_EARLY_RPY</th><th>Y_EARLY_RPY_DATE</th><th>YWK_BAL_43</th><th>Y_CATEGORY</th><th>PRODUCT_TYPE</th><th>Y_SUB_NAME</th><th>Y_DRAWDOWN_NET_AMT</th><th>Y_RFD_AMT</th></tr><tr><td>2021-05-23 00:00:00.0000000</td><td>JOB_STG_T24_SAOKE_DEBT_COLLECTION_D01</td><td>2021-05-24 06:37:50.0000000</td><td>2021-05-23 00:00:00.0000000</td><td>2021-05-23 00:00:00.0000000</td><td>1000320060317241</td><td>LD2018102258</td><td>1059130</td><td>10126023346</td><td>180</td><td>0</td><td>NULL</td><td>NULL</td><td>NULL</td><td>NULL</td><td>NULL</td><td>27</td><td>11</td><td>2021-06-11 00:00:00.0000000</td><td>986522</td><td>687360</td><td>NULL</td><td>NULL</td><td>NULL</td><td>NULL</td><td>NULL</td><td>NULL</td><td>NULL</td><td>NULL</td><td>NULL</td><td>NULL</td><td>NULL</td><td>NULL</td><td>NULL</td><td>NULL</td><td>NULL</td><td>NULL</td><td>NULL</td><td>NULL</td><td>NULL</td><td>NULL</td><td>1685882</td><td>1685702</td><td>NULL</td><td>NULL</td><td>NULL</td><td>NULL</td><td>NULL</td><td>NULL</td><td>NULL</td><td>1673882</td><td>1673882</td><td>1673882</td><td>1673882</td><td>1673882</td><td>1673882</td><td>1673702</td><td>1673702</td><td>1673702</td><td>1673702</td><td>1673702</td><td>1673702</td><td>21873268</td><td>LE CONG TUOC</td><td>NULL</td><td>NULL</td><td>NULL</td><td>21061</td><td>CS</td><td>CS SY A 37</td><td>30000000.00</td><td>NULL</td></tr><tr><td>2021-05-23 00:00:00.0000000</td><td>JOB_STG_T24_SAOKE_DEBT_COLLECTION_D01</td><td>2021-05-24 06:37:50.0000000</td><td>2021-05-23 00:00:00.0000000</td><td>2021-05-23 00:00:00.0000000</td><td>1000320060317330</td><td>10126004791</td><td>1058542</td><td>10126004775</td><td>5226</td><td>0</td><td>NULL</td><td>NULL</td><td>NULL</td><td>NULL</td><td>NULL</td><td>36</td><td>11</td><td>2021-06-11 00:00:00.0000000</td><td>648290</td><td>1099430</td><td>NULL</td><td>NULL</td><td>NULL</td><td>NULL</td><td>NULL</td><td>NULL</td><td>NULL</td><td>NULL</td><td>NULL</td><td>NULL</td><td>NULL</td><td>NULL</td><td>NULL</td><td>NULL</td><td>0</td><td>0</td><td>0</td><td>0</td><td>0</td><td>0</td><td>1759720</td><td>1754494</td><td>0</td><td>NULL</td><td>NULL</td><td>NULL</td><td>NULL</td><td>NULL</td><td>NULL</td><td>1747720</td><td>1747720</td><td>1747720</td><td>1747720</td><td>1747720</td><td>1747720</td><td>1742494</td><td>1742494</td><td>1742494</td><td>1742494</td><td>1742494</td><td>1742494</td><td>25931612</td><td>NGUYEN VU BINH NHI</td><td>NULL</td><td>NULL</td><td>-7837.00</td><td>HOP DONG HAN MUC</td><td>REVOLVING.LOAN</td><td>CS RL CD DUO 50</td><td>42200000.00</td><td>NULL</td></tr><tr><td>2021-05-23 00:00:00.0000000</td><td>JOB_STG_T24_SAOKE_DEBT_COLLECTION_D01</td><td>2021-05-24 06:37:50.0000000</td><td>2021-05-23 00:00:00.0000000</td><td>2021-05-23 00:00:00.0000000</td><td>1000320060317437</td><td>10125968282</td><td>326505</td><td>10106425421</td><td>580614</td><td>0</td><td>NULL</td><td>NULL</td><td>NULL</td><td>NULL</td><td>NULL</td><td>36</td><td>11</td><td>2021-06-09 00:00:00.0000000</td><td>134743</td><td>212971</td><td>NULL</td><td>NULL</td><td>NULL</td><td>NULL</td><td>NULL</td><td>NULL</td><td>NULL</td><td>NULL</td><td>NULL</td><td>NULL</td><td>NULL</td><td>NULL</td><td>NULL</td><td>NULL</td><td>NULL</td><td>NULL</td><td>NULL</td><td>NULL</td><td>NULL</td><td>NULL</td><td>359714</td><td>-220900</td><td>NULL</td><td>NULL</td><td>NULL</td><td>NULL</td><td>NULL</td><td>NULL</td><td>NULL</td><td>347714</td><td>347714</td><td>347714</td><td>347714</td><td>347714</td><td>347714</td><td>-232900</td><td>-232900</td><td>-232900</td><td>-232900</td><td>-232900</td><td>-232900</td><td>5389734</td><td>NGUYEN DIEP HUE PHUONG</td><td>NULL</td><td>NULL</td><td>-8972.00</td><td>HOP DONG HAN MUC</td><td>REVOLVING.LOAN</td><td>CS RL CS DUO 46.6</td><td>10550000.00</td><td>NULL</td></tr><tr><td>2021-05-23 00:00:00.0000000</td><td>JOB_STG_T24_SAOKE_DEBT_COLLECTION_D01</td><td>2021-05-24 06:37:50.0000000</td><td>2021-05-23 00:00:00.0000000</td><td>2021-05-23 00:00:00.0000000</td><td>1000320060317551</td><td>LD2018275194</td><td>1060095</td><td>10126053587</td><td>0</td><td>12</td><td>13</td><td>14</td><td>15</td><td>16</td><td>17</td><td>24</td><td>11</td><td>2021-06-12 00:00:00.0000000</td><td>796898</td><td>634304</td><td>783473</td><td>636420</td><td>19332</td><td>20942</td><td>22552</td><td>24162</td><td>25772</td><td>27382</td><td>2092</td><td>2266</td><td>2440</td><td>2614</td><td>2788</td><td>2962</td><td>21424</td><td>23208</td><td>24992</td><td>26776</td><td>28560</td><td>30344</td><td>1443202</td><td>1443202</td><td>1453317</td><td>1453317</td><td>1455101</td><td>1456885</td><td>1458669</td><td>1460453</td><td>1462237</td><td>2884519</td><td>2886303</td><td>2888087</td><td>2889871</td><td>2891655</td><td>2893439</td><td>2884519</td><td>2886303</td><td>2888087</td><td>2889871</td><td>2891655</td><td>2893439</td><td>15720319</td><td>NGUYEN THI TAM</td><td>NULL</td><td>NULL</td><td>-19050.00</td><td>21061</td><td>CS</td><td>CS U-BILL 50</td><td>21100000.00</td><td>NULL</td></tr><tr><td>2021-05-23 00:00:00.0000000</td><td>JOB_STG_T24_SAOKE_DEBT_COLLECTION_D01</td><td>2021-05-24 06:37:50.0000000</td><td>2021-05-23 00:00:00.0000000</td><td>2021-05-23 00:00:00.0000000</td><td>1000320060317658</td><td>LD2018164000</td><td>826394</td><td>10119053458</td><td>0</td><td>225</td><td>226</td><td>227</td><td>228</td><td>229</td><td>230</td><td>12</td><td>11</td><td>2021-06-11 00:00:00.0000000</td><td>2064458</td><td>149998</td><td>12002002</td><td>3489868</td><td>2264248</td><td>2284964</td><td>2305680</td><td>2326396</td><td>2347112</td><td>2367828</td><td>134597</td><td>135553</td><td>136509</td><td>137465</td><td>138421</td><td>139377</td><td>2398845</td><td>2420517</td><td>2442189</td><td>2463861</td><td>2485533</td><td>2507205</td><td>2226456</td><td>2226456</td><td>17902715</td><td>17902715</td><td>17924387</td><td>17946059</td><td>17967731</td><td>17989403</td><td>18011075</td><td>20117171</td><td>20138843</td><td>20160515</td><td>20182187</td><td>20203859</td><td>20225531</td><td>20117171</td><td>20138843</td><td>20160515</td><td>20182187</td><td>20203859</td><td>20225531</td><td>16207016</td><td>TRUONG MINH HOA</td><td>NULL</td><td>NULL</td><td>0.00</td><td>21061</td><td>CS</td><td>CS XS TW Standard 42</td><td>21100000.00</td><td>NULL</td></tr><tr><td>2021-05-23 00:00:00.0000000</td><td>JOB_STG_T24_SAOKE_DEBT_COLLECTION_D01</td><td>2021-05-24 06:37:50.0000000</td><td>2021-05-23 00:00:00.0000000</td><td>2021-05-23 00:00:00.0000000</td><td>1000320060317763</td><td>LD2017972387</td><td>1057796</td><td>10125982118</td><td>664</td><td>0</td><td>NULL</td><td>NULL</td><td>NULL</td><td>NULL</td><td>NULL</td><td>36</td><td>11</td><td>2021-06-09 00:00:00.0000000</td><td>599027</td><td>1193483</td><td>NULL</td><td>NULL</td><td>NULL</td><td>NULL</td><td>NULL</td><td>NULL</td><td>NULL</td><td>NULL</td><td>NULL</td><td>NULL</td><td>NULL</td><td>NULL</td><td>NULL</td><td>NULL</td><td>NULL</td><td>NULL</td><td>NULL</td><td>NULL</td><td>NULL</td><td>NULL</td><td>1804510</td><td>1803846</td><td>NULL</td><td>NULL</td><td>NULL</td><td>NULL</td><td>NULL</td><td>NULL</td><td>NULL</td><td>1792510</td><td>1792510</td><td>1792510</td><td>1792510</td><td>1792510</td><td>1792510</td><td>1791846</td><td>1791846</td><td>1791846</td><td>1791846</td><td>1791846</td><td>1791846</td><td>28104588</td><td>BUI THI THUY HOA</td><td>NULL</td><td>NULL</td><td>NULL</td><td>21061</td><td>CS</td><td>CS CF A 50</td><td>32705000.00</td><td>NULL</td></tr><tr><td>2021-05-23 00:00:00.0000000</td><td>JOB_STG_T24_SAOKE_DEBT_COLLECTION_D01</td><td>2021-05-24 06:37:50.0000000</td><td>2021-05-23 00:00:00.0000000</td><td>2021-05-23 00:00:00.0000000</td><td>1000320060322741</td><td>LD2018128809</td><td>1058771</td><td>10126011941</td><td>726</td><td>0</td><td>NULL</td><td>NULL</td><td>NULL</td><td>NULL</td><td>NULL</td><td>24</td><td>11</td><td>2021-06-11 00:00:00.0000000</td><td>1195346</td><td>951457</td><td>NULL</td><td>NULL</td><td>NULL</td><td>NULL</td><td>NULL</td><td>NULL</td><td>NULL</td><td>NULL</td><td>NULL</td><td>NULL</td><td>NULL</td><td>NULL</td><td>NULL</td><td>NULL</td><td>0</td><td>0</td><td>0</td><td>0</td><td>0</td><td>0</td><td>2158803</td><td>2158077</td><td>0</td><td>NULL</td><td>NULL</td><td>NULL</td><td>NULL</td><td>NULL</td><td>NULL</td><td>2146803</td><td>2146803</td><td>2146803</td><td>2146803</td><td>2146803</td><td>2146803</td><td>2146077</td><td>2146077</td><td>2146077</td><td>2146077</td><td>2146077</td><td>2146077</td><td>22405271</td><td>HUYNH THONG THAI</td><td>NULL</td><td>NULL</td><td>-17075.00</td><td>21061</td><td>CS</td><td>CS CF C 50</td><td>31650000.00</td><td>NULL</td></tr><tr><td>2021-05-23 00:00:00.0000000</td><td>JOB_STG_T24_SAOKE_DEBT_COLLECTION_D01</td><td>2021-05-24 06:37:50.0000000</td><td>2021-05-23 00:00:00.0000000</td><td>2021-05-23 00:00:00.0000000</td><td>1000320060322864</td><td>10126001202</td><td>726818</td><td>10116077537</td><td>1729769</td><td>0</td><td>NULL</td><td>NULL</td><td>NULL</td><td>NULL</td><td>NULL</td><td>36</td><td>11</td><td>2021-06-11 00:00:00.0000000</td><td>1687073</td><td>2666537</td><td>NULL</td><td>NULL</td><td>NULL</td><td>NULL</td><td>NULL</td><td>NULL</td><td>NULL</td><td>NULL</td><td>NULL</td><td>NULL</td><td>NULL</td><td>NULL</td><td>NULL</td><td>NULL</td><td>NULL</td><td>NULL</td><td>NULL</td><td>NULL</td><td>NULL</td><td>NULL</td><td>4365610</td><td>2635841</td><td>NULL</td><td>NULL</td><td>NULL</td><td>NULL</td><td>NULL</td><td>NULL</td><td>NULL</td><td>4353610</td><td>4353610</td><td>4353610</td><td>4353610</td><td>4353610</td><td>4353610</td><td>2623841</td><td>2623841</td><td>2623841</td><td>2623841</td><td>2623841</td><td>2623841</td><td>67482929</td><td>PHAM THI BICH HUYEN</td><td>NULL</td><td>NULL</td><td>NULL</td><td>HOP DONG HAN MUC</td><td>REVOLVING.LOAN</td><td>CS RL TW DUO 46.6</td><td>77015000.00</td><td>NULL</td></tr><tr><td>2021-05-23 00:00:00.0000000</td><td>JOB_STG_T24_SAOKE_DEBT_COLLECTION_D01</td><td>2021-05-24 06:37:50.0000000</td><td>2021-05-23 00:00:00.0000000</td><td>2021-05-23 00:00:00.0000000</td><td>1000320060322988</td><td>LD2018320568</td><td>1060877</td><td>10126077683</td><td>210611</td><td>0</td><td>NULL</td><td>NULL</td><td>NULL</td><td>NULL</td><td>NULL</td><td>36</td><td>11</td><td>2021-06-13 00:00:00.0000000</td><td>1539800</td><td>1927906</td><td>NULL</td><td>NULL</td><td>NULL</td><td>NULL</td><td>NULL</td><td>NULL</td><td>NULL</td><td>NULL</td><td>NULL</td><td>NULL</td><td>NULL</td><td>NULL</td><td>NULL</td><td>NULL</td><td>0</td><td>0</td><td>0</td><td>0</td><td>0</td><td>0</td><td>3479706</td><td>3269095</td><td>0</td><td>NULL</td><td>NULL</td><td>NULL</td><td>NULL</td><td>NULL</td><td>NULL</td><td>3467706</td><td>3467706</td><td>3467706</td><td>3467706</td><td>3467706</td><td>3467706</td><td>3257095</td><td>3257095</td><td>3257095</td><td>3257095</td><td>3257095</td><td>3257095</td><td>61350101</td><td>CHU VAN PHAT</td><td>YES</td><td>2021-03-18 00:00:00.0000000</td><td>-30246.00</td><td>21061</td><td>CS</td><td>CS Bank Acct VIP 37</td><td>73850000.00</td><td>NULL</td></tr><tr><td>2021-05-23 00:00:00.0000000</td><td>JOB_STG_T24_SAOKE_DEBT_COLLECTION_D01</td><td>2021-05-24 06:37:50.0000000</td><td>2021-05-23 00:00:00.0000000</td><td>2021-05-23 00:00:00.0000000</td><td>1000320060323071</td><td>LD2018158070</td><td>1059081</td><td>10126021742</td><td>0</td><td>225</td><td>226</td><td>227</td><td>228</td><td>229</td><td>230</td><td>21</td><td>11</td><td>2021-06-11 00:00:00.0000000</td><td>981063</td><td>571851</td><td>5099745</td><td>5764395</td><td>1307892</td><td>1318371</td><td>1328850</td><td>1339329</td><td>1349808</td><td>1360287</td><td>199252</td><td>200831</td><td>202410</td><td>203989</td><td>205568</td><td>207147</td><td>1507144</td><td>1519202</td><td>1531260</td><td>1543318</td><td>1555376</td><td>1567434</td><td>1564914</td><td>1564914</td><td>12383284</td><td>12383284</td><td>12395342</td><td>12407400</td><td>12419458</td><td>12431516</td><td>12443574</td><td>13936198</td><td>13948256</td><td>13960314</td><td>13972372</td><td>13984430</td><td>13996488</td><td>13936198</td><td>13948256</td><td>13960314</td><td>13972372</td><td>13984430</td><td>13996488</td><td>18565910</td><td>TRAN MINH THIET</td><td>NULL</td><td>NULL</td><td>-4856.00</td><td>21061</td><td>CS</td><td>CS CF A 50</td><td>21100000.00</td><td>NULL</td></tr></table>"
                    },
                    "metadata": {}
                }
            ],
            "execution_count": 5
        },
        {
            "cell_type": "markdown",
            "source": [
                "Ở trong câu truy vấn trên, điều kiện `WHERE Y_SEL_DATE = ''2021-05-23''` phức tạp hơn bình thường do câu truy vấn nằm trong nháy đơn nên phần ngày `2021-05-23` phải lồng ở trong 2 lần nháy đơn.\n",
                "\n",
                "Tuy nhiên thông thường khi truy vấn dữ liệu, ta muốn quá trình truy vấn diễn ra tự động và vì thế thường khai các biến (variable) và sử dụng biến này trong các điều kiện truy vấn.\n",
                "\n",
                "Sử dụng bảng `nguyennqb.dbo.SAOKEDEBT_20210522` ở SQL Server (tương ứng với bảng `STG_T24_SAOKE_DEBT_COLLECTION` ở Oracle, cả 2 đều là sao kê debt), ta có thể truy vấn dữ liệu như sau:"
            ],
            "metadata": {
                "azdata_cell_guid": "c3887fb6-8cf5-472f-894b-5dbfcd295642"
            }
        },
        {
            "cell_type": "code",
            "source": [
                "declare @y_sel_date varchar(8) = '20210522'\r\n",
                "Select top 10 * from nguyennqb.dbo.SAOKEDEBT_20210522  where [Y SEL DATE] = @y_sel_date"
            ],
            "metadata": {
                "azdata_cell_guid": "376d34af-2369-414b-817d-0098660b11e0"
            },
            "outputs": [
                {
                    "output_type": "display_data",
                    "data": {
                        "text/html": "(10 rows affected)"
                    },
                    "metadata": {}
                },
                {
                    "output_type": "display_data",
                    "data": {
                        "text/html": "Total execution time: 00:00:00.019"
                    },
                    "metadata": {}
                },
                {
                    "output_type": "execute_result",
                    "execution_count": 7,
                    "data": {
                        "application/vnd.dataresource+json": {
                            "schema": {
                                "fields": [
                                    {
                                        "name": "Y SEL DATE"
                                    },
                                    {
                                        "name": "Y CONTRACT REF"
                                    },
                                    {
                                        "name": "LD ID"
                                    },
                                    {
                                        "name": "CUS ID"
                                    },
                                    {
                                        "name": "YID AC"
                                    },
                                    {
                                        "name": "YWK BAL"
                                    },
                                    {
                                        "name": "Y SONGAY QH"
                                    },
                                    {
                                        "name": "Y SONGAY QH T1"
                                    },
                                    {
                                        "name": "Y SONGAY QH T2"
                                    },
                                    {
                                        "name": "Y SONGAY QH T3"
                                    },
                                    {
                                        "name": "Y SONGAY QH T4"
                                    },
                                    {
                                        "name": "Y SONGAY QH T5"
                                    },
                                    {
                                        "name": "Y KYHAN"
                                    },
                                    {
                                        "name": "Y KYTRANO"
                                    },
                                    {
                                        "name": "Y DATE NEXT"
                                    },
                                    {
                                        "name": "Y PR NEXT"
                                    },
                                    {
                                        "name": "Y IN NEXT"
                                    },
                                    {
                                        "name": "Y QH PR"
                                    },
                                    {
                                        "name": "Y QH IN"
                                    },
                                    {
                                        "name": "Y QH PE"
                                    },
                                    {
                                        "name": "YAMT PE T1"
                                    },
                                    {
                                        "name": "YAMT PE T2"
                                    },
                                    {
                                        "name": "YAMT PE T3"
                                    },
                                    {
                                        "name": "YAMT PE T4"
                                    },
                                    {
                                        "name": "YAMT PE T5"
                                    },
                                    {
                                        "name": "Y QH PS"
                                    },
                                    {
                                        "name": "YAMT PS T1"
                                    },
                                    {
                                        "name": "YAMT PS T2"
                                    },
                                    {
                                        "name": "YAMT PS T3"
                                    },
                                    {
                                        "name": "YAMT PS T4"
                                    },
                                    {
                                        "name": "YAMT PS T5"
                                    },
                                    {
                                        "name": "Y TOTAL PE"
                                    },
                                    {
                                        "name": "YTOTAL PE PS T1"
                                    },
                                    {
                                        "name": "YTOTAL PE PS T2"
                                    },
                                    {
                                        "name": "YTOTAL PE PS T3"
                                    },
                                    {
                                        "name": "YTOTAL PE PS T4"
                                    },
                                    {
                                        "name": "YTOTAL PE PS T5"
                                    },
                                    {
                                        "name": "YTOTAL AMT LD"
                                    },
                                    {
                                        "name": "YTOTAL AMT LD AC"
                                    },
                                    {
                                        "name": "Y TOTAL QH"
                                    },
                                    {
                                        "name": "Y TOTAL QH AC"
                                    },
                                    {
                                        "name": "Y TOTAL QH AC T1"
                                    },
                                    {
                                        "name": "Y TOTAL QH AC T2"
                                    },
                                    {
                                        "name": "Y TOTAL QH AC T3"
                                    },
                                    {
                                        "name": "Y TOTAL QH AC T4"
                                    },
                                    {
                                        "name": "Y TOTAL QH AC T5"
                                    },
                                    {
                                        "name": "Y TOTAL REPAY"
                                    },
                                    {
                                        "name": "Y TOTAL REPAY T1"
                                    },
                                    {
                                        "name": "Y TOTAL REPAY T2"
                                    },
                                    {
                                        "name": "Y TOTAL REPAY T3"
                                    },
                                    {
                                        "name": "Y TOTAL REPAY T4"
                                    },
                                    {
                                        "name": "Y TOTAL REPAY T5"
                                    },
                                    {
                                        "name": "Y TOTAL REPAY AC"
                                    },
                                    {
                                        "name": "Y TOTAL REPAY AC T1"
                                    },
                                    {
                                        "name": "Y TOTAL REPAY AC T2"
                                    },
                                    {
                                        "name": "Y TOTAL REPAY AC T3"
                                    },
                                    {
                                        "name": "Y TOTAL REPAY AC T4"
                                    },
                                    {
                                        "name": "Y TOTAL REPAY AC T5"
                                    },
                                    {
                                        "name": "Y DUNO CL"
                                    },
                                    {
                                        "name": "CUS NAME"
                                    },
                                    {
                                        "name": "Y EARLY RPY"
                                    },
                                    {
                                        "name": "Y EARLY RPY DATE"
                                    },
                                    {
                                        "name": "YWK BAL 43"
                                    },
                                    {
                                        "name": "Y CATEGORY"
                                    },
                                    {
                                        "name": "PRODUCT TYPE"
                                    },
                                    {
                                        "name": "Y SUB NAME"
                                    },
                                    {
                                        "name": "Y DRAWDOWN NET AMT"
                                    },
                                    {
                                        "name": "Y RFD AMT"
                                    }
                                ]
                            },
                            "data": [
                                {
                                    "0": "20210522",
                                    "1": "1000320080284178",
                                    "2": "10127503406",
                                    "3": "348151",
                                    "4": "10107037433",
                                    "5": "0",
                                    "6": "0",
                                    "7": "",
                                    "8": "",
                                    "9": "",
                                    "10": "",
                                    "11": "",
                                    "12": "36",
                                    "13": "9",
                                    "14": "20210608",
                                    "15": "314958.825",
                                    "16": "497814",
                                    "17": "",
                                    "18": "",
                                    "19": "",
                                    "20": "",
                                    "21": "",
                                    "22": "",
                                    "23": "",
                                    "24": "",
                                    "25": "",
                                    "26": "",
                                    "27": "",
                                    "28": "",
                                    "29": "",
                                    "30": "",
                                    "31": "0",
                                    "32": "0",
                                    "33": "0",
                                    "34": "0",
                                    "35": "0",
                                    "36": "0",
                                    "37": "824772.825",
                                    "38": "824772.825",
                                    "39": "0",
                                    "40": "",
                                    "41": "",
                                    "42": "",
                                    "43": "",
                                    "44": "",
                                    "45": "",
                                    "46": "812772.825",
                                    "47": "812772.825",
                                    "48": "812772.825",
                                    "49": "812772.825",
                                    "50": "812772.825",
                                    "51": "812772.825",
                                    "52": "812772.825",
                                    "53": "812772.825",
                                    "54": "812772.825",
                                    "55": "812772.825",
                                    "56": "812772.825",
                                    "57": "812772.825",
                                    "58": "12598353",
                                    "59": "LE THI KIM TUYEN",
                                    "60": "",
                                    "61": "",
                                    "62": "-10868",
                                    "63": "HOP DONG HAN MUC",
                                    "64": "REVOLVING.LOAN",
                                    "65": "CS RL CS DUO 46.6",
                                    "66": "18990000",
                                    "67": ""
                                },
                                {
                                    "0": "20210522",
                                    "1": "1000320080284186",
                                    "2": "10127496426",
                                    "3": "383054",
                                    "4": "10107822041",
                                    "5": "496",
                                    "6": "0",
                                    "7": "",
                                    "8": "",
                                    "9": "",
                                    "10": "",
                                    "11": "",
                                    "12": "36",
                                    "13": "9",
                                    "14": "20210608",
                                    "15": "579182.6",
                                    "16": "915438",
                                    "17": "",
                                    "18": "",
                                    "19": "",
                                    "20": "",
                                    "21": "",
                                    "22": "",
                                    "23": "",
                                    "24": "",
                                    "25": "",
                                    "26": "",
                                    "27": "",
                                    "28": "",
                                    "29": "",
                                    "30": "",
                                    "31": "",
                                    "32": "",
                                    "33": "",
                                    "34": "",
                                    "35": "",
                                    "36": "",
                                    "37": "1506620.6",
                                    "38": "1506124.6",
                                    "39": "",
                                    "40": "",
                                    "41": "",
                                    "42": "",
                                    "43": "",
                                    "44": "",
                                    "45": "",
                                    "46": "1494620.6",
                                    "47": "1494620.6",
                                    "48": "1494620.6",
                                    "49": "1494620.6",
                                    "50": "1494620.6",
                                    "51": "1494620.6",
                                    "52": "1494124.6",
                                    "53": "1494124.6",
                                    "54": "1494124.6",
                                    "55": "1494124.6",
                                    "56": "1494124.6",
                                    "57": "1494124.6",
                                    "58": "23167304",
                                    "59": "PHAM THI THUY DUONG",
                                    "60": "",
                                    "61": "",
                                    "62": "",
                                    "63": "HOP DONG HAN MUC",
                                    "64": "REVOLVING.LOAN",
                                    "65": "CS RL CS DUO 46.6",
                                    "66": "34921000",
                                    "67": ""
                                },
                                {
                                    "0": "20210522",
                                    "1": "1000320080284194",
                                    "2": "LD2023859411",
                                    "3": "1106938",
                                    "4": "10127473728",
                                    "5": "10856",
                                    "6": "0",
                                    "7": "",
                                    "8": "",
                                    "9": "",
                                    "10": "",
                                    "11": "",
                                    "12": "18",
                                    "13": "9",
                                    "14": "20210607",
                                    "15": "792108",
                                    "16": "410160",
                                    "17": "",
                                    "18": "",
                                    "19": "",
                                    "20": "",
                                    "21": "",
                                    "22": "",
                                    "23": "",
                                    "24": "",
                                    "25": "",
                                    "26": "",
                                    "27": "",
                                    "28": "",
                                    "29": "",
                                    "30": "",
                                    "31": "",
                                    "32": "",
                                    "33": "",
                                    "34": "",
                                    "35": "",
                                    "36": "",
                                    "37": "1214268",
                                    "38": "1203412",
                                    "39": "",
                                    "40": "",
                                    "41": "",
                                    "42": "",
                                    "43": "",
                                    "44": "",
                                    "45": "",
                                    "46": "1202268",
                                    "47": "1202268",
                                    "48": "1202268",
                                    "49": "1202268",
                                    "50": "1202268",
                                    "51": "1202268",
                                    "52": "1191412",
                                    "53": "1191412",
                                    "54": "1191412",
                                    "55": "1191412",
                                    "56": "1191412",
                                    "57": "1191412",
                                    "58": "9658614",
                                    "59": "NGUYEN THI LIEN",
                                    "60": "",
                                    "61": "",
                                    "62": "",
                                    "63": "21061",
                                    "64": "CS",
                                    "65": "CS CF A 50",
                                    "66": "14770000",
                                    "67": ""
                                },
                                {
                                    "0": "20210522",
                                    "1": "1000320080284208",
                                    "2": "10127458052",
                                    "3": "534947",
                                    "4": "10110330176",
                                    "5": "10924",
                                    "6": "0",
                                    "7": "",
                                    "8": "",
                                    "9": "",
                                    "10": "",
                                    "11": "",
                                    "12": "36",
                                    "13": "9",
                                    "14": "20210606",
                                    "15": "262465.725",
                                    "16": "414846",
                                    "17": "",
                                    "18": "",
                                    "19": "",
                                    "20": "",
                                    "21": "",
                                    "22": "",
                                    "23": "",
                                    "24": "",
                                    "25": "",
                                    "26": "",
                                    "27": "",
                                    "28": "",
                                    "29": "",
                                    "30": "",
                                    "31": "0",
                                    "32": "0",
                                    "33": "0",
                                    "34": "0",
                                    "35": "0",
                                    "36": "0",
                                    "37": "689311.725",
                                    "38": "678387.725",
                                    "39": "0",
                                    "40": "",
                                    "41": "",
                                    "42": "",
                                    "43": "",
                                    "44": "",
                                    "45": "",
                                    "46": "677311.725",
                                    "47": "677311.725",
                                    "48": "677311.725",
                                    "49": "677311.725",
                                    "50": "677311.725",
                                    "51": "677311.725",
                                    "52": "666387.725",
                                    "53": "666387.725",
                                    "54": "666387.725",
                                    "55": "666387.725",
                                    "56": "666387.725",
                                    "57": "666387.725",
                                    "58": "10498629",
                                    "59": "HUYNH THANH DU",
                                    "60": "",
                                    "61": "",
                                    "62": "-4325",
                                    "63": "HOP DONG HAN MUC",
                                    "64": "REVOLVING.LOAN",
                                    "65": "CS RL CS DUO 46.6",
                                    "66": "15825000",
                                    "67": ""
                                },
                                {
                                    "0": "20210522",
                                    "1": "1000320080284216",
                                    "2": "LD2023839146",
                                    "3": "1107209",
                                    "4": "10127482301",
                                    "5": "11128",
                                    "6": "0",
                                    "7": "",
                                    "8": "",
                                    "9": "",
                                    "10": "",
                                    "11": "",
                                    "12": "36",
                                    "13": "9",
                                    "14": "20210607",
                                    "15": "1445086",
                                    "16": "2022023",
                                    "17": "",
                                    "18": "",
                                    "19": "",
                                    "20": "",
                                    "21": "",
                                    "22": "",
                                    "23": "",
                                    "24": "",
                                    "25": "",
                                    "26": "",
                                    "27": "",
                                    "28": "",
                                    "29": "",
                                    "30": "",
                                    "31": "0",
                                    "32": "0",
                                    "33": "0",
                                    "34": "0",
                                    "35": "0",
                                    "36": "0",
                                    "37": "3479109",
                                    "38": "3467981",
                                    "39": "0",
                                    "40": "",
                                    "41": "",
                                    "42": "",
                                    "43": "",
                                    "44": "",
                                    "45": "",
                                    "46": "3467109",
                                    "47": "3467109",
                                    "48": "3467109",
                                    "49": "3467109",
                                    "50": "3467109",
                                    "51": "3467109",
                                    "52": "3455981",
                                    "53": "3455981",
                                    "54": "3455981",
                                    "55": "3455981",
                                    "56": "3455981",
                                    "57": "3455981",
                                    "58": "64345097",
                                    "59": "NGUYEN BA HUY",
                                    "60": "",
                                    "61": "",
                                    "62": "-2775",
                                    "63": "21061",
                                    "64": "CS",
                                    "65": "CS Insurance 37",
                                    "66": "73850000",
                                    "67": ""
                                },
                                {
                                    "0": "20210522",
                                    "1": "1000320080284232",
                                    "2": "LD2023914080",
                                    "3": "1108226",
                                    "4": "10127513754",
                                    "5": "1640",
                                    "6": "0",
                                    "7": "",
                                    "8": "",
                                    "9": "",
                                    "10": "",
                                    "11": "",
                                    "12": "24",
                                    "13": "9",
                                    "14": "20210608",
                                    "15": "501075",
                                    "16": "544970",
                                    "17": "",
                                    "18": "",
                                    "19": "",
                                    "20": "",
                                    "21": "",
                                    "22": "",
                                    "23": "",
                                    "24": "",
                                    "25": "",
                                    "26": "",
                                    "27": "",
                                    "28": "",
                                    "29": "",
                                    "30": "",
                                    "31": "0",
                                    "32": "0",
                                    "33": "0",
                                    "34": "0",
                                    "35": "0",
                                    "36": "0",
                                    "37": "1058045",
                                    "38": "1056405",
                                    "39": "0",
                                    "40": "",
                                    "41": "",
                                    "42": "",
                                    "43": "",
                                    "44": "",
                                    "45": "",
                                    "46": "1046045",
                                    "47": "1046045",
                                    "48": "1046045",
                                    "49": "1046045",
                                    "50": "1046045",
                                    "51": "1046045",
                                    "52": "1044405",
                                    "53": "1044405",
                                    "54": "1044405",
                                    "55": "1044405",
                                    "56": "1044405",
                                    "57": "1044405",
                                    "58": "11666511",
                                    "59": "TRAN PHUONG LINH",
                                    "60": "",
                                    "61": "",
                                    "62": "-8588",
                                    "63": "21061",
                                    "64": "CS",
                                    "65": "CS MBIKE 55",
                                    "66": "14770000",
                                    "67": ""
                                },
                                {
                                    "0": "20210522",
                                    "1": "1000320080284241",
                                    "2": "LD2023706696",
                                    "3": "820571",
                                    "4": "10118879018",
                                    "5": "101535",
                                    "6": "0",
                                    "7": "",
                                    "8": "",
                                    "9": "",
                                    "10": "",
                                    "11": "",
                                    "12": "24",
                                    "13": "9",
                                    "14": "20210606",
                                    "15": "732240",
                                    "16": "698629",
                                    "17": "",
                                    "18": "",
                                    "19": "",
                                    "20": "",
                                    "21": "",
                                    "22": "",
                                    "23": "",
                                    "24": "",
                                    "25": "",
                                    "26": "",
                                    "27": "",
                                    "28": "",
                                    "29": "",
                                    "30": "",
                                    "31": "",
                                    "32": "",
                                    "33": "",
                                    "34": "",
                                    "35": "",
                                    "36": "",
                                    "37": "1442869",
                                    "38": "1341334",
                                    "39": "",
                                    "40": "",
                                    "41": "",
                                    "42": "",
                                    "43": "",
                                    "44": "",
                                    "45": "",
                                    "46": "1430869",
                                    "47": "1430869",
                                    "48": "1430869",
                                    "49": "1430869",
                                    "50": "1430869",
                                    "51": "1430869",
                                    "52": "1329334",
                                    "53": "1329334",
                                    "54": "1329334",
                                    "55": "1329334",
                                    "56": "1329334",
                                    "57": "1329334",
                                    "58": "16451591",
                                    "59": "TRAN THIEN NHAN",
                                    "60": "",
                                    "61": "",
                                    "62": "0",
                                    "63": "21061",
                                    "64": "CS",
                                    "65": "CS XS CD DUO 50",
                                    "66": "21100000",
                                    "67": ""
                                },
                                {
                                    "0": "20210522",
                                    "1": "1000320080284259",
                                    "2": "10127461711",
                                    "3": "380964",
                                    "4": "10107771088",
                                    "5": "3330",
                                    "6": "0",
                                    "7": "",
                                    "8": "",
                                    "9": "",
                                    "10": "",
                                    "11": "",
                                    "12": "36",
                                    "13": "9",
                                    "14": "20210606",
                                    "15": "524931.425",
                                    "16": "747790",
                                    "17": "",
                                    "18": "",
                                    "19": "",
                                    "20": "",
                                    "21": "",
                                    "22": "",
                                    "23": "",
                                    "24": "",
                                    "25": "",
                                    "26": "",
                                    "27": "",
                                    "28": "",
                                    "29": "",
                                    "30": "",
                                    "31": "",
                                    "32": "",
                                    "33": "",
                                    "34": "",
                                    "35": "",
                                    "36": "",
                                    "37": "1284721.425",
                                    "38": "1281391.425",
                                    "39": "",
                                    "40": "",
                                    "41": "",
                                    "42": "",
                                    "43": "",
                                    "44": "",
                                    "45": "",
                                    "46": "1272721.425",
                                    "47": "1272721.425",
                                    "48": "1272721.425",
                                    "49": "1272721.425",
                                    "50": "1272721.425",
                                    "51": "1272721.425",
                                    "52": "1269391.425",
                                    "53": "1269391.425",
                                    "54": "1269391.425",
                                    "55": "1269391.425",
                                    "56": "1269391.425",
                                    "57": "1269391.425",
                                    "58": "20997257",
                                    "59": "PHAM MINH TAM",
                                    "60": "",
                                    "61": "",
                                    "62": "",
                                    "63": "HOP DONG HAN MUC",
                                    "64": "REVOLVING.LOAN",
                                    "65": "CS RL CS STANDARD 42",
                                    "66": "31650000",
                                    "67": ""
                                },
                                {
                                    "0": "20210522",
                                    "1": "1000320080284267",
                                    "2": "10127634478",
                                    "3": "748661",
                                    "4": "10116731334",
                                    "5": "128",
                                    "6": "0",
                                    "7": "",
                                    "8": "",
                                    "9": "",
                                    "10": "",
                                    "11": "",
                                    "12": "36",
                                    "13": "9",
                                    "14": "20210612",
                                    "15": "359163.575",
                                    "16": "609102",
                                    "17": "",
                                    "18": "",
                                    "19": "",
                                    "20": "",
                                    "21": "",
                                    "22": "",
                                    "23": "",
                                    "24": "",
                                    "25": "",
                                    "26": "",
                                    "27": "",
                                    "28": "",
                                    "29": "",
                                    "30": "",
                                    "31": "0",
                                    "32": "0",
                                    "33": "0",
                                    "34": "0",
                                    "35": "0",
                                    "36": "0",
                                    "37": "980265.575",
                                    "38": "980137.575",
                                    "39": "0",
                                    "40": "",
                                    "41": "",
                                    "42": "",
                                    "43": "",
                                    "44": "",
                                    "45": "",
                                    "46": "968265.575",
                                    "47": "968265.575",
                                    "48": "968265.575",
                                    "49": "968265.575",
                                    "50": "968265.575",
                                    "51": "968265.575",
                                    "52": "968137.575",
                                    "53": "968137.575",
                                    "54": "968137.575",
                                    "55": "968137.575",
                                    "56": "968137.575",
                                    "57": "968137.575",
                                    "58": "14366543",
                                    "59": "NGUYEN THI MY LINH",
                                    "60": "",
                                    "61": "",
                                    "62": "-9824",
                                    "63": "HOP DONG HAN MUC",
                                    "64": "REVOLVING.LOAN",
                                    "65": "CS RL CD STANDARD 50",
                                    "66": "21100000",
                                    "67": ""
                                },
                                {
                                    "0": "20210522",
                                    "1": "1000320080284275",
                                    "2": "10127497198",
                                    "3": "768639",
                                    "4": "10117327812",
                                    "5": "1982",
                                    "6": "0",
                                    "7": "",
                                    "8": "",
                                    "9": "",
                                    "10": "",
                                    "11": "",
                                    "12": "36",
                                    "13": "9",
                                    "14": "20210608",
                                    "15": "699908.55",
                                    "16": "1106254",
                                    "17": "",
                                    "18": "",
                                    "19": "",
                                    "20": "",
                                    "21": "",
                                    "22": "",
                                    "23": "",
                                    "24": "",
                                    "25": "",
                                    "26": "",
                                    "27": "",
                                    "28": "",
                                    "29": "",
                                    "30": "",
                                    "31": "",
                                    "32": "",
                                    "33": "",
                                    "34": "",
                                    "35": "",
                                    "36": "",
                                    "37": "1818162.55",
                                    "38": "1816180.55",
                                    "39": "",
                                    "40": "",
                                    "41": "",
                                    "42": "",
                                    "43": "",
                                    "44": "",
                                    "45": "",
                                    "46": "1806162.55",
                                    "47": "1806162.55",
                                    "48": "1806162.55",
                                    "49": "1806162.55",
                                    "50": "1806162.55",
                                    "51": "1806162.55",
                                    "52": "1804180.55",
                                    "53": "1804180.55",
                                    "54": "1804180.55",
                                    "55": "1804180.55",
                                    "56": "1804180.55",
                                    "57": "1804180.55",
                                    "58": "27996342",
                                    "59": "NGUYEN VAN CUONG",
                                    "60": "",
                                    "61": "",
                                    "62": "",
                                    "63": "HOP DONG HAN MUC",
                                    "64": "REVOLVING.LOAN",
                                    "65": "CS RL TW DUO 46.6",
                                    "66": "42200000",
                                    "67": ""
                                }
                            ]
                        },
                        "text/html": "<table><tr><th>Y SEL DATE</th><th>Y CONTRACT REF</th><th>LD ID</th><th>CUS ID</th><th>YID AC</th><th>YWK BAL</th><th>Y SONGAY QH</th><th>Y SONGAY QH T1</th><th>Y SONGAY QH T2</th><th>Y SONGAY QH T3</th><th>Y SONGAY QH T4</th><th>Y SONGAY QH T5</th><th>Y KYHAN</th><th>Y KYTRANO</th><th>Y DATE NEXT</th><th>Y PR NEXT</th><th>Y IN NEXT</th><th>Y QH PR</th><th>Y QH IN</th><th>Y QH PE</th><th>YAMT PE T1</th><th>YAMT PE T2</th><th>YAMT PE T3</th><th>YAMT PE T4</th><th>YAMT PE T5</th><th>Y QH PS</th><th>YAMT PS T1</th><th>YAMT PS T2</th><th>YAMT PS T3</th><th>YAMT PS T4</th><th>YAMT PS T5</th><th>Y TOTAL PE</th><th>YTOTAL PE PS T1</th><th>YTOTAL PE PS T2</th><th>YTOTAL PE PS T3</th><th>YTOTAL PE PS T4</th><th>YTOTAL PE PS T5</th><th>YTOTAL AMT LD</th><th>YTOTAL AMT LD AC</th><th>Y TOTAL QH</th><th>Y TOTAL QH AC</th><th>Y TOTAL QH AC T1</th><th>Y TOTAL QH AC T2</th><th>Y TOTAL QH AC T3</th><th>Y TOTAL QH AC T4</th><th>Y TOTAL QH AC T5</th><th>Y TOTAL REPAY</th><th>Y TOTAL REPAY T1</th><th>Y TOTAL REPAY T2</th><th>Y TOTAL REPAY T3</th><th>Y TOTAL REPAY T4</th><th>Y TOTAL REPAY T5</th><th>Y TOTAL REPAY AC</th><th>Y TOTAL REPAY AC T1</th><th>Y TOTAL REPAY AC T2</th><th>Y TOTAL REPAY AC T3</th><th>Y TOTAL REPAY AC T4</th><th>Y TOTAL REPAY AC T5</th><th>Y DUNO CL</th><th>CUS NAME</th><th>Y EARLY RPY</th><th>Y EARLY RPY DATE</th><th>YWK BAL 43</th><th>Y CATEGORY</th><th>PRODUCT TYPE</th><th>Y SUB NAME</th><th>Y DRAWDOWN NET AMT</th><th>Y RFD AMT</th></tr><tr><td>20210522</td><td>1000320080284178</td><td>10127503406</td><td>348151</td><td>10107037433</td><td>0</td><td>0</td><td></td><td></td><td></td><td></td><td></td><td>36</td><td>9</td><td>20210608</td><td>314958.825</td><td>497814</td><td></td><td></td><td></td><td></td><td></td><td></td><td></td><td></td><td></td><td></td><td></td><td></td><td></td><td></td><td>0</td><td>0</td><td>0</td><td>0</td><td>0</td><td>0</td><td>824772.825</td><td>824772.825</td><td>0</td><td></td><td></td><td></td><td></td><td></td><td></td><td>812772.825</td><td>812772.825</td><td>812772.825</td><td>812772.825</td><td>812772.825</td><td>812772.825</td><td>812772.825</td><td>812772.825</td><td>812772.825</td><td>812772.825</td><td>812772.825</td><td>812772.825</td><td>12598353</td><td>LE THI KIM TUYEN</td><td></td><td></td><td>-10868</td><td>HOP DONG HAN MUC</td><td>REVOLVING.LOAN</td><td>CS RL CS DUO 46.6</td><td>18990000</td><td></td></tr><tr><td>20210522</td><td>1000320080284186</td><td>10127496426</td><td>383054</td><td>10107822041</td><td>496</td><td>0</td><td></td><td></td><td></td><td></td><td></td><td>36</td><td>9</td><td>20210608</td><td>579182.6</td><td>915438</td><td></td><td></td><td></td><td></td><td></td><td></td><td></td><td></td><td></td><td></td><td></td><td></td><td></td><td></td><td></td><td></td><td></td><td></td><td></td><td></td><td>1506620.6</td><td>1506124.6</td><td></td><td></td><td></td><td></td><td></td><td></td><td></td><td>1494620.6</td><td>1494620.6</td><td>1494620.6</td><td>1494620.6</td><td>1494620.6</td><td>1494620.6</td><td>1494124.6</td><td>1494124.6</td><td>1494124.6</td><td>1494124.6</td><td>1494124.6</td><td>1494124.6</td><td>23167304</td><td>PHAM THI THUY DUONG</td><td></td><td></td><td></td><td>HOP DONG HAN MUC</td><td>REVOLVING.LOAN</td><td>CS RL CS DUO 46.6</td><td>34921000</td><td></td></tr><tr><td>20210522</td><td>1000320080284194</td><td>LD2023859411</td><td>1106938</td><td>10127473728</td><td>10856</td><td>0</td><td></td><td></td><td></td><td></td><td></td><td>18</td><td>9</td><td>20210607</td><td>792108</td><td>410160</td><td></td><td></td><td></td><td></td><td></td><td></td><td></td><td></td><td></td><td></td><td></td><td></td><td></td><td></td><td></td><td></td><td></td><td></td><td></td><td></td><td>1214268</td><td>1203412</td><td></td><td></td><td></td><td></td><td></td><td></td><td></td><td>1202268</td><td>1202268</td><td>1202268</td><td>1202268</td><td>1202268</td><td>1202268</td><td>1191412</td><td>1191412</td><td>1191412</td><td>1191412</td><td>1191412</td><td>1191412</td><td>9658614</td><td>NGUYEN THI LIEN</td><td></td><td></td><td></td><td>21061</td><td>CS</td><td>CS CF A 50</td><td>14770000</td><td></td></tr><tr><td>20210522</td><td>1000320080284208</td><td>10127458052</td><td>534947</td><td>10110330176</td><td>10924</td><td>0</td><td></td><td></td><td></td><td></td><td></td><td>36</td><td>9</td><td>20210606</td><td>262465.725</td><td>414846</td><td></td><td></td><td></td><td></td><td></td><td></td><td></td><td></td><td></td><td></td><td></td><td></td><td></td><td></td><td>0</td><td>0</td><td>0</td><td>0</td><td>0</td><td>0</td><td>689311.725</td><td>678387.725</td><td>0</td><td></td><td></td><td></td><td></td><td></td><td></td><td>677311.725</td><td>677311.725</td><td>677311.725</td><td>677311.725</td><td>677311.725</td><td>677311.725</td><td>666387.725</td><td>666387.725</td><td>666387.725</td><td>666387.725</td><td>666387.725</td><td>666387.725</td><td>10498629</td><td>HUYNH THANH DU</td><td></td><td></td><td>-4325</td><td>HOP DONG HAN MUC</td><td>REVOLVING.LOAN</td><td>CS RL CS DUO 46.6</td><td>15825000</td><td></td></tr><tr><td>20210522</td><td>1000320080284216</td><td>LD2023839146</td><td>1107209</td><td>10127482301</td><td>11128</td><td>0</td><td></td><td></td><td></td><td></td><td></td><td>36</td><td>9</td><td>20210607</td><td>1445086</td><td>2022023</td><td></td><td></td><td></td><td></td><td></td><td></td><td></td><td></td><td></td><td></td><td></td><td></td><td></td><td></td><td>0</td><td>0</td><td>0</td><td>0</td><td>0</td><td>0</td><td>3479109</td><td>3467981</td><td>0</td><td></td><td></td><td></td><td></td><td></td><td></td><td>3467109</td><td>3467109</td><td>3467109</td><td>3467109</td><td>3467109</td><td>3467109</td><td>3455981</td><td>3455981</td><td>3455981</td><td>3455981</td><td>3455981</td><td>3455981</td><td>64345097</td><td>NGUYEN BA HUY</td><td></td><td></td><td>-2775</td><td>21061</td><td>CS</td><td>CS Insurance 37</td><td>73850000</td><td></td></tr><tr><td>20210522</td><td>1000320080284232</td><td>LD2023914080</td><td>1108226</td><td>10127513754</td><td>1640</td><td>0</td><td></td><td></td><td></td><td></td><td></td><td>24</td><td>9</td><td>20210608</td><td>501075</td><td>544970</td><td></td><td></td><td></td><td></td><td></td><td></td><td></td><td></td><td></td><td></td><td></td><td></td><td></td><td></td><td>0</td><td>0</td><td>0</td><td>0</td><td>0</td><td>0</td><td>1058045</td><td>1056405</td><td>0</td><td></td><td></td><td></td><td></td><td></td><td></td><td>1046045</td><td>1046045</td><td>1046045</td><td>1046045</td><td>1046045</td><td>1046045</td><td>1044405</td><td>1044405</td><td>1044405</td><td>1044405</td><td>1044405</td><td>1044405</td><td>11666511</td><td>TRAN PHUONG LINH</td><td></td><td></td><td>-8588</td><td>21061</td><td>CS</td><td>CS MBIKE 55</td><td>14770000</td><td></td></tr><tr><td>20210522</td><td>1000320080284241</td><td>LD2023706696</td><td>820571</td><td>10118879018</td><td>101535</td><td>0</td><td></td><td></td><td></td><td></td><td></td><td>24</td><td>9</td><td>20210606</td><td>732240</td><td>698629</td><td></td><td></td><td></td><td></td><td></td><td></td><td></td><td></td><td></td><td></td><td></td><td></td><td></td><td></td><td></td><td></td><td></td><td></td><td></td><td></td><td>1442869</td><td>1341334</td><td></td><td></td><td></td><td></td><td></td><td></td><td></td><td>1430869</td><td>1430869</td><td>1430869</td><td>1430869</td><td>1430869</td><td>1430869</td><td>1329334</td><td>1329334</td><td>1329334</td><td>1329334</td><td>1329334</td><td>1329334</td><td>16451591</td><td>TRAN THIEN NHAN</td><td></td><td></td><td>0</td><td>21061</td><td>CS</td><td>CS XS CD DUO 50</td><td>21100000</td><td></td></tr><tr><td>20210522</td><td>1000320080284259</td><td>10127461711</td><td>380964</td><td>10107771088</td><td>3330</td><td>0</td><td></td><td></td><td></td><td></td><td></td><td>36</td><td>9</td><td>20210606</td><td>524931.425</td><td>747790</td><td></td><td></td><td></td><td></td><td></td><td></td><td></td><td></td><td></td><td></td><td></td><td></td><td></td><td></td><td></td><td></td><td></td><td></td><td></td><td></td><td>1284721.425</td><td>1281391.425</td><td></td><td></td><td></td><td></td><td></td><td></td><td></td><td>1272721.425</td><td>1272721.425</td><td>1272721.425</td><td>1272721.425</td><td>1272721.425</td><td>1272721.425</td><td>1269391.425</td><td>1269391.425</td><td>1269391.425</td><td>1269391.425</td><td>1269391.425</td><td>1269391.425</td><td>20997257</td><td>PHAM MINH TAM</td><td></td><td></td><td></td><td>HOP DONG HAN MUC</td><td>REVOLVING.LOAN</td><td>CS RL CS STANDARD 42</td><td>31650000</td><td></td></tr><tr><td>20210522</td><td>1000320080284267</td><td>10127634478</td><td>748661</td><td>10116731334</td><td>128</td><td>0</td><td></td><td></td><td></td><td></td><td></td><td>36</td><td>9</td><td>20210612</td><td>359163.575</td><td>609102</td><td></td><td></td><td></td><td></td><td></td><td></td><td></td><td></td><td></td><td></td><td></td><td></td><td></td><td></td><td>0</td><td>0</td><td>0</td><td>0</td><td>0</td><td>0</td><td>980265.575</td><td>980137.575</td><td>0</td><td></td><td></td><td></td><td></td><td></td><td></td><td>968265.575</td><td>968265.575</td><td>968265.575</td><td>968265.575</td><td>968265.575</td><td>968265.575</td><td>968137.575</td><td>968137.575</td><td>968137.575</td><td>968137.575</td><td>968137.575</td><td>968137.575</td><td>14366543</td><td>NGUYEN THI MY LINH</td><td></td><td></td><td>-9824</td><td>HOP DONG HAN MUC</td><td>REVOLVING.LOAN</td><td>CS RL CD STANDARD 50</td><td>21100000</td><td></td></tr><tr><td>20210522</td><td>1000320080284275</td><td>10127497198</td><td>768639</td><td>10117327812</td><td>1982</td><td>0</td><td></td><td></td><td></td><td></td><td></td><td>36</td><td>9</td><td>20210608</td><td>699908.55</td><td>1106254</td><td></td><td></td><td></td><td></td><td></td><td></td><td></td><td></td><td></td><td></td><td></td><td></td><td></td><td></td><td></td><td></td><td></td><td></td><td></td><td></td><td>1818162.55</td><td>1816180.55</td><td></td><td></td><td></td><td></td><td></td><td></td><td></td><td>1806162.55</td><td>1806162.55</td><td>1806162.55</td><td>1806162.55</td><td>1806162.55</td><td>1806162.55</td><td>1804180.55</td><td>1804180.55</td><td>1804180.55</td><td>1804180.55</td><td>1804180.55</td><td>1804180.55</td><td>27996342</td><td>NGUYEN VAN CUONG</td><td></td><td></td><td></td><td>HOP DONG HAN MUC</td><td>REVOLVING.LOAN</td><td>CS RL TW DUO 46.6</td><td>42200000</td><td></td></tr></table>"
                    },
                    "metadata": {}
                }
            ],
            "execution_count": 7
        },
        {
            "cell_type": "markdown",
            "source": [
                "Để sử dụng biến khi truy vấn bằng OPENQUERY, ta có thể làm như sau:"
            ],
            "metadata": {
                "azdata_cell_guid": "5cc03168-b0be-4897-85e5-8dd9bd83d5fe"
            }
        },
        {
            "cell_type": "code",
            "source": [
                "declare @y_sel_date varchar(12) = '2021-05-23'\r\n",
                "exec('select top 1 * from OPENQUERY(ORASRV ,''Select * from IT_USER.STG_T24_SAOKE_DEBT_COLLECTION  where Y_SEL_DATE = '''''+@y_sel_date+''''''' )' )"
            ],
            "metadata": {
                "azdata_cell_guid": "84d243f7-43b3-44fa-b092-a5dfc4388a65"
            },
            "outputs": [
                {
                    "output_type": "display_data",
                    "data": {
                        "text/html": "(1 row affected)"
                    },
                    "metadata": {}
                },
                {
                    "output_type": "display_data",
                    "data": {
                        "text/html": "Total execution time: 00:00:00.021"
                    },
                    "metadata": {}
                },
                {
                    "output_type": "execute_result",
                    "metadata": {},
                    "execution_count": 11,
                    "data": {
                        "application/vnd.dataresource+json": {
                            "schema": {
                                "fields": [
                                    {
                                        "name": "COB_DT"
                                    },
                                    {
                                        "name": "UPD_BY"
                                    },
                                    {
                                        "name": "UPD_TIME"
                                    },
                                    {
                                        "name": "RUN_DATE"
                                    },
                                    {
                                        "name": "Y_SEL_DATE"
                                    },
                                    {
                                        "name": "Y_CONTRACT_REF"
                                    },
                                    {
                                        "name": "LD_ID"
                                    },
                                    {
                                        "name": "CUS_ID"
                                    },
                                    {
                                        "name": "YID_AC"
                                    },
                                    {
                                        "name": "YWK_BAL"
                                    },
                                    {
                                        "name": "Y_SONGAY_QH"
                                    },
                                    {
                                        "name": "Y_SONGAY_QH_T1"
                                    },
                                    {
                                        "name": "Y_SONGAY_QH_T2"
                                    },
                                    {
                                        "name": "Y_SONGAY_QH_T3"
                                    },
                                    {
                                        "name": "Y_SONGAY_QH_T4"
                                    },
                                    {
                                        "name": "Y_SONGAY_QH_T5"
                                    },
                                    {
                                        "name": "Y_KYHAN"
                                    },
                                    {
                                        "name": "Y_KYTRANO"
                                    },
                                    {
                                        "name": "Y_DATE_NEXT"
                                    },
                                    {
                                        "name": "Y_PR_NEXT"
                                    },
                                    {
                                        "name": "Y_IN_NEXT"
                                    },
                                    {
                                        "name": "Y_QH_PR"
                                    },
                                    {
                                        "name": "Y_QH_IN"
                                    },
                                    {
                                        "name": "Y_QH_PE"
                                    },
                                    {
                                        "name": "YAMT_PE_T1"
                                    },
                                    {
                                        "name": "YAMT_PE_T2"
                                    },
                                    {
                                        "name": "YAMT_PE_T3"
                                    },
                                    {
                                        "name": "YAMT_PE_T4"
                                    },
                                    {
                                        "name": "YAMT_PE_T5"
                                    },
                                    {
                                        "name": "Y_QH_PS"
                                    },
                                    {
                                        "name": "YAMT_PS_T1"
                                    },
                                    {
                                        "name": "YAMT_PS_T2"
                                    },
                                    {
                                        "name": "YAMT_PS_T3"
                                    },
                                    {
                                        "name": "YAMT_PS_T4"
                                    },
                                    {
                                        "name": "YAMT_PS_T5"
                                    },
                                    {
                                        "name": "Y_TOTAL_PE"
                                    },
                                    {
                                        "name": "YTOTAL_PE_PS_T1"
                                    },
                                    {
                                        "name": "YTOTAL_PE_PS_T2"
                                    },
                                    {
                                        "name": "YTOTAL_PE_PS_T3"
                                    },
                                    {
                                        "name": "YTOTAL_PE_PS_T4"
                                    },
                                    {
                                        "name": "YTOTAL_PE_PS_T5"
                                    },
                                    {
                                        "name": "YTOTAL_AMT_LD"
                                    },
                                    {
                                        "name": "YTOTAL_AMT_LD_AC"
                                    },
                                    {
                                        "name": "Y_TOTAL_QH"
                                    },
                                    {
                                        "name": "Y_TOTAL_QH_AC"
                                    },
                                    {
                                        "name": "Y_TOTAL_QH_AC_T1"
                                    },
                                    {
                                        "name": "Y_TOTAL_QH_AC_T2"
                                    },
                                    {
                                        "name": "Y_TOTAL_QH_AC_T3"
                                    },
                                    {
                                        "name": "Y_TOTAL_QH_AC_T4"
                                    },
                                    {
                                        "name": "Y_TOTAL_QH_AC_T5"
                                    },
                                    {
                                        "name": "Y_TOTAL_REPAY"
                                    },
                                    {
                                        "name": "Y_TOTAL_REPAY_T1"
                                    },
                                    {
                                        "name": "Y_TOTAL_REPAY_T2"
                                    },
                                    {
                                        "name": "Y_TOTAL_REPAY_T3"
                                    },
                                    {
                                        "name": "Y_TOTAL_REPAY_T4"
                                    },
                                    {
                                        "name": "Y_TOTAL_REPAY_T5"
                                    },
                                    {
                                        "name": "Y_TOTAL_REPAY_AC"
                                    },
                                    {
                                        "name": "Y_TOTAL_REPAY_AC_T1"
                                    },
                                    {
                                        "name": "Y_TOTAL_REPAY_AC_T2"
                                    },
                                    {
                                        "name": "Y_TOTAL_REPAY_AC_T3"
                                    },
                                    {
                                        "name": "Y_TOTAL_REPAY_AC_T4"
                                    },
                                    {
                                        "name": "Y_TOTAL_REPAY_AC_T5"
                                    },
                                    {
                                        "name": "Y_DUNO_CL"
                                    },
                                    {
                                        "name": "CUS_NAME"
                                    },
                                    {
                                        "name": "Y_EARLY_RPY"
                                    },
                                    {
                                        "name": "Y_EARLY_RPY_DATE"
                                    },
                                    {
                                        "name": "YWK_BAL_43"
                                    },
                                    {
                                        "name": "Y_CATEGORY"
                                    },
                                    {
                                        "name": "PRODUCT_TYPE"
                                    },
                                    {
                                        "name": "Y_SUB_NAME"
                                    },
                                    {
                                        "name": "Y_DRAWDOWN_NET_AMT"
                                    },
                                    {
                                        "name": "Y_RFD_AMT"
                                    }
                                ]
                            },
                            "data": [
                                {
                                    "0": "2021-05-23 00:00:00.0000000",
                                    "1": "JOB_STG_T24_SAOKE_DEBT_COLLECTION_D01",
                                    "2": "2021-05-24 06:37:50.0000000",
                                    "3": "2021-05-23 00:00:00.0000000",
                                    "4": "2021-05-23 00:00:00.0000000",
                                    "5": "1000320060317241",
                                    "6": "LD2018102258",
                                    "7": "1059130",
                                    "8": "10126023346",
                                    "9": "180",
                                    "10": "0",
                                    "11": "NULL",
                                    "12": "NULL",
                                    "13": "NULL",
                                    "14": "NULL",
                                    "15": "NULL",
                                    "16": "27",
                                    "17": "11",
                                    "18": "2021-06-11 00:00:00.0000000",
                                    "19": "986522",
                                    "20": "687360",
                                    "21": "NULL",
                                    "22": "NULL",
                                    "23": "NULL",
                                    "24": "NULL",
                                    "25": "NULL",
                                    "26": "NULL",
                                    "27": "NULL",
                                    "28": "NULL",
                                    "29": "NULL",
                                    "30": "NULL",
                                    "31": "NULL",
                                    "32": "NULL",
                                    "33": "NULL",
                                    "34": "NULL",
                                    "35": "NULL",
                                    "36": "NULL",
                                    "37": "NULL",
                                    "38": "NULL",
                                    "39": "NULL",
                                    "40": "NULL",
                                    "41": "1685882",
                                    "42": "1685702",
                                    "43": "NULL",
                                    "44": "NULL",
                                    "45": "NULL",
                                    "46": "NULL",
                                    "47": "NULL",
                                    "48": "NULL",
                                    "49": "NULL",
                                    "50": "1673882",
                                    "51": "1673882",
                                    "52": "1673882",
                                    "53": "1673882",
                                    "54": "1673882",
                                    "55": "1673882",
                                    "56": "1673702",
                                    "57": "1673702",
                                    "58": "1673702",
                                    "59": "1673702",
                                    "60": "1673702",
                                    "61": "1673702",
                                    "62": "21873268",
                                    "63": "LE CONG TUOC",
                                    "64": "NULL",
                                    "65": "NULL",
                                    "66": "NULL",
                                    "67": "21061",
                                    "68": "CS",
                                    "69": "CS SY A 37",
                                    "70": "30000000.00",
                                    "71": "NULL"
                                }
                            ]
                        },
                        "text/html": [
                            "<table>",
                            "<tr><th>COB_DT</th><th>UPD_BY</th><th>UPD_TIME</th><th>RUN_DATE</th><th>Y_SEL_DATE</th><th>Y_CONTRACT_REF</th><th>LD_ID</th><th>CUS_ID</th><th>YID_AC</th><th>YWK_BAL</th><th>Y_SONGAY_QH</th><th>Y_SONGAY_QH_T1</th><th>Y_SONGAY_QH_T2</th><th>Y_SONGAY_QH_T3</th><th>Y_SONGAY_QH_T4</th><th>Y_SONGAY_QH_T5</th><th>Y_KYHAN</th><th>Y_KYTRANO</th><th>Y_DATE_NEXT</th><th>Y_PR_NEXT</th><th>Y_IN_NEXT</th><th>Y_QH_PR</th><th>Y_QH_IN</th><th>Y_QH_PE</th><th>YAMT_PE_T1</th><th>YAMT_PE_T2</th><th>YAMT_PE_T3</th><th>YAMT_PE_T4</th><th>YAMT_PE_T5</th><th>Y_QH_PS</th><th>YAMT_PS_T1</th><th>YAMT_PS_T2</th><th>YAMT_PS_T3</th><th>YAMT_PS_T4</th><th>YAMT_PS_T5</th><th>Y_TOTAL_PE</th><th>YTOTAL_PE_PS_T1</th><th>YTOTAL_PE_PS_T2</th><th>YTOTAL_PE_PS_T3</th><th>YTOTAL_PE_PS_T4</th><th>YTOTAL_PE_PS_T5</th><th>YTOTAL_AMT_LD</th><th>YTOTAL_AMT_LD_AC</th><th>Y_TOTAL_QH</th><th>Y_TOTAL_QH_AC</th><th>Y_TOTAL_QH_AC_T1</th><th>Y_TOTAL_QH_AC_T2</th><th>Y_TOTAL_QH_AC_T3</th><th>Y_TOTAL_QH_AC_T4</th><th>Y_TOTAL_QH_AC_T5</th><th>Y_TOTAL_REPAY</th><th>Y_TOTAL_REPAY_T1</th><th>Y_TOTAL_REPAY_T2</th><th>Y_TOTAL_REPAY_T3</th><th>Y_TOTAL_REPAY_T4</th><th>Y_TOTAL_REPAY_T5</th><th>Y_TOTAL_REPAY_AC</th><th>Y_TOTAL_REPAY_AC_T1</th><th>Y_TOTAL_REPAY_AC_T2</th><th>Y_TOTAL_REPAY_AC_T3</th><th>Y_TOTAL_REPAY_AC_T4</th><th>Y_TOTAL_REPAY_AC_T5</th><th>Y_DUNO_CL</th><th>CUS_NAME</th><th>Y_EARLY_RPY</th><th>Y_EARLY_RPY_DATE</th><th>YWK_BAL_43</th><th>Y_CATEGORY</th><th>PRODUCT_TYPE</th><th>Y_SUB_NAME</th><th>Y_DRAWDOWN_NET_AMT</th><th>Y_RFD_AMT</th></tr>",
                            "<tr><td>2021-05-23 00:00:00.0000000</td><td>JOB_STG_T24_SAOKE_DEBT_COLLECTION_D01</td><td>2021-05-24 06:37:50.0000000</td><td>2021-05-23 00:00:00.0000000</td><td>2021-05-23 00:00:00.0000000</td><td>1000320060317241</td><td>LD2018102258</td><td>1059130</td><td>10126023346</td><td>180</td><td>0</td><td>NULL</td><td>NULL</td><td>NULL</td><td>NULL</td><td>NULL</td><td>27</td><td>11</td><td>2021-06-11 00:00:00.0000000</td><td>986522</td><td>687360</td><td>NULL</td><td>NULL</td><td>NULL</td><td>NULL</td><td>NULL</td><td>NULL</td><td>NULL</td><td>NULL</td><td>NULL</td><td>NULL</td><td>NULL</td><td>NULL</td><td>NULL</td><td>NULL</td><td>NULL</td><td>NULL</td><td>NULL</td><td>NULL</td><td>NULL</td><td>NULL</td><td>1685882</td><td>1685702</td><td>NULL</td><td>NULL</td><td>NULL</td><td>NULL</td><td>NULL</td><td>NULL</td><td>NULL</td><td>1673882</td><td>1673882</td><td>1673882</td><td>1673882</td><td>1673882</td><td>1673882</td><td>1673702</td><td>1673702</td><td>1673702</td><td>1673702</td><td>1673702</td><td>1673702</td><td>21873268</td><td>LE CONG TUOC</td><td>NULL</td><td>NULL</td><td>NULL</td><td>21061</td><td>CS</td><td>CS SY A 37</td><td>30000000.00</td><td>NULL</td></tr>",
                            "</table>"
                        ]
                    }
                }
            ],
            "execution_count": 11
        },
        {
            "cell_type": "markdown",
            "source": [
                "Nhìn vào câu query ở trên, ta có thể sẽ tự hỏi: Tại sao không lại phải đưa toàn bộ cả câu `SELECT` của SQL Server vào nháy đơn và sử dụng `EXEC`, thay vì viết như ở dưới:"
            ],
            "metadata": {
                "azdata_cell_guid": "f79f6e8c-879c-460e-bd81-51957bb4029f"
            }
        },
        {
            "cell_type": "code",
            "source": [
                "declare @y_sel_date varchar(12) = '2021-05-23'\r\n",
                "SELECT * FROM OPENQUERY(ORASRV, 'SELECT * from IT_USER.STG_T24_SAOKE_DEBT_COLLECTION  where Y_SEL_DATE ='''+@y_sel_date+'''')"
            ],
            "metadata": {
                "azdata_cell_guid": "1c2a4124-a3e7-4fce-bb1d-1443c9fb4c88"
            },
            "outputs": [
                {
                    "output_type": "error",
                    "evalue": "Msg 102, Level 15, State 1, Line 2\r\nIncorrect syntax near '+'.",
                    "ename": "",
                    "traceback": []
                },
                {
                    "output_type": "display_data",
                    "data": {
                        "text/html": "Total execution time: 00:00:00.002"
                    },
                    "metadata": {}
                }
            ],
            "execution_count": 17
        },
        {
            "cell_type": "code",
            "source": [
                "declare @y_sel_date varchar(12) = '2021-05-23'\r\n",
                "declare @openquery varchar(4000) = 'SELECT * from IT_USER.STG_T24_SAOKE_DEBT_COLLECTION  where Y_SEL_DATE ='''+@y_sel_date+''''\r\n",
                "select * from openquery(orasrv, @openquery)"
            ],
            "metadata": {
                "azdata_cell_guid": "d5ffb60d-6666-4023-b2b9-4fe83301ef99"
            },
            "outputs": [
                {
                    "output_type": "error",
                    "evalue": "Msg 102, Level 15, State 1, Line 3\r\nIncorrect syntax near '@openquery'.",
                    "ename": "",
                    "traceback": []
                },
                {
                    "output_type": "display_data",
                    "data": {
                        "text/html": "Total execution time: 00:00:00.002"
                    },
                    "metadata": {}
                }
            ],
            "execution_count": 16
        },
        {
            "cell_type": "markdown",
            "source": [
                "Cả 2 câu query ở trên đều gặp lỗi **Incorrect syntax**; lý do là bởi `OPENQUERY` chỉ nhận 2 tham số:\n",
                "\n",
                "1. Tên Linked Server\n",
                "2. Câu lệnh để gửi sang Oracle ở dạng **string** (text), tức là nằm trong nháy đơn\n",
                "\n",
                "Tức là với tham số thứ 2, `OPENQUERY` sẽ chỉ nhận tham số có kiểu **string** và không nhận biến hay bất kỳ kiểu nào khác.\n",
                "\n",
                "#### 2.3.2. Tối ưu hóa truy vấn dữ liệu khi sử dụng OPENQUERY\n",
                "\n",
                "Khi sử dụng `OPENQUERY`, ta có 2 cách để đưa ra các điều kiện: \n",
                "\n",
                "- Ở bên ngoài OPENQUERY (tức là ở câu `SELECT` phía SQL Server)\n",
                "- Ở bên trong OPENQUERY (tức là ở câu `SELECT` phía Oracle, nằm ở tham số thứ 2 của `OPENQUERY`, trong nháy đơn)\n",
                "\n",
                "Xét 2 câu truy vấn sau:"
            ],
            "metadata": {
                "azdata_cell_guid": "417a0e64-7300-47c3-a389-31553870525a"
            }
        },
        {
            "cell_type": "code",
            "source": [
                "-- Query 1\r\n",
                "SELECT top 1 * FROM \r\n",
                "OPENQUERY(ORASRV ,'Select * from IT_USER.STG_T24_SAOKE_DEBT_COLLECTION  where Y_SEL_DATE = ''2021-05-23''' )"
            ],
            "metadata": {
                "azdata_cell_guid": "4b06be38-517a-452d-b00b-b06aa461547e"
            },
            "outputs": [
                {
                    "output_type": "display_data",
                    "data": {
                        "text/html": "(1 row affected)"
                    },
                    "metadata": {}
                },
                {
                    "output_type": "display_data",
                    "data": {
                        "text/html": "Total execution time: 00:00:00.021"
                    },
                    "metadata": {}
                },
                {
                    "output_type": "execute_result",
                    "metadata": {},
                    "execution_count": 21,
                    "data": {
                        "application/vnd.dataresource+json": {
                            "schema": {
                                "fields": [
                                    {
                                        "name": "COB_DT"
                                    },
                                    {
                                        "name": "UPD_BY"
                                    },
                                    {
                                        "name": "UPD_TIME"
                                    },
                                    {
                                        "name": "RUN_DATE"
                                    },
                                    {
                                        "name": "Y_SEL_DATE"
                                    },
                                    {
                                        "name": "Y_CONTRACT_REF"
                                    },
                                    {
                                        "name": "LD_ID"
                                    },
                                    {
                                        "name": "CUS_ID"
                                    },
                                    {
                                        "name": "YID_AC"
                                    },
                                    {
                                        "name": "YWK_BAL"
                                    },
                                    {
                                        "name": "Y_SONGAY_QH"
                                    },
                                    {
                                        "name": "Y_SONGAY_QH_T1"
                                    },
                                    {
                                        "name": "Y_SONGAY_QH_T2"
                                    },
                                    {
                                        "name": "Y_SONGAY_QH_T3"
                                    },
                                    {
                                        "name": "Y_SONGAY_QH_T4"
                                    },
                                    {
                                        "name": "Y_SONGAY_QH_T5"
                                    },
                                    {
                                        "name": "Y_KYHAN"
                                    },
                                    {
                                        "name": "Y_KYTRANO"
                                    },
                                    {
                                        "name": "Y_DATE_NEXT"
                                    },
                                    {
                                        "name": "Y_PR_NEXT"
                                    },
                                    {
                                        "name": "Y_IN_NEXT"
                                    },
                                    {
                                        "name": "Y_QH_PR"
                                    },
                                    {
                                        "name": "Y_QH_IN"
                                    },
                                    {
                                        "name": "Y_QH_PE"
                                    },
                                    {
                                        "name": "YAMT_PE_T1"
                                    },
                                    {
                                        "name": "YAMT_PE_T2"
                                    },
                                    {
                                        "name": "YAMT_PE_T3"
                                    },
                                    {
                                        "name": "YAMT_PE_T4"
                                    },
                                    {
                                        "name": "YAMT_PE_T5"
                                    },
                                    {
                                        "name": "Y_QH_PS"
                                    },
                                    {
                                        "name": "YAMT_PS_T1"
                                    },
                                    {
                                        "name": "YAMT_PS_T2"
                                    },
                                    {
                                        "name": "YAMT_PS_T3"
                                    },
                                    {
                                        "name": "YAMT_PS_T4"
                                    },
                                    {
                                        "name": "YAMT_PS_T5"
                                    },
                                    {
                                        "name": "Y_TOTAL_PE"
                                    },
                                    {
                                        "name": "YTOTAL_PE_PS_T1"
                                    },
                                    {
                                        "name": "YTOTAL_PE_PS_T2"
                                    },
                                    {
                                        "name": "YTOTAL_PE_PS_T3"
                                    },
                                    {
                                        "name": "YTOTAL_PE_PS_T4"
                                    },
                                    {
                                        "name": "YTOTAL_PE_PS_T5"
                                    },
                                    {
                                        "name": "YTOTAL_AMT_LD"
                                    },
                                    {
                                        "name": "YTOTAL_AMT_LD_AC"
                                    },
                                    {
                                        "name": "Y_TOTAL_QH"
                                    },
                                    {
                                        "name": "Y_TOTAL_QH_AC"
                                    },
                                    {
                                        "name": "Y_TOTAL_QH_AC_T1"
                                    },
                                    {
                                        "name": "Y_TOTAL_QH_AC_T2"
                                    },
                                    {
                                        "name": "Y_TOTAL_QH_AC_T3"
                                    },
                                    {
                                        "name": "Y_TOTAL_QH_AC_T4"
                                    },
                                    {
                                        "name": "Y_TOTAL_QH_AC_T5"
                                    },
                                    {
                                        "name": "Y_TOTAL_REPAY"
                                    },
                                    {
                                        "name": "Y_TOTAL_REPAY_T1"
                                    },
                                    {
                                        "name": "Y_TOTAL_REPAY_T2"
                                    },
                                    {
                                        "name": "Y_TOTAL_REPAY_T3"
                                    },
                                    {
                                        "name": "Y_TOTAL_REPAY_T4"
                                    },
                                    {
                                        "name": "Y_TOTAL_REPAY_T5"
                                    },
                                    {
                                        "name": "Y_TOTAL_REPAY_AC"
                                    },
                                    {
                                        "name": "Y_TOTAL_REPAY_AC_T1"
                                    },
                                    {
                                        "name": "Y_TOTAL_REPAY_AC_T2"
                                    },
                                    {
                                        "name": "Y_TOTAL_REPAY_AC_T3"
                                    },
                                    {
                                        "name": "Y_TOTAL_REPAY_AC_T4"
                                    },
                                    {
                                        "name": "Y_TOTAL_REPAY_AC_T5"
                                    },
                                    {
                                        "name": "Y_DUNO_CL"
                                    },
                                    {
                                        "name": "CUS_NAME"
                                    },
                                    {
                                        "name": "Y_EARLY_RPY"
                                    },
                                    {
                                        "name": "Y_EARLY_RPY_DATE"
                                    },
                                    {
                                        "name": "YWK_BAL_43"
                                    },
                                    {
                                        "name": "Y_CATEGORY"
                                    },
                                    {
                                        "name": "PRODUCT_TYPE"
                                    },
                                    {
                                        "name": "Y_SUB_NAME"
                                    },
                                    {
                                        "name": "Y_DRAWDOWN_NET_AMT"
                                    },
                                    {
                                        "name": "Y_RFD_AMT"
                                    }
                                ]
                            },
                            "data": [
                                {
                                    "0": "2021-05-23 00:00:00.0000000",
                                    "1": "JOB_STG_T24_SAOKE_DEBT_COLLECTION_D01",
                                    "2": "2021-05-24 06:37:50.0000000",
                                    "3": "2021-05-23 00:00:00.0000000",
                                    "4": "2021-05-23 00:00:00.0000000",
                                    "5": "1000320060317241",
                                    "6": "LD2018102258",
                                    "7": "1059130",
                                    "8": "10126023346",
                                    "9": "180",
                                    "10": "0",
                                    "11": "NULL",
                                    "12": "NULL",
                                    "13": "NULL",
                                    "14": "NULL",
                                    "15": "NULL",
                                    "16": "27",
                                    "17": "11",
                                    "18": "2021-06-11 00:00:00.0000000",
                                    "19": "986522",
                                    "20": "687360",
                                    "21": "NULL",
                                    "22": "NULL",
                                    "23": "NULL",
                                    "24": "NULL",
                                    "25": "NULL",
                                    "26": "NULL",
                                    "27": "NULL",
                                    "28": "NULL",
                                    "29": "NULL",
                                    "30": "NULL",
                                    "31": "NULL",
                                    "32": "NULL",
                                    "33": "NULL",
                                    "34": "NULL",
                                    "35": "NULL",
                                    "36": "NULL",
                                    "37": "NULL",
                                    "38": "NULL",
                                    "39": "NULL",
                                    "40": "NULL",
                                    "41": "1685882",
                                    "42": "1685702",
                                    "43": "NULL",
                                    "44": "NULL",
                                    "45": "NULL",
                                    "46": "NULL",
                                    "47": "NULL",
                                    "48": "NULL",
                                    "49": "NULL",
                                    "50": "1673882",
                                    "51": "1673882",
                                    "52": "1673882",
                                    "53": "1673882",
                                    "54": "1673882",
                                    "55": "1673882",
                                    "56": "1673702",
                                    "57": "1673702",
                                    "58": "1673702",
                                    "59": "1673702",
                                    "60": "1673702",
                                    "61": "1673702",
                                    "62": "21873268",
                                    "63": "LE CONG TUOC",
                                    "64": "NULL",
                                    "65": "NULL",
                                    "66": "NULL",
                                    "67": "21061",
                                    "68": "CS",
                                    "69": "CS SY A 37",
                                    "70": "30000000.00",
                                    "71": "NULL"
                                }
                            ]
                        },
                        "text/html": [
                            "<table>",
                            "<tr><th>COB_DT</th><th>UPD_BY</th><th>UPD_TIME</th><th>RUN_DATE</th><th>Y_SEL_DATE</th><th>Y_CONTRACT_REF</th><th>LD_ID</th><th>CUS_ID</th><th>YID_AC</th><th>YWK_BAL</th><th>Y_SONGAY_QH</th><th>Y_SONGAY_QH_T1</th><th>Y_SONGAY_QH_T2</th><th>Y_SONGAY_QH_T3</th><th>Y_SONGAY_QH_T4</th><th>Y_SONGAY_QH_T5</th><th>Y_KYHAN</th><th>Y_KYTRANO</th><th>Y_DATE_NEXT</th><th>Y_PR_NEXT</th><th>Y_IN_NEXT</th><th>Y_QH_PR</th><th>Y_QH_IN</th><th>Y_QH_PE</th><th>YAMT_PE_T1</th><th>YAMT_PE_T2</th><th>YAMT_PE_T3</th><th>YAMT_PE_T4</th><th>YAMT_PE_T5</th><th>Y_QH_PS</th><th>YAMT_PS_T1</th><th>YAMT_PS_T2</th><th>YAMT_PS_T3</th><th>YAMT_PS_T4</th><th>YAMT_PS_T5</th><th>Y_TOTAL_PE</th><th>YTOTAL_PE_PS_T1</th><th>YTOTAL_PE_PS_T2</th><th>YTOTAL_PE_PS_T3</th><th>YTOTAL_PE_PS_T4</th><th>YTOTAL_PE_PS_T5</th><th>YTOTAL_AMT_LD</th><th>YTOTAL_AMT_LD_AC</th><th>Y_TOTAL_QH</th><th>Y_TOTAL_QH_AC</th><th>Y_TOTAL_QH_AC_T1</th><th>Y_TOTAL_QH_AC_T2</th><th>Y_TOTAL_QH_AC_T3</th><th>Y_TOTAL_QH_AC_T4</th><th>Y_TOTAL_QH_AC_T5</th><th>Y_TOTAL_REPAY</th><th>Y_TOTAL_REPAY_T1</th><th>Y_TOTAL_REPAY_T2</th><th>Y_TOTAL_REPAY_T3</th><th>Y_TOTAL_REPAY_T4</th><th>Y_TOTAL_REPAY_T5</th><th>Y_TOTAL_REPAY_AC</th><th>Y_TOTAL_REPAY_AC_T1</th><th>Y_TOTAL_REPAY_AC_T2</th><th>Y_TOTAL_REPAY_AC_T3</th><th>Y_TOTAL_REPAY_AC_T4</th><th>Y_TOTAL_REPAY_AC_T5</th><th>Y_DUNO_CL</th><th>CUS_NAME</th><th>Y_EARLY_RPY</th><th>Y_EARLY_RPY_DATE</th><th>YWK_BAL_43</th><th>Y_CATEGORY</th><th>PRODUCT_TYPE</th><th>Y_SUB_NAME</th><th>Y_DRAWDOWN_NET_AMT</th><th>Y_RFD_AMT</th></tr>",
                            "<tr><td>2021-05-23 00:00:00.0000000</td><td>JOB_STG_T24_SAOKE_DEBT_COLLECTION_D01</td><td>2021-05-24 06:37:50.0000000</td><td>2021-05-23 00:00:00.0000000</td><td>2021-05-23 00:00:00.0000000</td><td>1000320060317241</td><td>LD2018102258</td><td>1059130</td><td>10126023346</td><td>180</td><td>0</td><td>NULL</td><td>NULL</td><td>NULL</td><td>NULL</td><td>NULL</td><td>27</td><td>11</td><td>2021-06-11 00:00:00.0000000</td><td>986522</td><td>687360</td><td>NULL</td><td>NULL</td><td>NULL</td><td>NULL</td><td>NULL</td><td>NULL</td><td>NULL</td><td>NULL</td><td>NULL</td><td>NULL</td><td>NULL</td><td>NULL</td><td>NULL</td><td>NULL</td><td>NULL</td><td>NULL</td><td>NULL</td><td>NULL</td><td>NULL</td><td>NULL</td><td>1685882</td><td>1685702</td><td>NULL</td><td>NULL</td><td>NULL</td><td>NULL</td><td>NULL</td><td>NULL</td><td>NULL</td><td>1673882</td><td>1673882</td><td>1673882</td><td>1673882</td><td>1673882</td><td>1673882</td><td>1673702</td><td>1673702</td><td>1673702</td><td>1673702</td><td>1673702</td><td>1673702</td><td>21873268</td><td>LE CONG TUOC</td><td>NULL</td><td>NULL</td><td>NULL</td><td>21061</td><td>CS</td><td>CS SY A 37</td><td>30000000.00</td><td>NULL</td></tr>",
                            "</table>"
                        ]
                    }
                }
            ],
            "execution_count": 21
        },
        {
            "cell_type": "code",
            "source": [
                "-- Query 2\r\n",
                "-- Không nên chạy vì tốn thời gian\r\n",
                "SELECT top 1 * FROM \r\n",
                "OPENQUERY(ORASRV ,'Select * from IT_USER.STG_T24_SAOKE_DEBT_COLLECTION ')\r\n",
                "WHERE Y_SEL_DATE = '2021-05-23'"
            ],
            "metadata": {
                "azdata_cell_guid": "e98190cd-f229-414c-a091-e82f7a807f07"
            },
            "outputs": [
                {
                    "output_type": "error",
                    "evalue": "Query failed: The operation was canceled.",
                    "ename": "",
                    "traceback": []
                },
                {
                    "output_type": "display_data",
                    "data": {
                        "text/html": "Query was canceled by user"
                    },
                    "metadata": {}
                },
                {
                    "output_type": "display_data",
                    "data": {
                        "text/html": "Total execution time: 00:05:31.134"
                    },
                    "metadata": {}
                }
            ],
            "execution_count": 22
        },
        {
            "cell_type": "markdown",
            "source": [
                "Có thể thấy tốc độ truy vấn của Query 2 chậm hơn hẳn Query 1. Lý do là bởi trong Query 2, `OPENQUERY` đã lấy toàn bộ bảng `IT_USER.STG_T24_SAOKE_DEBT_COLLECTION` sang bên SQL Server và sau đó mới áp đặt điều kiện `Y_SEL_DATE = '2021-05-23'`. Ngược lại, ở Query 1, điều kiện `Y_SEL_DATE = '2021-05-23'` được áp đặt ngay từ phía ORACLE rồi sau đó mới lấy sang phía SQL Server.\n",
                "\n",
                "Trên lý thuyết, ta nên đưa hết tất cả các điều kiện cũng như giới hạn số lượng cột cần `SELECT` ngày từ phía query của ORACLE. Điều này giúp lượng dữ liệu mang sang SQL Server nhỏ hơn, và toàn bộ tác vụ xử dữ liệu sẽ nằm ở Oracle.\n",
                "\n",
                "Tuy nhiên trên thực tế, việc đưa nhiều điều kiện hay các tác vụ xử lý dữ liệu vào câu query ở phía Oracle sẽ làm cho việc viết query phức tạp hơn nếu mỗi điều kiện lại tương ứng với một biến phải khai báo. Như vậy, ta có thể cân đối giữa việc xử lý dữ liệu ở phía ORACLE hoặc đưa về SQL Server rồi mới xử lý, nhằm đảm bảo cả về tốc độ truy vấn và tính dễ hiểu của câu query cuối cùng.\n",
                "\n",
                "#### 2.3.3. Sử dụng vòng lặp để kiểm tra dữ liệu ở ORACLE\n",
                "\n",
                "Do dữ liệu ở ORACLE nằm ở máy chủ `172.17.101.148/MOMPDB` được động bộ hóa chậm 1 ngày (T-1) vào khoảng 9h sáng hàng này nên ta cần có cách để kiểm tra xem dữ liệu đã có chưa trước khi thực hiện query/chạy job ở phía SQL Server.\n",
                "\n",
                "Logic một vòng lặp đơn giản để kiểm tra dữ liệu có thể được thiết kế như sau:\n",
                "\n",
                "- Kiểm tra dữ liệu lần đầu ở Oracle, nếu có dữ liệu sẽ trả về giá trị 1, nếu chưa sẽ trả về giá trị 0. Gọi giá trị trả về là `table_status`\n",
                "- Bắt đầu vòng lặp với điều kiện: Nếu `table_status` == 0, tiếp tục kiểm tra dữ liệu và cập nhật `table_status` sau mỗi lần kiểm tra\n",
                "- Nếu `table_status` == 1, vòng lặp kết thúc và chuyển sang kéo dữ liệu từ ORACLE về"
            ],
            "metadata": {
                "azdata_cell_guid": "20248974-7965-4e3e-b676-cf7ada291a58"
            }
        },
        {
            "cell_type": "code",
            "source": [
                "drop table if exists ##table_status\r\n",
                "\r\n",
                "declare @plsql varchar(8000) = 'select * from oracle_table'\r\n",
                "declare @checking_plsql varchar(8000) = 'select case when exists(' + @plsql +') then 1 else 0 end as table_status from dual'\r\n",
                "declare @checking_tsql varchar(8000) = 'select * into ##table_status_trghm from openquery(orasrv, '''+@checking_plsql+''')'\r\n",
                "declare @insert_tsql varchar(8000) = 'insert into sql_server_table select * from openquery(orasrv, '''+@plsql+''')'\r\n",
                "declare @first_exec_timestamp datetime = getdate()\r\n",
                "\r\n",
                "exec(@checking_tsql)\r\n",
                "while (select table_status from ##table_status) = 0\r\n",
                "begin\r\n",
                "    exec(@checking_tsql)\r\n",
                "    WAITFOR DELAY '00:00:15' -- chờ 15s trước khi kiểm tra lại dữ liệu để tránh việc quá tại cho server\r\n",
                "    declare @table_status int = (select table_status from ##table_status)\r\n",
                "    print(@table_status)\r\n",
                "    if datediff(mi, @first_exec_timestamp, getdate()) > 60 -- nếu việc kiểm tra dữ liệu kéo dài quá 60 phút, dừng lại việc kiểm tra\r\n",
                "    begin\r\n",
                "        break\r\n",
                "    end\r\n",
                "end;\r\n",
                "\r\n",
                "-- select table_status from ##table_status\r\n",
                "\r\n",
                "if (select table_status from ##table_status) = 1\r\n",
                "begin\r\n",
                "    WAITFOR DELAY '00:02:00' -- chờ 2 phút trước khi thực hiện kéo dữ liệu về để đảm bảo dữ liệu bên phía ORACLE đã có đủ\r\n",
                "    exec(@insert_tsql)\r\n",
                "end;\r\n",
                ""
            ],
            "metadata": {
                "azdata_cell_guid": "a721e5df-c5fe-4482-a536-2aeef0c4b5b5"
            },
            "outputs": [],
            "execution_count": null
        },
        {
            "cell_type": "markdown",
            "source": [
                "## 3. Một số cú pháp PL/SQL (Oracle) cần biết và cú pháp tương ứng ở SQL Server\r\n",
                "\r\n",
                "1. Thay thế `TOP N` trong SQL Server\r\n",
                "\r\n",
                "```sql\r\n",
                "select *\r\n",
                "from table_name\r\n",
                "where ROWNUM <= N;\r\n",
                "```\r\n",
                "\r\n",
                "2. Kiểm tra ngày hiện tại\r\n",
                "\r\n",
                "```sql\r\n",
                "select SYSDATE from dial;\r\n",
                "```\r\n",
                "\r\n",
                "3. Thay thế `CONVERT` trong SQL Server\r\n",
                "\r\n",
                "```sql\r\n",
                "SELECT TO_DATE('20201201', \"YYYYMMDD\") FROM DIAL;\r\n",
                "SELECT TO_CHAR(SYSDATE, \"YYYYMMDD\") FROM DIAL;\r\n",
                "```\r\n",
                "\r\n",
                "4. `FROM DIAL`\r\n",
                "\r\n",
                "Trong ORACLE bắt buộc mọi câu SELECT phải có FROM TABLE đi kèm -> với các câu select tương ứng trong SQL Server, thêm vào FROM DUAL.\r\n",
                "\r\n",
                "- Trong Oracle:\r\n",
                "\r\n",
                "```sql\r\n",
                "select SYSDATE from dial;\r\n",
                "```\r\n",
                "\r\n",
                "- Trong SQL Server:\r\n",
                "\r\n",
                "```sql\r\n",
                "select GETDATE()\r\n",
                "```\r\n",
                "\r\n",
                "5. Thay thế `ISNULL()` trong SQL Server\r\n",
                "\r\n",
                "```sql\r\n",
                "SELECT NVL(col_name, 'subtitute_value')\r\n",
                "FROM table_name;\r\n",
                "```\r\n",
                "\r\n",
                "6. Thay thế hàm `LEN()` trong SQL Server\r\n",
                "\r\n",
                "```sql\r\n",
                "SELECT LENGTH ('string') FROM DUAL;\r\n",
                "```\r\n",
                "\r\n",
                "7. Thay thế `LEFT`, `RIGHT` và `SUBSTRING` trong SQL Server\r\n",
                "\r\n",
                "```sql\r\n",
                "SUBSTR( string, start_position [, length ] )\r\n",
                "```\r\n",
                "\r\n",
                "8. Thay thế `CEILING` và `FLOOR` trong SQL server\r\n",
                "\r\n",
                "```sql\r\n",
                "-- thay thế CEILING\r\n",
                "SELECT CEIL(5.5555) FROM DIAL;\r\n",
                "-- thay thế fLOOR\r\n",
                "SELECT FLOOR(5.5555) FROM DIAL;\r\n",
                "```\r\n",
                "\r\n",
                "9. THAY THẾ các hàm `DAY`, `MONTH` và `YEAR` và `DATEPART`\r\n",
                "\r\n",
                "```sql\r\n",
                "SELECT EXTRACT(DAY FROM SYSDATE) as DAY;\r\n",
                "SELECT EXTRACT(MONTH FROM SYSDATE) as MONTH;\r\n",
                "SELECT EXTRACT(YEAR FROM SYSDATE) as YEAR;\r\n",
                "```"
            ],
            "metadata": {
                "azdata_cell_guid": "c01713f7-af5c-4259-847b-d933989bc95d"
            }
        }
    ]
}