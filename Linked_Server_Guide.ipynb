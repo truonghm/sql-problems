{
    "metadata": {
        "kernelspec": {
            "name": "SQL",
            "display_name": "SQL",
            "language": "sql"
        },
        "language_info": {
            "name": "sql",
            "version": ""
        }
    },
    "nbformat_minor": 2,
    "nbformat": 4,
    "cells": [
        {
            "cell_type": "markdown",
            "source": [
                "# Hướng dẫn sử dụng Linked Server từ SQL Server sang Oracle\n",
                "\n",
                "_Lưu ý: Notebook này có thể tải về và mở trong Azure Data Studio để chạy các câu query._\n",
                "\n",
                "## 1\\. Một số thuật ngữ & thông tin cơ bản\n",
                "\n",
                "1. SQL Server (tên đầy đủ là Microsoft SQL Server), là một hệ thống quản trị cơ sở dữ liệu (relational database management system - RDBMS) phát triển bởi Microsoft.\n",
                "    \n",
                "2. Oracle cũng là một RDBMS khác được phát triển bởi Oracle.\n",
                "    \n",
                "3. SQL là ngôn ngữ truy vấn dữ liệu, được sử dụng để truy vấn và quản trị dữ liệu lưu trữ trên các RDBMS. cả SQL Server và Oracle đều sử dụng SQL, tuy nhiên mỗi hệ thống có một \"phiên bản\" SQL riêng: SQL Server sử dụng T-SQL và Oracle sử dụng PL/SQL.\n",
                "    \n",
                "4. **SQL Server Management Studio** là ứng dụng để tương tác với SQL Server. **SQL Developer** là ứng dụng để tương tác với Oracle.\n",
                "    \n",
                "\n",
                "## 2\\. Giới thiệu về Linked Server\n",
                "\n",
                "### 2.1. Thông tin cơ bản\n",
                "\n",
                "**Linked Server** sang Oracle được tạo trên máy chủ **172.17.103.40** với thông tin như sau:\n",
                "\n",
                "- Tên Linked Server: ORASRV\n",
                "- Data source: 172.17.101.148/MOMPDB\n",
                "\n",
                "### 2.2. Các cách truy vấn dữ liệu từ Linked Server\n",
                "\n",
                "#### 2.2.1. Truy vấn trực tiếp\n",
                "\n",
                "Dữ liệu từ Oracle có thể truy vấn trực tiếp thông qua Linked Server theo cú pháp như sau:"
            ],
            "metadata": {
                "azdata_cell_guid": "ffc6c19e-0a59-4361-8e43-01a619feff06"
            }
        },
        {
            "cell_type": "code",
            "source": [
                "select top 1 * from ORASRV..IT_USER.STG_T24_SAOKE_DEBT_COLLECTION"
            ],
            "metadata": {
                "azdata_cell_guid": "55fd3d5d-5c0c-4bd0-aacd-262cbbf549cc"
            },
            "outputs": [
                {
                    "output_type": "display_data",
                    "data": {
                        "text/html": "(1 row affected)"
                    },
                    "metadata": {}
                },
                {
                    "output_type": "display_data",
                    "data": {
                        "text/html": "Total execution time: 00:00:02.830"
                    },
                    "metadata": {}
                },
                {
                    "output_type": "execute_result",
                    "execution_count": 1,
                    "data": {
                        "application/vnd.dataresource+json": {
                            "schema": {
                                "fields": [
                                    {
                                        "name": "COB_DT"
                                    },
                                    {
                                        "name": "UPD_BY"
                                    },
                                    {
                                        "name": "UPD_TIME"
                                    },
                                    {
                                        "name": "RUN_DATE"
                                    },
                                    {
                                        "name": "Y_SEL_DATE"
                                    },
                                    {
                                        "name": "Y_CONTRACT_REF"
                                    },
                                    {
                                        "name": "LD_ID"
                                    },
                                    {
                                        "name": "CUS_ID"
                                    },
                                    {
                                        "name": "YID_AC"
                                    },
                                    {
                                        "name": "YWK_BAL"
                                    },
                                    {
                                        "name": "Y_SONGAY_QH"
                                    },
                                    {
                                        "name": "Y_SONGAY_QH_T1"
                                    },
                                    {
                                        "name": "Y_SONGAY_QH_T2"
                                    },
                                    {
                                        "name": "Y_SONGAY_QH_T3"
                                    },
                                    {
                                        "name": "Y_SONGAY_QH_T4"
                                    },
                                    {
                                        "name": "Y_SONGAY_QH_T5"
                                    },
                                    {
                                        "name": "Y_KYHAN"
                                    },
                                    {
                                        "name": "Y_KYTRANO"
                                    },
                                    {
                                        "name": "Y_DATE_NEXT"
                                    },
                                    {
                                        "name": "Y_PR_NEXT"
                                    },
                                    {
                                        "name": "Y_IN_NEXT"
                                    },
                                    {
                                        "name": "Y_QH_PR"
                                    },
                                    {
                                        "name": "Y_QH_IN"
                                    },
                                    {
                                        "name": "Y_QH_PE"
                                    },
                                    {
                                        "name": "YAMT_PE_T1"
                                    },
                                    {
                                        "name": "YAMT_PE_T2"
                                    },
                                    {
                                        "name": "YAMT_PE_T3"
                                    },
                                    {
                                        "name": "YAMT_PE_T4"
                                    },
                                    {
                                        "name": "YAMT_PE_T5"
                                    },
                                    {
                                        "name": "Y_QH_PS"
                                    },
                                    {
                                        "name": "YAMT_PS_T1"
                                    },
                                    {
                                        "name": "YAMT_PS_T2"
                                    },
                                    {
                                        "name": "YAMT_PS_T3"
                                    },
                                    {
                                        "name": "YAMT_PS_T4"
                                    },
                                    {
                                        "name": "YAMT_PS_T5"
                                    },
                                    {
                                        "name": "Y_TOTAL_PE"
                                    },
                                    {
                                        "name": "YTOTAL_PE_PS_T1"
                                    },
                                    {
                                        "name": "YTOTAL_PE_PS_T2"
                                    },
                                    {
                                        "name": "YTOTAL_PE_PS_T3"
                                    },
                                    {
                                        "name": "YTOTAL_PE_PS_T4"
                                    },
                                    {
                                        "name": "YTOTAL_PE_PS_T5"
                                    },
                                    {
                                        "name": "YTOTAL_AMT_LD"
                                    },
                                    {
                                        "name": "YTOTAL_AMT_LD_AC"
                                    },
                                    {
                                        "name": "Y_TOTAL_QH"
                                    },
                                    {
                                        "name": "Y_TOTAL_QH_AC"
                                    },
                                    {
                                        "name": "Y_TOTAL_QH_AC_T1"
                                    },
                                    {
                                        "name": "Y_TOTAL_QH_AC_T2"
                                    },
                                    {
                                        "name": "Y_TOTAL_QH_AC_T3"
                                    },
                                    {
                                        "name": "Y_TOTAL_QH_AC_T4"
                                    },
                                    {
                                        "name": "Y_TOTAL_QH_AC_T5"
                                    },
                                    {
                                        "name": "Y_TOTAL_REPAY"
                                    },
                                    {
                                        "name": "Y_TOTAL_REPAY_T1"
                                    },
                                    {
                                        "name": "Y_TOTAL_REPAY_T2"
                                    },
                                    {
                                        "name": "Y_TOTAL_REPAY_T3"
                                    },
                                    {
                                        "name": "Y_TOTAL_REPAY_T4"
                                    },
                                    {
                                        "name": "Y_TOTAL_REPAY_T5"
                                    },
                                    {
                                        "name": "Y_TOTAL_REPAY_AC"
                                    },
                                    {
                                        "name": "Y_TOTAL_REPAY_AC_T1"
                                    },
                                    {
                                        "name": "Y_TOTAL_REPAY_AC_T2"
                                    },
                                    {
                                        "name": "Y_TOTAL_REPAY_AC_T3"
                                    },
                                    {
                                        "name": "Y_TOTAL_REPAY_AC_T4"
                                    },
                                    {
                                        "name": "Y_TOTAL_REPAY_AC_T5"
                                    },
                                    {
                                        "name": "Y_DUNO_CL"
                                    },
                                    {
                                        "name": "CUS_NAME"
                                    },
                                    {
                                        "name": "Y_EARLY_RPY"
                                    },
                                    {
                                        "name": "Y_EARLY_RPY_DATE"
                                    },
                                    {
                                        "name": "YWK_BAL_43"
                                    },
                                    {
                                        "name": "Y_CATEGORY"
                                    },
                                    {
                                        "name": "PRODUCT_TYPE"
                                    },
                                    {
                                        "name": "Y_SUB_NAME"
                                    },
                                    {
                                        "name": "Y_DRAWDOWN_NET_AMT"
                                    },
                                    {
                                        "name": "Y_RFD_AMT"
                                    }
                                ]
                            },
                            "data": [
                                {
                                    "0": "2017-10-04 00:00:00.0000000",
                                    "1": "JOB_STG_T24_SAOKE_DEBT_COLLECTION_D01",
                                    "2": "2019-01-15 14:34:46.0000000",
                                    "3": "2017-10-04 00:00:00.0000000",
                                    "4": "2017-10-04 00:00:00.0000000",
                                    "5": "1000117090039557",
                                    "6": "LD1726410507",
                                    "7": "8039183",
                                    "8": "14227760002",
                                    "9": "NULL",
                                    "10": "NULL",
                                    "11": "NULL",
                                    "12": "NULL",
                                    "13": "NULL",
                                    "14": "NULL",
                                    "15": "NULL",
                                    "16": "36",
                                    "17": "1",
                                    "18": "2017-10-10 00:00:00.0000000",
                                    "19": "562830",
                                    "20": "1053555",
                                    "21": "NULL",
                                    "22": "NULL",
                                    "23": "NULL",
                                    "24": "NULL",
                                    "25": "NULL",
                                    "26": "NULL",
                                    "27": "NULL",
                                    "28": "NULL",
                                    "29": "NULL",
                                    "30": "NULL",
                                    "31": "NULL",
                                    "32": "NULL",
                                    "33": "NULL",
                                    "34": "NULL",
                                    "35": "NULL",
                                    "36": "NULL",
                                    "37": "NULL",
                                    "38": "NULL",
                                    "39": "NULL",
                                    "40": "NULL",
                                    "41": "1628385",
                                    "42": "1628385",
                                    "43": "NULL",
                                    "44": "NULL",
                                    "45": "NULL",
                                    "46": "NULL",
                                    "47": "NULL",
                                    "48": "NULL",
                                    "49": "NULL",
                                    "50": "1628385",
                                    "51": "1628385",
                                    "52": "1628385",
                                    "53": "1628385",
                                    "54": "1628385",
                                    "55": "1628385",
                                    "56": "1628385",
                                    "57": "1628385",
                                    "58": "1628385",
                                    "59": "1628385",
                                    "60": "1628385",
                                    "61": "1628385",
                                    "62": "31650000",
                                    "63": "VO THI TUYET MAI",
                                    "64": "NULL",
                                    "65": "NULL",
                                    "66": "NULL",
                                    "67": "NULL",
                                    "68": "NULL",
                                    "69": "NULL",
                                    "70": "NULL",
                                    "71": "NULL"
                                }
                            ]
                        },
                        "text/html": "<table><tr><th>COB_DT</th><th>UPD_BY</th><th>UPD_TIME</th><th>RUN_DATE</th><th>Y_SEL_DATE</th><th>Y_CONTRACT_REF</th><th>LD_ID</th><th>CUS_ID</th><th>YID_AC</th><th>YWK_BAL</th><th>Y_SONGAY_QH</th><th>Y_SONGAY_QH_T1</th><th>Y_SONGAY_QH_T2</th><th>Y_SONGAY_QH_T3</th><th>Y_SONGAY_QH_T4</th><th>Y_SONGAY_QH_T5</th><th>Y_KYHAN</th><th>Y_KYTRANO</th><th>Y_DATE_NEXT</th><th>Y_PR_NEXT</th><th>Y_IN_NEXT</th><th>Y_QH_PR</th><th>Y_QH_IN</th><th>Y_QH_PE</th><th>YAMT_PE_T1</th><th>YAMT_PE_T2</th><th>YAMT_PE_T3</th><th>YAMT_PE_T4</th><th>YAMT_PE_T5</th><th>Y_QH_PS</th><th>YAMT_PS_T1</th><th>YAMT_PS_T2</th><th>YAMT_PS_T3</th><th>YAMT_PS_T4</th><th>YAMT_PS_T5</th><th>Y_TOTAL_PE</th><th>YTOTAL_PE_PS_T1</th><th>YTOTAL_PE_PS_T2</th><th>YTOTAL_PE_PS_T3</th><th>YTOTAL_PE_PS_T4</th><th>YTOTAL_PE_PS_T5</th><th>YTOTAL_AMT_LD</th><th>YTOTAL_AMT_LD_AC</th><th>Y_TOTAL_QH</th><th>Y_TOTAL_QH_AC</th><th>Y_TOTAL_QH_AC_T1</th><th>Y_TOTAL_QH_AC_T2</th><th>Y_TOTAL_QH_AC_T3</th><th>Y_TOTAL_QH_AC_T4</th><th>Y_TOTAL_QH_AC_T5</th><th>Y_TOTAL_REPAY</th><th>Y_TOTAL_REPAY_T1</th><th>Y_TOTAL_REPAY_T2</th><th>Y_TOTAL_REPAY_T3</th><th>Y_TOTAL_REPAY_T4</th><th>Y_TOTAL_REPAY_T5</th><th>Y_TOTAL_REPAY_AC</th><th>Y_TOTAL_REPAY_AC_T1</th><th>Y_TOTAL_REPAY_AC_T2</th><th>Y_TOTAL_REPAY_AC_T3</th><th>Y_TOTAL_REPAY_AC_T4</th><th>Y_TOTAL_REPAY_AC_T5</th><th>Y_DUNO_CL</th><th>CUS_NAME</th><th>Y_EARLY_RPY</th><th>Y_EARLY_RPY_DATE</th><th>YWK_BAL_43</th><th>Y_CATEGORY</th><th>PRODUCT_TYPE</th><th>Y_SUB_NAME</th><th>Y_DRAWDOWN_NET_AMT</th><th>Y_RFD_AMT</th></tr><tr><td>2017-10-04 00:00:00.0000000</td><td>JOB_STG_T24_SAOKE_DEBT_COLLECTION_D01</td><td>2019-01-15 14:34:46.0000000</td><td>2017-10-04 00:00:00.0000000</td><td>2017-10-04 00:00:00.0000000</td><td>1000117090039557</td><td>LD1726410507</td><td>8039183</td><td>14227760002</td><td>NULL</td><td>NULL</td><td>NULL</td><td>NULL</td><td>NULL</td><td>NULL</td><td>NULL</td><td>36</td><td>1</td><td>2017-10-10 00:00:00.0000000</td><td>562830</td><td>1053555</td><td>NULL</td><td>NULL</td><td>NULL</td><td>NULL</td><td>NULL</td><td>NULL</td><td>NULL</td><td>NULL</td><td>NULL</td><td>NULL</td><td>NULL</td><td>NULL</td><td>NULL</td><td>NULL</td><td>NULL</td><td>NULL</td><td>NULL</td><td>NULL</td><td>NULL</td><td>NULL</td><td>1628385</td><td>1628385</td><td>NULL</td><td>NULL</td><td>NULL</td><td>NULL</td><td>NULL</td><td>NULL</td><td>NULL</td><td>1628385</td><td>1628385</td><td>1628385</td><td>1628385</td><td>1628385</td><td>1628385</td><td>1628385</td><td>1628385</td><td>1628385</td><td>1628385</td><td>1628385</td><td>1628385</td><td>31650000</td><td>VO THI TUYET MAI</td><td>NULL</td><td>NULL</td><td>NULL</td><td>NULL</td><td>NULL</td><td>NULL</td><td>NULL</td><td>NULL</td></tr></table>"
                    },
                    "metadata": {}
                }
            ],
            "execution_count": 1
        },
        {
            "cell_type": "markdown",
            "source": [
                "Đây là cách truy vấn đơn giản nhất theo cú pháp của T-SQL. Tuy nhiên cách truy vấn này có nhược điểm là tốc độ truy vấn chậm.\n",
                "\n",
                "Lý do là bởi khi ta yêu cầu SQL server thực hiện một câu lệnh cho Oracle thông qua Linked Server, SQL Server sẽ lấy ra toàn bộ dữ liệu của cả bảng ở bên Oracle rồi sau đó mới áp đặt các điều kiệu ở WHERE. Giả sử bảng gốc trên Oracle có 10 triệu dòng, trong khi ta chỉ cần query 100 dòng, SQL Server sẽ lấy toàn bộ 10 triệu dòng rồi sau đó mới áp dụng điều kiện lọc để lấy 100 dòng cần thiết.\n",
                "\n",
                "#### 2.2.2. Truy vấn thông qua OPENQUERY\n",
                "\n",
                "Có thể hiểu đơn giản việc dùng phương thức truy vấn trực tiếp như ở trên là: Ta để SQL Server tự \"dịch\" các câu lệnh từ ngôn ngữ T-SQL sang PL/SQL. \n",
                "\n",
                "Ngược lại, nếu dùng `OPENQUERY`, ta sẽ tự viết câu lệnh truy vấn theo cú pháp của PL/SQL, rồi chỉ để SQL Server gửi câu lệnh này sang cho Oracle.\n",
                "\n",
                "Cú pháp của `OPENQUERY` như câu truy vấn ở dưới, trong đó `OPENQUERY` nhận 2 tham số là:\n",
                "\n",
                "1. Tên Linked Server, trong trường hợp này là **ORASRV** (Viết tắt của Oracle Server), và\n",
                "2. Câu truy vấn THEO CÚ PHÁP của ORACLE (PL/SQL), nằm trong nháy đơn."
            ],
            "metadata": {
                "azdata_cell_guid": "56fcb36b-b8ce-40d9-9e3c-c7970c55ce6a"
            }
        },
        {
            "cell_type": "code",
            "source": [
                "SELECT top 1 * FROM \r\n",
                "OPENQUERY(ORASRV ,'Select * from IT_USER.STG_T24_SAOKE_DEBT_COLLECTION' )  \r\n",
                ""
            ],
            "metadata": {
                "azdata_cell_guid": "add48dfe-4ea7-4344-b9d7-4c662e49ec48"
            },
            "outputs": [
                {
                    "output_type": "display_data",
                    "data": {
                        "text/html": "(1 row affected)"
                    },
                    "metadata": {}
                },
                {
                    "output_type": "display_data",
                    "data": {
                        "text/html": "Total execution time: 00:00:00.060"
                    },
                    "metadata": {}
                },
                {
                    "output_type": "execute_result",
                    "execution_count": 2,
                    "data": {
                        "application/vnd.dataresource+json": {
                            "schema": {
                                "fields": [
                                    {
                                        "name": "COB_DT"
                                    },
                                    {
                                        "name": "UPD_BY"
                                    },
                                    {
                                        "name": "UPD_TIME"
                                    },
                                    {
                                        "name": "RUN_DATE"
                                    },
                                    {
                                        "name": "Y_SEL_DATE"
                                    },
                                    {
                                        "name": "Y_CONTRACT_REF"
                                    },
                                    {
                                        "name": "LD_ID"
                                    },
                                    {
                                        "name": "CUS_ID"
                                    },
                                    {
                                        "name": "YID_AC"
                                    },
                                    {
                                        "name": "YWK_BAL"
                                    },
                                    {
                                        "name": "Y_SONGAY_QH"
                                    },
                                    {
                                        "name": "Y_SONGAY_QH_T1"
                                    },
                                    {
                                        "name": "Y_SONGAY_QH_T2"
                                    },
                                    {
                                        "name": "Y_SONGAY_QH_T3"
                                    },
                                    {
                                        "name": "Y_SONGAY_QH_T4"
                                    },
                                    {
                                        "name": "Y_SONGAY_QH_T5"
                                    },
                                    {
                                        "name": "Y_KYHAN"
                                    },
                                    {
                                        "name": "Y_KYTRANO"
                                    },
                                    {
                                        "name": "Y_DATE_NEXT"
                                    },
                                    {
                                        "name": "Y_PR_NEXT"
                                    },
                                    {
                                        "name": "Y_IN_NEXT"
                                    },
                                    {
                                        "name": "Y_QH_PR"
                                    },
                                    {
                                        "name": "Y_QH_IN"
                                    },
                                    {
                                        "name": "Y_QH_PE"
                                    },
                                    {
                                        "name": "YAMT_PE_T1"
                                    },
                                    {
                                        "name": "YAMT_PE_T2"
                                    },
                                    {
                                        "name": "YAMT_PE_T3"
                                    },
                                    {
                                        "name": "YAMT_PE_T4"
                                    },
                                    {
                                        "name": "YAMT_PE_T5"
                                    },
                                    {
                                        "name": "Y_QH_PS"
                                    },
                                    {
                                        "name": "YAMT_PS_T1"
                                    },
                                    {
                                        "name": "YAMT_PS_T2"
                                    },
                                    {
                                        "name": "YAMT_PS_T3"
                                    },
                                    {
                                        "name": "YAMT_PS_T4"
                                    },
                                    {
                                        "name": "YAMT_PS_T5"
                                    },
                                    {
                                        "name": "Y_TOTAL_PE"
                                    },
                                    {
                                        "name": "YTOTAL_PE_PS_T1"
                                    },
                                    {
                                        "name": "YTOTAL_PE_PS_T2"
                                    },
                                    {
                                        "name": "YTOTAL_PE_PS_T3"
                                    },
                                    {
                                        "name": "YTOTAL_PE_PS_T4"
                                    },
                                    {
                                        "name": "YTOTAL_PE_PS_T5"
                                    },
                                    {
                                        "name": "YTOTAL_AMT_LD"
                                    },
                                    {
                                        "name": "YTOTAL_AMT_LD_AC"
                                    },
                                    {
                                        "name": "Y_TOTAL_QH"
                                    },
                                    {
                                        "name": "Y_TOTAL_QH_AC"
                                    },
                                    {
                                        "name": "Y_TOTAL_QH_AC_T1"
                                    },
                                    {
                                        "name": "Y_TOTAL_QH_AC_T2"
                                    },
                                    {
                                        "name": "Y_TOTAL_QH_AC_T3"
                                    },
                                    {
                                        "name": "Y_TOTAL_QH_AC_T4"
                                    },
                                    {
                                        "name": "Y_TOTAL_QH_AC_T5"
                                    },
                                    {
                                        "name": "Y_TOTAL_REPAY"
                                    },
                                    {
                                        "name": "Y_TOTAL_REPAY_T1"
                                    },
                                    {
                                        "name": "Y_TOTAL_REPAY_T2"
                                    },
                                    {
                                        "name": "Y_TOTAL_REPAY_T3"
                                    },
                                    {
                                        "name": "Y_TOTAL_REPAY_T4"
                                    },
                                    {
                                        "name": "Y_TOTAL_REPAY_T5"
                                    },
                                    {
                                        "name": "Y_TOTAL_REPAY_AC"
                                    },
                                    {
                                        "name": "Y_TOTAL_REPAY_AC_T1"
                                    },
                                    {
                                        "name": "Y_TOTAL_REPAY_AC_T2"
                                    },
                                    {
                                        "name": "Y_TOTAL_REPAY_AC_T3"
                                    },
                                    {
                                        "name": "Y_TOTAL_REPAY_AC_T4"
                                    },
                                    {
                                        "name": "Y_TOTAL_REPAY_AC_T5"
                                    },
                                    {
                                        "name": "Y_DUNO_CL"
                                    },
                                    {
                                        "name": "CUS_NAME"
                                    },
                                    {
                                        "name": "Y_EARLY_RPY"
                                    },
                                    {
                                        "name": "Y_EARLY_RPY_DATE"
                                    },
                                    {
                                        "name": "YWK_BAL_43"
                                    },
                                    {
                                        "name": "Y_CATEGORY"
                                    },
                                    {
                                        "name": "PRODUCT_TYPE"
                                    },
                                    {
                                        "name": "Y_SUB_NAME"
                                    },
                                    {
                                        "name": "Y_DRAWDOWN_NET_AMT"
                                    },
                                    {
                                        "name": "Y_RFD_AMT"
                                    }
                                ]
                            },
                            "data": [
                                {
                                    "0": "2017-10-04 00:00:00.0000000",
                                    "1": "JOB_STG_T24_SAOKE_DEBT_COLLECTION_D01",
                                    "2": "2019-01-15 14:34:46.0000000",
                                    "3": "2017-10-04 00:00:00.0000000",
                                    "4": "2017-10-04 00:00:00.0000000",
                                    "5": "1000117090039557",
                                    "6": "LD1726410507",
                                    "7": "8039183",
                                    "8": "14227760002",
                                    "9": "NULL",
                                    "10": "NULL",
                                    "11": "NULL",
                                    "12": "NULL",
                                    "13": "NULL",
                                    "14": "NULL",
                                    "15": "NULL",
                                    "16": "36",
                                    "17": "1",
                                    "18": "2017-10-10 00:00:00.0000000",
                                    "19": "562830",
                                    "20": "1053555",
                                    "21": "NULL",
                                    "22": "NULL",
                                    "23": "NULL",
                                    "24": "NULL",
                                    "25": "NULL",
                                    "26": "NULL",
                                    "27": "NULL",
                                    "28": "NULL",
                                    "29": "NULL",
                                    "30": "NULL",
                                    "31": "NULL",
                                    "32": "NULL",
                                    "33": "NULL",
                                    "34": "NULL",
                                    "35": "NULL",
                                    "36": "NULL",
                                    "37": "NULL",
                                    "38": "NULL",
                                    "39": "NULL",
                                    "40": "NULL",
                                    "41": "1628385",
                                    "42": "1628385",
                                    "43": "NULL",
                                    "44": "NULL",
                                    "45": "NULL",
                                    "46": "NULL",
                                    "47": "NULL",
                                    "48": "NULL",
                                    "49": "NULL",
                                    "50": "1628385",
                                    "51": "1628385",
                                    "52": "1628385",
                                    "53": "1628385",
                                    "54": "1628385",
                                    "55": "1628385",
                                    "56": "1628385",
                                    "57": "1628385",
                                    "58": "1628385",
                                    "59": "1628385",
                                    "60": "1628385",
                                    "61": "1628385",
                                    "62": "31650000",
                                    "63": "VO THI TUYET MAI",
                                    "64": "NULL",
                                    "65": "NULL",
                                    "66": "NULL",
                                    "67": "NULL",
                                    "68": "NULL",
                                    "69": "NULL",
                                    "70": "NULL",
                                    "71": "NULL"
                                }
                            ]
                        },
                        "text/html": "<table><tr><th>COB_DT</th><th>UPD_BY</th><th>UPD_TIME</th><th>RUN_DATE</th><th>Y_SEL_DATE</th><th>Y_CONTRACT_REF</th><th>LD_ID</th><th>CUS_ID</th><th>YID_AC</th><th>YWK_BAL</th><th>Y_SONGAY_QH</th><th>Y_SONGAY_QH_T1</th><th>Y_SONGAY_QH_T2</th><th>Y_SONGAY_QH_T3</th><th>Y_SONGAY_QH_T4</th><th>Y_SONGAY_QH_T5</th><th>Y_KYHAN</th><th>Y_KYTRANO</th><th>Y_DATE_NEXT</th><th>Y_PR_NEXT</th><th>Y_IN_NEXT</th><th>Y_QH_PR</th><th>Y_QH_IN</th><th>Y_QH_PE</th><th>YAMT_PE_T1</th><th>YAMT_PE_T2</th><th>YAMT_PE_T3</th><th>YAMT_PE_T4</th><th>YAMT_PE_T5</th><th>Y_QH_PS</th><th>YAMT_PS_T1</th><th>YAMT_PS_T2</th><th>YAMT_PS_T3</th><th>YAMT_PS_T4</th><th>YAMT_PS_T5</th><th>Y_TOTAL_PE</th><th>YTOTAL_PE_PS_T1</th><th>YTOTAL_PE_PS_T2</th><th>YTOTAL_PE_PS_T3</th><th>YTOTAL_PE_PS_T4</th><th>YTOTAL_PE_PS_T5</th><th>YTOTAL_AMT_LD</th><th>YTOTAL_AMT_LD_AC</th><th>Y_TOTAL_QH</th><th>Y_TOTAL_QH_AC</th><th>Y_TOTAL_QH_AC_T1</th><th>Y_TOTAL_QH_AC_T2</th><th>Y_TOTAL_QH_AC_T3</th><th>Y_TOTAL_QH_AC_T4</th><th>Y_TOTAL_QH_AC_T5</th><th>Y_TOTAL_REPAY</th><th>Y_TOTAL_REPAY_T1</th><th>Y_TOTAL_REPAY_T2</th><th>Y_TOTAL_REPAY_T3</th><th>Y_TOTAL_REPAY_T4</th><th>Y_TOTAL_REPAY_T5</th><th>Y_TOTAL_REPAY_AC</th><th>Y_TOTAL_REPAY_AC_T1</th><th>Y_TOTAL_REPAY_AC_T2</th><th>Y_TOTAL_REPAY_AC_T3</th><th>Y_TOTAL_REPAY_AC_T4</th><th>Y_TOTAL_REPAY_AC_T5</th><th>Y_DUNO_CL</th><th>CUS_NAME</th><th>Y_EARLY_RPY</th><th>Y_EARLY_RPY_DATE</th><th>YWK_BAL_43</th><th>Y_CATEGORY</th><th>PRODUCT_TYPE</th><th>Y_SUB_NAME</th><th>Y_DRAWDOWN_NET_AMT</th><th>Y_RFD_AMT</th></tr><tr><td>2017-10-04 00:00:00.0000000</td><td>JOB_STG_T24_SAOKE_DEBT_COLLECTION_D01</td><td>2019-01-15 14:34:46.0000000</td><td>2017-10-04 00:00:00.0000000</td><td>2017-10-04 00:00:00.0000000</td><td>1000117090039557</td><td>LD1726410507</td><td>8039183</td><td>14227760002</td><td>NULL</td><td>NULL</td><td>NULL</td><td>NULL</td><td>NULL</td><td>NULL</td><td>NULL</td><td>36</td><td>1</td><td>2017-10-10 00:00:00.0000000</td><td>562830</td><td>1053555</td><td>NULL</td><td>NULL</td><td>NULL</td><td>NULL</td><td>NULL</td><td>NULL</td><td>NULL</td><td>NULL</td><td>NULL</td><td>NULL</td><td>NULL</td><td>NULL</td><td>NULL</td><td>NULL</td><td>NULL</td><td>NULL</td><td>NULL</td><td>NULL</td><td>NULL</td><td>NULL</td><td>1628385</td><td>1628385</td><td>NULL</td><td>NULL</td><td>NULL</td><td>NULL</td><td>NULL</td><td>NULL</td><td>NULL</td><td>1628385</td><td>1628385</td><td>1628385</td><td>1628385</td><td>1628385</td><td>1628385</td><td>1628385</td><td>1628385</td><td>1628385</td><td>1628385</td><td>1628385</td><td>1628385</td><td>31650000</td><td>VO THI TUYET MAI</td><td>NULL</td><td>NULL</td><td>NULL</td><td>NULL</td><td>NULL</td><td>NULL</td><td>NULL</td><td>NULL</td></tr></table>"
                    },
                    "metadata": {}
                }
            ],
            "execution_count": 2
        },
        {
            "cell_type": "markdown",
            "source": [
                "Có thể nhận thấy rõ sự khác biệt về tốc độ truy vấn của 2 cách thức với cùng một câu lệnh query ra 10 dòng đầu ở bảng `STG_T24_SAOKE_DEBT_COLLECTION`:\n",
                "\n",
                "- **Truy vấn trực tiếp**: Total execution time: 00:00:02.830\n",
                "- **Truy vấn qua OPENQUERY**: Total execution time: 00:00:00.060\n",
                "\n",
                "Lưu ý rằng ta còn có thể cải thiện tốc độ truy vấn hơn nữa nếu chuyển điều kiện \"TOP 10\" từ SQL Server vào bên trong câu truy vấn PL/SQL như sau:"
            ],
            "metadata": {
                "azdata_cell_guid": "17649423-aacf-471f-93d8-b42bb63d1dcb"
            }
        },
        {
            "cell_type": "code",
            "source": [
                "-- rownum <= N tương đương với top N\n",
                "SELECT * FROM \n",
                "OPENQUERY(ORASRV ,'Select * from IT_USER.STG_T24_SAOKE_DEBT_COLLECTION where rownum <= 1' )"
            ],
            "metadata": {
                "azdata_cell_guid": "52aa3fde-1c4c-4947-83fa-fe1a3b056adb"
            },
            "outputs": [
                {
                    "output_type": "display_data",
                    "data": {
                        "text/html": "(1 row affected)"
                    },
                    "metadata": {}
                },
                {
                    "output_type": "display_data",
                    "data": {
                        "text/html": "Total execution time: 00:00:00.021"
                    },
                    "metadata": {}
                },
                {
                    "output_type": "execute_result",
                    "execution_count": 4,
                    "data": {
                        "application/vnd.dataresource+json": {
                            "schema": {
                                "fields": [
                                    {
                                        "name": "COB_DT"
                                    },
                                    {
                                        "name": "UPD_BY"
                                    },
                                    {
                                        "name": "UPD_TIME"
                                    },
                                    {
                                        "name": "RUN_DATE"
                                    },
                                    {
                                        "name": "Y_SEL_DATE"
                                    },
                                    {
                                        "name": "Y_CONTRACT_REF"
                                    },
                                    {
                                        "name": "LD_ID"
                                    },
                                    {
                                        "name": "CUS_ID"
                                    },
                                    {
                                        "name": "YID_AC"
                                    },
                                    {
                                        "name": "YWK_BAL"
                                    },
                                    {
                                        "name": "Y_SONGAY_QH"
                                    },
                                    {
                                        "name": "Y_SONGAY_QH_T1"
                                    },
                                    {
                                        "name": "Y_SONGAY_QH_T2"
                                    },
                                    {
                                        "name": "Y_SONGAY_QH_T3"
                                    },
                                    {
                                        "name": "Y_SONGAY_QH_T4"
                                    },
                                    {
                                        "name": "Y_SONGAY_QH_T5"
                                    },
                                    {
                                        "name": "Y_KYHAN"
                                    },
                                    {
                                        "name": "Y_KYTRANO"
                                    },
                                    {
                                        "name": "Y_DATE_NEXT"
                                    },
                                    {
                                        "name": "Y_PR_NEXT"
                                    },
                                    {
                                        "name": "Y_IN_NEXT"
                                    },
                                    {
                                        "name": "Y_QH_PR"
                                    },
                                    {
                                        "name": "Y_QH_IN"
                                    },
                                    {
                                        "name": "Y_QH_PE"
                                    },
                                    {
                                        "name": "YAMT_PE_T1"
                                    },
                                    {
                                        "name": "YAMT_PE_T2"
                                    },
                                    {
                                        "name": "YAMT_PE_T3"
                                    },
                                    {
                                        "name": "YAMT_PE_T4"
                                    },
                                    {
                                        "name": "YAMT_PE_T5"
                                    },
                                    {
                                        "name": "Y_QH_PS"
                                    },
                                    {
                                        "name": "YAMT_PS_T1"
                                    },
                                    {
                                        "name": "YAMT_PS_T2"
                                    },
                                    {
                                        "name": "YAMT_PS_T3"
                                    },
                                    {
                                        "name": "YAMT_PS_T4"
                                    },
                                    {
                                        "name": "YAMT_PS_T5"
                                    },
                                    {
                                        "name": "Y_TOTAL_PE"
                                    },
                                    {
                                        "name": "YTOTAL_PE_PS_T1"
                                    },
                                    {
                                        "name": "YTOTAL_PE_PS_T2"
                                    },
                                    {
                                        "name": "YTOTAL_PE_PS_T3"
                                    },
                                    {
                                        "name": "YTOTAL_PE_PS_T4"
                                    },
                                    {
                                        "name": "YTOTAL_PE_PS_T5"
                                    },
                                    {
                                        "name": "YTOTAL_AMT_LD"
                                    },
                                    {
                                        "name": "YTOTAL_AMT_LD_AC"
                                    },
                                    {
                                        "name": "Y_TOTAL_QH"
                                    },
                                    {
                                        "name": "Y_TOTAL_QH_AC"
                                    },
                                    {
                                        "name": "Y_TOTAL_QH_AC_T1"
                                    },
                                    {
                                        "name": "Y_TOTAL_QH_AC_T2"
                                    },
                                    {
                                        "name": "Y_TOTAL_QH_AC_T3"
                                    },
                                    {
                                        "name": "Y_TOTAL_QH_AC_T4"
                                    },
                                    {
                                        "name": "Y_TOTAL_QH_AC_T5"
                                    },
                                    {
                                        "name": "Y_TOTAL_REPAY"
                                    },
                                    {
                                        "name": "Y_TOTAL_REPAY_T1"
                                    },
                                    {
                                        "name": "Y_TOTAL_REPAY_T2"
                                    },
                                    {
                                        "name": "Y_TOTAL_REPAY_T3"
                                    },
                                    {
                                        "name": "Y_TOTAL_REPAY_T4"
                                    },
                                    {
                                        "name": "Y_TOTAL_REPAY_T5"
                                    },
                                    {
                                        "name": "Y_TOTAL_REPAY_AC"
                                    },
                                    {
                                        "name": "Y_TOTAL_REPAY_AC_T1"
                                    },
                                    {
                                        "name": "Y_TOTAL_REPAY_AC_T2"
                                    },
                                    {
                                        "name": "Y_TOTAL_REPAY_AC_T3"
                                    },
                                    {
                                        "name": "Y_TOTAL_REPAY_AC_T4"
                                    },
                                    {
                                        "name": "Y_TOTAL_REPAY_AC_T5"
                                    },
                                    {
                                        "name": "Y_DUNO_CL"
                                    },
                                    {
                                        "name": "CUS_NAME"
                                    },
                                    {
                                        "name": "Y_EARLY_RPY"
                                    },
                                    {
                                        "name": "Y_EARLY_RPY_DATE"
                                    },
                                    {
                                        "name": "YWK_BAL_43"
                                    },
                                    {
                                        "name": "Y_CATEGORY"
                                    },
                                    {
                                        "name": "PRODUCT_TYPE"
                                    },
                                    {
                                        "name": "Y_SUB_NAME"
                                    },
                                    {
                                        "name": "Y_DRAWDOWN_NET_AMT"
                                    },
                                    {
                                        "name": "Y_RFD_AMT"
                                    }
                                ]
                            },
                            "data": [
                                {
                                    "0": "2017-10-04 00:00:00.0000000",
                                    "1": "JOB_STG_T24_SAOKE_DEBT_COLLECTION_D01",
                                    "2": "2019-01-15 14:34:46.0000000",
                                    "3": "2017-10-04 00:00:00.0000000",
                                    "4": "2017-10-04 00:00:00.0000000",
                                    "5": "1000117090039557",
                                    "6": "LD1726410507",
                                    "7": "8039183",
                                    "8": "14227760002",
                                    "9": "NULL",
                                    "10": "NULL",
                                    "11": "NULL",
                                    "12": "NULL",
                                    "13": "NULL",
                                    "14": "NULL",
                                    "15": "NULL",
                                    "16": "36",
                                    "17": "1",
                                    "18": "2017-10-10 00:00:00.0000000",
                                    "19": "562830",
                                    "20": "1053555",
                                    "21": "NULL",
                                    "22": "NULL",
                                    "23": "NULL",
                                    "24": "NULL",
                                    "25": "NULL",
                                    "26": "NULL",
                                    "27": "NULL",
                                    "28": "NULL",
                                    "29": "NULL",
                                    "30": "NULL",
                                    "31": "NULL",
                                    "32": "NULL",
                                    "33": "NULL",
                                    "34": "NULL",
                                    "35": "NULL",
                                    "36": "NULL",
                                    "37": "NULL",
                                    "38": "NULL",
                                    "39": "NULL",
                                    "40": "NULL",
                                    "41": "1628385",
                                    "42": "1628385",
                                    "43": "NULL",
                                    "44": "NULL",
                                    "45": "NULL",
                                    "46": "NULL",
                                    "47": "NULL",
                                    "48": "NULL",
                                    "49": "NULL",
                                    "50": "1628385",
                                    "51": "1628385",
                                    "52": "1628385",
                                    "53": "1628385",
                                    "54": "1628385",
                                    "55": "1628385",
                                    "56": "1628385",
                                    "57": "1628385",
                                    "58": "1628385",
                                    "59": "1628385",
                                    "60": "1628385",
                                    "61": "1628385",
                                    "62": "31650000",
                                    "63": "VO THI TUYET MAI",
                                    "64": "NULL",
                                    "65": "NULL",
                                    "66": "NULL",
                                    "67": "NULL",
                                    "68": "NULL",
                                    "69": "NULL",
                                    "70": "NULL",
                                    "71": "NULL"
                                }
                            ]
                        },
                        "text/html": "<table><tr><th>COB_DT</th><th>UPD_BY</th><th>UPD_TIME</th><th>RUN_DATE</th><th>Y_SEL_DATE</th><th>Y_CONTRACT_REF</th><th>LD_ID</th><th>CUS_ID</th><th>YID_AC</th><th>YWK_BAL</th><th>Y_SONGAY_QH</th><th>Y_SONGAY_QH_T1</th><th>Y_SONGAY_QH_T2</th><th>Y_SONGAY_QH_T3</th><th>Y_SONGAY_QH_T4</th><th>Y_SONGAY_QH_T5</th><th>Y_KYHAN</th><th>Y_KYTRANO</th><th>Y_DATE_NEXT</th><th>Y_PR_NEXT</th><th>Y_IN_NEXT</th><th>Y_QH_PR</th><th>Y_QH_IN</th><th>Y_QH_PE</th><th>YAMT_PE_T1</th><th>YAMT_PE_T2</th><th>YAMT_PE_T3</th><th>YAMT_PE_T4</th><th>YAMT_PE_T5</th><th>Y_QH_PS</th><th>YAMT_PS_T1</th><th>YAMT_PS_T2</th><th>YAMT_PS_T3</th><th>YAMT_PS_T4</th><th>YAMT_PS_T5</th><th>Y_TOTAL_PE</th><th>YTOTAL_PE_PS_T1</th><th>YTOTAL_PE_PS_T2</th><th>YTOTAL_PE_PS_T3</th><th>YTOTAL_PE_PS_T4</th><th>YTOTAL_PE_PS_T5</th><th>YTOTAL_AMT_LD</th><th>YTOTAL_AMT_LD_AC</th><th>Y_TOTAL_QH</th><th>Y_TOTAL_QH_AC</th><th>Y_TOTAL_QH_AC_T1</th><th>Y_TOTAL_QH_AC_T2</th><th>Y_TOTAL_QH_AC_T3</th><th>Y_TOTAL_QH_AC_T4</th><th>Y_TOTAL_QH_AC_T5</th><th>Y_TOTAL_REPAY</th><th>Y_TOTAL_REPAY_T1</th><th>Y_TOTAL_REPAY_T2</th><th>Y_TOTAL_REPAY_T3</th><th>Y_TOTAL_REPAY_T4</th><th>Y_TOTAL_REPAY_T5</th><th>Y_TOTAL_REPAY_AC</th><th>Y_TOTAL_REPAY_AC_T1</th><th>Y_TOTAL_REPAY_AC_T2</th><th>Y_TOTAL_REPAY_AC_T3</th><th>Y_TOTAL_REPAY_AC_T4</th><th>Y_TOTAL_REPAY_AC_T5</th><th>Y_DUNO_CL</th><th>CUS_NAME</th><th>Y_EARLY_RPY</th><th>Y_EARLY_RPY_DATE</th><th>YWK_BAL_43</th><th>Y_CATEGORY</th><th>PRODUCT_TYPE</th><th>Y_SUB_NAME</th><th>Y_DRAWDOWN_NET_AMT</th><th>Y_RFD_AMT</th></tr><tr><td>2017-10-04 00:00:00.0000000</td><td>JOB_STG_T24_SAOKE_DEBT_COLLECTION_D01</td><td>2019-01-15 14:34:46.0000000</td><td>2017-10-04 00:00:00.0000000</td><td>2017-10-04 00:00:00.0000000</td><td>1000117090039557</td><td>LD1726410507</td><td>8039183</td><td>14227760002</td><td>NULL</td><td>NULL</td><td>NULL</td><td>NULL</td><td>NULL</td><td>NULL</td><td>NULL</td><td>36</td><td>1</td><td>2017-10-10 00:00:00.0000000</td><td>562830</td><td>1053555</td><td>NULL</td><td>NULL</td><td>NULL</td><td>NULL</td><td>NULL</td><td>NULL</td><td>NULL</td><td>NULL</td><td>NULL</td><td>NULL</td><td>NULL</td><td>NULL</td><td>NULL</td><td>NULL</td><td>NULL</td><td>NULL</td><td>NULL</td><td>NULL</td><td>NULL</td><td>NULL</td><td>1628385</td><td>1628385</td><td>NULL</td><td>NULL</td><td>NULL</td><td>NULL</td><td>NULL</td><td>NULL</td><td>NULL</td><td>1628385</td><td>1628385</td><td>1628385</td><td>1628385</td><td>1628385</td><td>1628385</td><td>1628385</td><td>1628385</td><td>1628385</td><td>1628385</td><td>1628385</td><td>1628385</td><td>31650000</td><td>VO THI TUYET MAI</td><td>NULL</td><td>NULL</td><td>NULL</td><td>NULL</td><td>NULL</td><td>NULL</td><td>NULL</td><td>NULL</td></tr></table>"
                    },
                    "metadata": {}
                }
            ],
            "execution_count": 4
        },
        {
            "cell_type": "markdown",
            "source": [
                "### 2.3. Cách sử dụng OPENQUERY\n",
                "\n",
                "#### 2.3.1. Áp dụng điều kiện trong OPENQUERY\n",
                "\n",
                "Có thể thấy rõ ngay một nhược điểm của OPENQUERY, đó là câu query của ORACLE sẽ phải đưa vào trong nháy đơn, tức là việc đưa vào các điều kiện sẽ khó khăn hơn bình thường. Ví dụ:"
            ],
            "metadata": {
                "azdata_cell_guid": "4715c3c1-f4dc-430e-9716-59c3af20e878"
            }
        },
        {
            "cell_type": "code",
            "source": [
                "SELECT top 1 * FROM \r\n",
                "OPENQUERY(ORASRV ,'Select * from IT_USER.STG_T24_SAOKE_DEBT_COLLECTION  where Y_SEL_DATE = ''2021-05-23''' )"
            ],
            "metadata": {
                "azdata_cell_guid": "7cd35d20-e924-4c34-9c80-9dd634085457"
            },
            "outputs": [
                {
                    "output_type": "display_data",
                    "data": {
                        "text/html": "(1 row affected)"
                    },
                    "metadata": {}
                },
                {
                    "output_type": "display_data",
                    "data": {
                        "text/html": "Total execution time: 00:00:00.031"
                    },
                    "metadata": {}
                },
                {
                    "output_type": "execute_result",
                    "execution_count": 5,
                    "data": {
                        "application/vnd.dataresource+json": {
                            "schema": {
                                "fields": [
                                    {
                                        "name": "COB_DT"
                                    },
                                    {
                                        "name": "UPD_BY"
                                    },
                                    {
                                        "name": "UPD_TIME"
                                    },
                                    {
                                        "name": "RUN_DATE"
                                    },
                                    {
                                        "name": "Y_SEL_DATE"
                                    },
                                    {
                                        "name": "Y_CONTRACT_REF"
                                    },
                                    {
                                        "name": "LD_ID"
                                    },
                                    {
                                        "name": "CUS_ID"
                                    },
                                    {
                                        "name": "YID_AC"
                                    },
                                    {
                                        "name": "YWK_BAL"
                                    },
                                    {
                                        "name": "Y_SONGAY_QH"
                                    },
                                    {
                                        "name": "Y_SONGAY_QH_T1"
                                    },
                                    {
                                        "name": "Y_SONGAY_QH_T2"
                                    },
                                    {
                                        "name": "Y_SONGAY_QH_T3"
                                    },
                                    {
                                        "name": "Y_SONGAY_QH_T4"
                                    },
                                    {
                                        "name": "Y_SONGAY_QH_T5"
                                    },
                                    {
                                        "name": "Y_KYHAN"
                                    },
                                    {
                                        "name": "Y_KYTRANO"
                                    },
                                    {
                                        "name": "Y_DATE_NEXT"
                                    },
                                    {
                                        "name": "Y_PR_NEXT"
                                    },
                                    {
                                        "name": "Y_IN_NEXT"
                                    },
                                    {
                                        "name": "Y_QH_PR"
                                    },
                                    {
                                        "name": "Y_QH_IN"
                                    },
                                    {
                                        "name": "Y_QH_PE"
                                    },
                                    {
                                        "name": "YAMT_PE_T1"
                                    },
                                    {
                                        "name": "YAMT_PE_T2"
                                    },
                                    {
                                        "name": "YAMT_PE_T3"
                                    },
                                    {
                                        "name": "YAMT_PE_T4"
                                    },
                                    {
                                        "name": "YAMT_PE_T5"
                                    },
                                    {
                                        "name": "Y_QH_PS"
                                    },
                                    {
                                        "name": "YAMT_PS_T1"
                                    },
                                    {
                                        "name": "YAMT_PS_T2"
                                    },
                                    {
                                        "name": "YAMT_PS_T3"
                                    },
                                    {
                                        "name": "YAMT_PS_T4"
                                    },
                                    {
                                        "name": "YAMT_PS_T5"
                                    },
                                    {
                                        "name": "Y_TOTAL_PE"
                                    },
                                    {
                                        "name": "YTOTAL_PE_PS_T1"
                                    },
                                    {
                                        "name": "YTOTAL_PE_PS_T2"
                                    },
                                    {
                                        "name": "YTOTAL_PE_PS_T3"
                                    },
                                    {
                                        "name": "YTOTAL_PE_PS_T4"
                                    },
                                    {
                                        "name": "YTOTAL_PE_PS_T5"
                                    },
                                    {
                                        "name": "YTOTAL_AMT_LD"
                                    },
                                    {
                                        "name": "YTOTAL_AMT_LD_AC"
                                    },
                                    {
                                        "name": "Y_TOTAL_QH"
                                    },
                                    {
                                        "name": "Y_TOTAL_QH_AC"
                                    },
                                    {
                                        "name": "Y_TOTAL_QH_AC_T1"
                                    },
                                    {
                                        "name": "Y_TOTAL_QH_AC_T2"
                                    },
                                    {
                                        "name": "Y_TOTAL_QH_AC_T3"
                                    },
                                    {
                                        "name": "Y_TOTAL_QH_AC_T4"
                                    },
                                    {
                                        "name": "Y_TOTAL_QH_AC_T5"
                                    },
                                    {
                                        "name": "Y_TOTAL_REPAY"
                                    },
                                    {
                                        "name": "Y_TOTAL_REPAY_T1"
                                    },
                                    {
                                        "name": "Y_TOTAL_REPAY_T2"
                                    },
                                    {
                                        "name": "Y_TOTAL_REPAY_T3"
                                    },
                                    {
                                        "name": "Y_TOTAL_REPAY_T4"
                                    },
                                    {
                                        "name": "Y_TOTAL_REPAY_T5"
                                    },
                                    {
                                        "name": "Y_TOTAL_REPAY_AC"
                                    },
                                    {
                                        "name": "Y_TOTAL_REPAY_AC_T1"
                                    },
                                    {
                                        "name": "Y_TOTAL_REPAY_AC_T2"
                                    },
                                    {
                                        "name": "Y_TOTAL_REPAY_AC_T3"
                                    },
                                    {
                                        "name": "Y_TOTAL_REPAY_AC_T4"
                                    },
                                    {
                                        "name": "Y_TOTAL_REPAY_AC_T5"
                                    },
                                    {
                                        "name": "Y_DUNO_CL"
                                    },
                                    {
                                        "name": "CUS_NAME"
                                    },
                                    {
                                        "name": "Y_EARLY_RPY"
                                    },
                                    {
                                        "name": "Y_EARLY_RPY_DATE"
                                    },
                                    {
                                        "name": "YWK_BAL_43"
                                    },
                                    {
                                        "name": "Y_CATEGORY"
                                    },
                                    {
                                        "name": "PRODUCT_TYPE"
                                    },
                                    {
                                        "name": "Y_SUB_NAME"
                                    },
                                    {
                                        "name": "Y_DRAWDOWN_NET_AMT"
                                    },
                                    {
                                        "name": "Y_RFD_AMT"
                                    }
                                ]
                            },
                            "data": [
                                {
                                    "0": "2021-05-23 00:00:00.0000000",
                                    "1": "JOB_STG_T24_SAOKE_DEBT_COLLECTION_D01",
                                    "2": "2021-05-24 06:37:50.0000000",
                                    "3": "2021-05-23 00:00:00.0000000",
                                    "4": "2021-05-23 00:00:00.0000000",
                                    "5": "1000320060317241",
                                    "6": "LD2018102258",
                                    "7": "1059130",
                                    "8": "10126023346",
                                    "9": "180",
                                    "10": "0",
                                    "11": "NULL",
                                    "12": "NULL",
                                    "13": "NULL",
                                    "14": "NULL",
                                    "15": "NULL",
                                    "16": "27",
                                    "17": "11",
                                    "18": "2021-06-11 00:00:00.0000000",
                                    "19": "986522",
                                    "20": "687360",
                                    "21": "NULL",
                                    "22": "NULL",
                                    "23": "NULL",
                                    "24": "NULL",
                                    "25": "NULL",
                                    "26": "NULL",
                                    "27": "NULL",
                                    "28": "NULL",
                                    "29": "NULL",
                                    "30": "NULL",
                                    "31": "NULL",
                                    "32": "NULL",
                                    "33": "NULL",
                                    "34": "NULL",
                                    "35": "NULL",
                                    "36": "NULL",
                                    "37": "NULL",
                                    "38": "NULL",
                                    "39": "NULL",
                                    "40": "NULL",
                                    "41": "1685882",
                                    "42": "1685702",
                                    "43": "NULL",
                                    "44": "NULL",
                                    "45": "NULL",
                                    "46": "NULL",
                                    "47": "NULL",
                                    "48": "NULL",
                                    "49": "NULL",
                                    "50": "1673882",
                                    "51": "1673882",
                                    "52": "1673882",
                                    "53": "1673882",
                                    "54": "1673882",
                                    "55": "1673882",
                                    "56": "1673702",
                                    "57": "1673702",
                                    "58": "1673702",
                                    "59": "1673702",
                                    "60": "1673702",
                                    "61": "1673702",
                                    "62": "21873268",
                                    "63": "LE CONG TUOC",
                                    "64": "NULL",
                                    "65": "NULL",
                                    "66": "NULL",
                                    "67": "21061",
                                    "68": "CS",
                                    "69": "CS SY A 37",
                                    "70": "30000000.00",
                                    "71": "NULL"
                                }
                            ]
                        },
                        "text/html": "<table><tr><th>COB_DT</th><th>UPD_BY</th><th>UPD_TIME</th><th>RUN_DATE</th><th>Y_SEL_DATE</th><th>Y_CONTRACT_REF</th><th>LD_ID</th><th>CUS_ID</th><th>YID_AC</th><th>YWK_BAL</th><th>Y_SONGAY_QH</th><th>Y_SONGAY_QH_T1</th><th>Y_SONGAY_QH_T2</th><th>Y_SONGAY_QH_T3</th><th>Y_SONGAY_QH_T4</th><th>Y_SONGAY_QH_T5</th><th>Y_KYHAN</th><th>Y_KYTRANO</th><th>Y_DATE_NEXT</th><th>Y_PR_NEXT</th><th>Y_IN_NEXT</th><th>Y_QH_PR</th><th>Y_QH_IN</th><th>Y_QH_PE</th><th>YAMT_PE_T1</th><th>YAMT_PE_T2</th><th>YAMT_PE_T3</th><th>YAMT_PE_T4</th><th>YAMT_PE_T5</th><th>Y_QH_PS</th><th>YAMT_PS_T1</th><th>YAMT_PS_T2</th><th>YAMT_PS_T3</th><th>YAMT_PS_T4</th><th>YAMT_PS_T5</th><th>Y_TOTAL_PE</th><th>YTOTAL_PE_PS_T1</th><th>YTOTAL_PE_PS_T2</th><th>YTOTAL_PE_PS_T3</th><th>YTOTAL_PE_PS_T4</th><th>YTOTAL_PE_PS_T5</th><th>YTOTAL_AMT_LD</th><th>YTOTAL_AMT_LD_AC</th><th>Y_TOTAL_QH</th><th>Y_TOTAL_QH_AC</th><th>Y_TOTAL_QH_AC_T1</th><th>Y_TOTAL_QH_AC_T2</th><th>Y_TOTAL_QH_AC_T3</th><th>Y_TOTAL_QH_AC_T4</th><th>Y_TOTAL_QH_AC_T5</th><th>Y_TOTAL_REPAY</th><th>Y_TOTAL_REPAY_T1</th><th>Y_TOTAL_REPAY_T2</th><th>Y_TOTAL_REPAY_T3</th><th>Y_TOTAL_REPAY_T4</th><th>Y_TOTAL_REPAY_T5</th><th>Y_TOTAL_REPAY_AC</th><th>Y_TOTAL_REPAY_AC_T1</th><th>Y_TOTAL_REPAY_AC_T2</th><th>Y_TOTAL_REPAY_AC_T3</th><th>Y_TOTAL_REPAY_AC_T4</th><th>Y_TOTAL_REPAY_AC_T5</th><th>Y_DUNO_CL</th><th>CUS_NAME</th><th>Y_EARLY_RPY</th><th>Y_EARLY_RPY_DATE</th><th>YWK_BAL_43</th><th>Y_CATEGORY</th><th>PRODUCT_TYPE</th><th>Y_SUB_NAME</th><th>Y_DRAWDOWN_NET_AMT</th><th>Y_RFD_AMT</th></tr><tr><td>2021-05-23 00:00:00.0000000</td><td>JOB_STG_T24_SAOKE_DEBT_COLLECTION_D01</td><td>2021-05-24 06:37:50.0000000</td><td>2021-05-23 00:00:00.0000000</td><td>2021-05-23 00:00:00.0000000</td><td>1000320060317241</td><td>LD2018102258</td><td>1059130</td><td>10126023346</td><td>180</td><td>0</td><td>NULL</td><td>NULL</td><td>NULL</td><td>NULL</td><td>NULL</td><td>27</td><td>11</td><td>2021-06-11 00:00:00.0000000</td><td>986522</td><td>687360</td><td>NULL</td><td>NULL</td><td>NULL</td><td>NULL</td><td>NULL</td><td>NULL</td><td>NULL</td><td>NULL</td><td>NULL</td><td>NULL</td><td>NULL</td><td>NULL</td><td>NULL</td><td>NULL</td><td>NULL</td><td>NULL</td><td>NULL</td><td>NULL</td><td>NULL</td><td>NULL</td><td>1685882</td><td>1685702</td><td>NULL</td><td>NULL</td><td>NULL</td><td>NULL</td><td>NULL</td><td>NULL</td><td>NULL</td><td>1673882</td><td>1673882</td><td>1673882</td><td>1673882</td><td>1673882</td><td>1673882</td><td>1673702</td><td>1673702</td><td>1673702</td><td>1673702</td><td>1673702</td><td>1673702</td><td>21873268</td><td>LE CONG TUOC</td><td>NULL</td><td>NULL</td><td>NULL</td><td>21061</td><td>CS</td><td>CS SY A 37</td><td>30000000.00</td><td>NULL</td></tr></table>"
                    },
                    "metadata": {}
                }
            ],
            "execution_count": 5
        },
        {
            "cell_type": "markdown",
            "source": [
                "Ở trong câu truy vấn trên, điều kiện `WHERE Y_SEL_DATE = ''2021-05-23''` phức tạp hơn bình thường do câu truy vấn nằm trong nháy đơn nên phần ngày `2021-05-23` phải lồng ở trong 2 lần nháy đơn.\n",
                "\n",
                "Tuy nhiên thông thường khi truy vấn dữ liệu, ta muốn quá trình truy vấn diễn ra tự động và vì thế thường khai các biến (variable) và sử dụng biến này trong các điều kiện truy vấn.\n",
                "\n",
                "Sử dụng bảng `nguyennqb.dbo.SAOKEDEBT_20210522` ở SQL Server (tương ứng với bảng `STG_T24_SAOKE_DEBT_COLLECTION` ở Oracle, cả 2 đều là sao kê debt), ta có thể truy vấn dữ liệu như sau:"
            ],
            "metadata": {
                "azdata_cell_guid": "c3887fb6-8cf5-472f-894b-5dbfcd295642"
            }
        },
        {
            "cell_type": "code",
            "source": [
                "declare @y_sel_date varchar(8) = '20210522'\r\n",
                "Select top 1 * from nguyennqb.dbo.SAOKEDEBT_20210522  where [Y SEL DATE] = @y_sel_date"
            ],
            "metadata": {
                "azdata_cell_guid": "376d34af-2369-414b-817d-0098660b11e0"
            },
            "outputs": [
                {
                    "output_type": "display_data",
                    "data": {
                        "text/html": "(1 row affected)"
                    },
                    "metadata": {}
                },
                {
                    "output_type": "display_data",
                    "data": {
                        "text/html": "Total execution time: 00:00:00.156"
                    },
                    "metadata": {}
                },
                {
                    "output_type": "execute_result",
                    "execution_count": 6,
                    "data": {
                        "application/vnd.dataresource+json": {
                            "schema": {
                                "fields": [
                                    {
                                        "name": "Y SEL DATE"
                                    },
                                    {
                                        "name": "Y CONTRACT REF"
                                    },
                                    {
                                        "name": "LD ID"
                                    },
                                    {
                                        "name": "CUS ID"
                                    },
                                    {
                                        "name": "YID AC"
                                    },
                                    {
                                        "name": "YWK BAL"
                                    },
                                    {
                                        "name": "Y SONGAY QH"
                                    },
                                    {
                                        "name": "Y SONGAY QH T1"
                                    },
                                    {
                                        "name": "Y SONGAY QH T2"
                                    },
                                    {
                                        "name": "Y SONGAY QH T3"
                                    },
                                    {
                                        "name": "Y SONGAY QH T4"
                                    },
                                    {
                                        "name": "Y SONGAY QH T5"
                                    },
                                    {
                                        "name": "Y KYHAN"
                                    },
                                    {
                                        "name": "Y KYTRANO"
                                    },
                                    {
                                        "name": "Y DATE NEXT"
                                    },
                                    {
                                        "name": "Y PR NEXT"
                                    },
                                    {
                                        "name": "Y IN NEXT"
                                    },
                                    {
                                        "name": "Y QH PR"
                                    },
                                    {
                                        "name": "Y QH IN"
                                    },
                                    {
                                        "name": "Y QH PE"
                                    },
                                    {
                                        "name": "YAMT PE T1"
                                    },
                                    {
                                        "name": "YAMT PE T2"
                                    },
                                    {
                                        "name": "YAMT PE T3"
                                    },
                                    {
                                        "name": "YAMT PE T4"
                                    },
                                    {
                                        "name": "YAMT PE T5"
                                    },
                                    {
                                        "name": "Y QH PS"
                                    },
                                    {
                                        "name": "YAMT PS T1"
                                    },
                                    {
                                        "name": "YAMT PS T2"
                                    },
                                    {
                                        "name": "YAMT PS T3"
                                    },
                                    {
                                        "name": "YAMT PS T4"
                                    },
                                    {
                                        "name": "YAMT PS T5"
                                    },
                                    {
                                        "name": "Y TOTAL PE"
                                    },
                                    {
                                        "name": "YTOTAL PE PS T1"
                                    },
                                    {
                                        "name": "YTOTAL PE PS T2"
                                    },
                                    {
                                        "name": "YTOTAL PE PS T3"
                                    },
                                    {
                                        "name": "YTOTAL PE PS T4"
                                    },
                                    {
                                        "name": "YTOTAL PE PS T5"
                                    },
                                    {
                                        "name": "YTOTAL AMT LD"
                                    },
                                    {
                                        "name": "YTOTAL AMT LD AC"
                                    },
                                    {
                                        "name": "Y TOTAL QH"
                                    },
                                    {
                                        "name": "Y TOTAL QH AC"
                                    },
                                    {
                                        "name": "Y TOTAL QH AC T1"
                                    },
                                    {
                                        "name": "Y TOTAL QH AC T2"
                                    },
                                    {
                                        "name": "Y TOTAL QH AC T3"
                                    },
                                    {
                                        "name": "Y TOTAL QH AC T4"
                                    },
                                    {
                                        "name": "Y TOTAL QH AC T5"
                                    },
                                    {
                                        "name": "Y TOTAL REPAY"
                                    },
                                    {
                                        "name": "Y TOTAL REPAY T1"
                                    },
                                    {
                                        "name": "Y TOTAL REPAY T2"
                                    },
                                    {
                                        "name": "Y TOTAL REPAY T3"
                                    },
                                    {
                                        "name": "Y TOTAL REPAY T4"
                                    },
                                    {
                                        "name": "Y TOTAL REPAY T5"
                                    },
                                    {
                                        "name": "Y TOTAL REPAY AC"
                                    },
                                    {
                                        "name": "Y TOTAL REPAY AC T1"
                                    },
                                    {
                                        "name": "Y TOTAL REPAY AC T2"
                                    },
                                    {
                                        "name": "Y TOTAL REPAY AC T3"
                                    },
                                    {
                                        "name": "Y TOTAL REPAY AC T4"
                                    },
                                    {
                                        "name": "Y TOTAL REPAY AC T5"
                                    },
                                    {
                                        "name": "Y DUNO CL"
                                    },
                                    {
                                        "name": "CUS NAME"
                                    },
                                    {
                                        "name": "Y EARLY RPY"
                                    },
                                    {
                                        "name": "Y EARLY RPY DATE"
                                    },
                                    {
                                        "name": "YWK BAL 43"
                                    },
                                    {
                                        "name": "Y CATEGORY"
                                    },
                                    {
                                        "name": "PRODUCT TYPE"
                                    },
                                    {
                                        "name": "Y SUB NAME"
                                    },
                                    {
                                        "name": "Y DRAWDOWN NET AMT"
                                    },
                                    {
                                        "name": "Y RFD AMT"
                                    }
                                ]
                            },
                            "data": [
                                {
                                    "0": "20210522",
                                    "1": "1000320080284178",
                                    "2": "10127503406",
                                    "3": "348151",
                                    "4": "10107037433",
                                    "5": "0",
                                    "6": "0",
                                    "7": "",
                                    "8": "",
                                    "9": "",
                                    "10": "",
                                    "11": "",
                                    "12": "36",
                                    "13": "9",
                                    "14": "20210608",
                                    "15": "314958.825",
                                    "16": "497814",
                                    "17": "",
                                    "18": "",
                                    "19": "",
                                    "20": "",
                                    "21": "",
                                    "22": "",
                                    "23": "",
                                    "24": "",
                                    "25": "",
                                    "26": "",
                                    "27": "",
                                    "28": "",
                                    "29": "",
                                    "30": "",
                                    "31": "0",
                                    "32": "0",
                                    "33": "0",
                                    "34": "0",
                                    "35": "0",
                                    "36": "0",
                                    "37": "824772.825",
                                    "38": "824772.825",
                                    "39": "0",
                                    "40": "",
                                    "41": "",
                                    "42": "",
                                    "43": "",
                                    "44": "",
                                    "45": "",
                                    "46": "812772.825",
                                    "47": "812772.825",
                                    "48": "812772.825",
                                    "49": "812772.825",
                                    "50": "812772.825",
                                    "51": "812772.825",
                                    "52": "812772.825",
                                    "53": "812772.825",
                                    "54": "812772.825",
                                    "55": "812772.825",
                                    "56": "812772.825",
                                    "57": "812772.825",
                                    "58": "12598353",
                                    "59": "LE THI KIM TUYEN",
                                    "60": "",
                                    "61": "",
                                    "62": "-10868",
                                    "63": "HOP DONG HAN MUC",
                                    "64": "REVOLVING.LOAN",
                                    "65": "CS RL CS DUO 46.6",
                                    "66": "18990000",
                                    "67": ""
                                }
                            ]
                        },
                        "text/html": "<table><tr><th>Y SEL DATE</th><th>Y CONTRACT REF</th><th>LD ID</th><th>CUS ID</th><th>YID AC</th><th>YWK BAL</th><th>Y SONGAY QH</th><th>Y SONGAY QH T1</th><th>Y SONGAY QH T2</th><th>Y SONGAY QH T3</th><th>Y SONGAY QH T4</th><th>Y SONGAY QH T5</th><th>Y KYHAN</th><th>Y KYTRANO</th><th>Y DATE NEXT</th><th>Y PR NEXT</th><th>Y IN NEXT</th><th>Y QH PR</th><th>Y QH IN</th><th>Y QH PE</th><th>YAMT PE T1</th><th>YAMT PE T2</th><th>YAMT PE T3</th><th>YAMT PE T4</th><th>YAMT PE T5</th><th>Y QH PS</th><th>YAMT PS T1</th><th>YAMT PS T2</th><th>YAMT PS T3</th><th>YAMT PS T4</th><th>YAMT PS T5</th><th>Y TOTAL PE</th><th>YTOTAL PE PS T1</th><th>YTOTAL PE PS T2</th><th>YTOTAL PE PS T3</th><th>YTOTAL PE PS T4</th><th>YTOTAL PE PS T5</th><th>YTOTAL AMT LD</th><th>YTOTAL AMT LD AC</th><th>Y TOTAL QH</th><th>Y TOTAL QH AC</th><th>Y TOTAL QH AC T1</th><th>Y TOTAL QH AC T2</th><th>Y TOTAL QH AC T3</th><th>Y TOTAL QH AC T4</th><th>Y TOTAL QH AC T5</th><th>Y TOTAL REPAY</th><th>Y TOTAL REPAY T1</th><th>Y TOTAL REPAY T2</th><th>Y TOTAL REPAY T3</th><th>Y TOTAL REPAY T4</th><th>Y TOTAL REPAY T5</th><th>Y TOTAL REPAY AC</th><th>Y TOTAL REPAY AC T1</th><th>Y TOTAL REPAY AC T2</th><th>Y TOTAL REPAY AC T3</th><th>Y TOTAL REPAY AC T4</th><th>Y TOTAL REPAY AC T5</th><th>Y DUNO CL</th><th>CUS NAME</th><th>Y EARLY RPY</th><th>Y EARLY RPY DATE</th><th>YWK BAL 43</th><th>Y CATEGORY</th><th>PRODUCT TYPE</th><th>Y SUB NAME</th><th>Y DRAWDOWN NET AMT</th><th>Y RFD AMT</th></tr><tr><td>20210522</td><td>1000320080284178</td><td>10127503406</td><td>348151</td><td>10107037433</td><td>0</td><td>0</td><td></td><td></td><td></td><td></td><td></td><td>36</td><td>9</td><td>20210608</td><td>314958.825</td><td>497814</td><td></td><td></td><td></td><td></td><td></td><td></td><td></td><td></td><td></td><td></td><td></td><td></td><td></td><td></td><td>0</td><td>0</td><td>0</td><td>0</td><td>0</td><td>0</td><td>824772.825</td><td>824772.825</td><td>0</td><td></td><td></td><td></td><td></td><td></td><td></td><td>812772.825</td><td>812772.825</td><td>812772.825</td><td>812772.825</td><td>812772.825</td><td>812772.825</td><td>812772.825</td><td>812772.825</td><td>812772.825</td><td>812772.825</td><td>812772.825</td><td>812772.825</td><td>12598353</td><td>LE THI KIM TUYEN</td><td></td><td></td><td>-10868</td><td>HOP DONG HAN MUC</td><td>REVOLVING.LOAN</td><td>CS RL CS DUO 46.6</td><td>18990000</td><td></td></tr></table>"
                    },
                    "metadata": {}
                }
            ],
            "execution_count": 6
        },
        {
            "cell_type": "markdown",
            "source": [
                "Để sử dụng biến khi truy vấn bằng OPENQUERY, ta phải làm như sau:"
            ],
            "metadata": {
                "azdata_cell_guid": "5cc03168-b0be-4897-85e5-8dd9bd83d5fe"
            }
        },
        {
            "cell_type": "code",
            "source": [
                "declare @y_sel_date varchar(12) = '2021-05-23'\r\n",
                "exec('select top 1 * from OPENQUERY(ORASRV ,''Select * from IT_USER.STG_T24_SAOKE_DEBT_COLLECTION  where Y_SEL_DATE = '''''+@y_sel_date+''''''' )' )"
            ],
            "metadata": {
                "azdata_cell_guid": "84d243f7-43b3-44fa-b092-a5dfc4388a65"
            },
            "outputs": [
                {
                    "output_type": "display_data",
                    "data": {
                        "text/html": "(1 row affected)"
                    },
                    "metadata": {}
                },
                {
                    "output_type": "display_data",
                    "data": {
                        "text/html": "Total execution time: 00:00:00.021"
                    },
                    "metadata": {}
                },
                {
                    "output_type": "execute_result",
                    "execution_count": 11,
                    "data": {
                        "application/vnd.dataresource+json": {
                            "schema": {
                                "fields": [
                                    {
                                        "name": "COB_DT"
                                    },
                                    {
                                        "name": "UPD_BY"
                                    },
                                    {
                                        "name": "UPD_TIME"
                                    },
                                    {
                                        "name": "RUN_DATE"
                                    },
                                    {
                                        "name": "Y_SEL_DATE"
                                    },
                                    {
                                        "name": "Y_CONTRACT_REF"
                                    },
                                    {
                                        "name": "LD_ID"
                                    },
                                    {
                                        "name": "CUS_ID"
                                    },
                                    {
                                        "name": "YID_AC"
                                    },
                                    {
                                        "name": "YWK_BAL"
                                    },
                                    {
                                        "name": "Y_SONGAY_QH"
                                    },
                                    {
                                        "name": "Y_SONGAY_QH_T1"
                                    },
                                    {
                                        "name": "Y_SONGAY_QH_T2"
                                    },
                                    {
                                        "name": "Y_SONGAY_QH_T3"
                                    },
                                    {
                                        "name": "Y_SONGAY_QH_T4"
                                    },
                                    {
                                        "name": "Y_SONGAY_QH_T5"
                                    },
                                    {
                                        "name": "Y_KYHAN"
                                    },
                                    {
                                        "name": "Y_KYTRANO"
                                    },
                                    {
                                        "name": "Y_DATE_NEXT"
                                    },
                                    {
                                        "name": "Y_PR_NEXT"
                                    },
                                    {
                                        "name": "Y_IN_NEXT"
                                    },
                                    {
                                        "name": "Y_QH_PR"
                                    },
                                    {
                                        "name": "Y_QH_IN"
                                    },
                                    {
                                        "name": "Y_QH_PE"
                                    },
                                    {
                                        "name": "YAMT_PE_T1"
                                    },
                                    {
                                        "name": "YAMT_PE_T2"
                                    },
                                    {
                                        "name": "YAMT_PE_T3"
                                    },
                                    {
                                        "name": "YAMT_PE_T4"
                                    },
                                    {
                                        "name": "YAMT_PE_T5"
                                    },
                                    {
                                        "name": "Y_QH_PS"
                                    },
                                    {
                                        "name": "YAMT_PS_T1"
                                    },
                                    {
                                        "name": "YAMT_PS_T2"
                                    },
                                    {
                                        "name": "YAMT_PS_T3"
                                    },
                                    {
                                        "name": "YAMT_PS_T4"
                                    },
                                    {
                                        "name": "YAMT_PS_T5"
                                    },
                                    {
                                        "name": "Y_TOTAL_PE"
                                    },
                                    {
                                        "name": "YTOTAL_PE_PS_T1"
                                    },
                                    {
                                        "name": "YTOTAL_PE_PS_T2"
                                    },
                                    {
                                        "name": "YTOTAL_PE_PS_T3"
                                    },
                                    {
                                        "name": "YTOTAL_PE_PS_T4"
                                    },
                                    {
                                        "name": "YTOTAL_PE_PS_T5"
                                    },
                                    {
                                        "name": "YTOTAL_AMT_LD"
                                    },
                                    {
                                        "name": "YTOTAL_AMT_LD_AC"
                                    },
                                    {
                                        "name": "Y_TOTAL_QH"
                                    },
                                    {
                                        "name": "Y_TOTAL_QH_AC"
                                    },
                                    {
                                        "name": "Y_TOTAL_QH_AC_T1"
                                    },
                                    {
                                        "name": "Y_TOTAL_QH_AC_T2"
                                    },
                                    {
                                        "name": "Y_TOTAL_QH_AC_T3"
                                    },
                                    {
                                        "name": "Y_TOTAL_QH_AC_T4"
                                    },
                                    {
                                        "name": "Y_TOTAL_QH_AC_T5"
                                    },
                                    {
                                        "name": "Y_TOTAL_REPAY"
                                    },
                                    {
                                        "name": "Y_TOTAL_REPAY_T1"
                                    },
                                    {
                                        "name": "Y_TOTAL_REPAY_T2"
                                    },
                                    {
                                        "name": "Y_TOTAL_REPAY_T3"
                                    },
                                    {
                                        "name": "Y_TOTAL_REPAY_T4"
                                    },
                                    {
                                        "name": "Y_TOTAL_REPAY_T5"
                                    },
                                    {
                                        "name": "Y_TOTAL_REPAY_AC"
                                    },
                                    {
                                        "name": "Y_TOTAL_REPAY_AC_T1"
                                    },
                                    {
                                        "name": "Y_TOTAL_REPAY_AC_T2"
                                    },
                                    {
                                        "name": "Y_TOTAL_REPAY_AC_T3"
                                    },
                                    {
                                        "name": "Y_TOTAL_REPAY_AC_T4"
                                    },
                                    {
                                        "name": "Y_TOTAL_REPAY_AC_T5"
                                    },
                                    {
                                        "name": "Y_DUNO_CL"
                                    },
                                    {
                                        "name": "CUS_NAME"
                                    },
                                    {
                                        "name": "Y_EARLY_RPY"
                                    },
                                    {
                                        "name": "Y_EARLY_RPY_DATE"
                                    },
                                    {
                                        "name": "YWK_BAL_43"
                                    },
                                    {
                                        "name": "Y_CATEGORY"
                                    },
                                    {
                                        "name": "PRODUCT_TYPE"
                                    },
                                    {
                                        "name": "Y_SUB_NAME"
                                    },
                                    {
                                        "name": "Y_DRAWDOWN_NET_AMT"
                                    },
                                    {
                                        "name": "Y_RFD_AMT"
                                    }
                                ]
                            },
                            "data": [
                                {
                                    "0": "2021-05-23 00:00:00.0000000",
                                    "1": "JOB_STG_T24_SAOKE_DEBT_COLLECTION_D01",
                                    "2": "2021-05-24 06:37:50.0000000",
                                    "3": "2021-05-23 00:00:00.0000000",
                                    "4": "2021-05-23 00:00:00.0000000",
                                    "5": "1000320060317241",
                                    "6": "LD2018102258",
                                    "7": "1059130",
                                    "8": "10126023346",
                                    "9": "180",
                                    "10": "0",
                                    "11": "NULL",
                                    "12": "NULL",
                                    "13": "NULL",
                                    "14": "NULL",
                                    "15": "NULL",
                                    "16": "27",
                                    "17": "11",
                                    "18": "2021-06-11 00:00:00.0000000",
                                    "19": "986522",
                                    "20": "687360",
                                    "21": "NULL",
                                    "22": "NULL",
                                    "23": "NULL",
                                    "24": "NULL",
                                    "25": "NULL",
                                    "26": "NULL",
                                    "27": "NULL",
                                    "28": "NULL",
                                    "29": "NULL",
                                    "30": "NULL",
                                    "31": "NULL",
                                    "32": "NULL",
                                    "33": "NULL",
                                    "34": "NULL",
                                    "35": "NULL",
                                    "36": "NULL",
                                    "37": "NULL",
                                    "38": "NULL",
                                    "39": "NULL",
                                    "40": "NULL",
                                    "41": "1685882",
                                    "42": "1685702",
                                    "43": "NULL",
                                    "44": "NULL",
                                    "45": "NULL",
                                    "46": "NULL",
                                    "47": "NULL",
                                    "48": "NULL",
                                    "49": "NULL",
                                    "50": "1673882",
                                    "51": "1673882",
                                    "52": "1673882",
                                    "53": "1673882",
                                    "54": "1673882",
                                    "55": "1673882",
                                    "56": "1673702",
                                    "57": "1673702",
                                    "58": "1673702",
                                    "59": "1673702",
                                    "60": "1673702",
                                    "61": "1673702",
                                    "62": "21873268",
                                    "63": "LE CONG TUOC",
                                    "64": "NULL",
                                    "65": "NULL",
                                    "66": "NULL",
                                    "67": "21061",
                                    "68": "CS",
                                    "69": "CS SY A 37",
                                    "70": "30000000.00",
                                    "71": "NULL"
                                }
                            ]
                        },
                        "text/html": "<table><tr><th>COB_DT</th><th>UPD_BY</th><th>UPD_TIME</th><th>RUN_DATE</th><th>Y_SEL_DATE</th><th>Y_CONTRACT_REF</th><th>LD_ID</th><th>CUS_ID</th><th>YID_AC</th><th>YWK_BAL</th><th>Y_SONGAY_QH</th><th>Y_SONGAY_QH_T1</th><th>Y_SONGAY_QH_T2</th><th>Y_SONGAY_QH_T3</th><th>Y_SONGAY_QH_T4</th><th>Y_SONGAY_QH_T5</th><th>Y_KYHAN</th><th>Y_KYTRANO</th><th>Y_DATE_NEXT</th><th>Y_PR_NEXT</th><th>Y_IN_NEXT</th><th>Y_QH_PR</th><th>Y_QH_IN</th><th>Y_QH_PE</th><th>YAMT_PE_T1</th><th>YAMT_PE_T2</th><th>YAMT_PE_T3</th><th>YAMT_PE_T4</th><th>YAMT_PE_T5</th><th>Y_QH_PS</th><th>YAMT_PS_T1</th><th>YAMT_PS_T2</th><th>YAMT_PS_T3</th><th>YAMT_PS_T4</th><th>YAMT_PS_T5</th><th>Y_TOTAL_PE</th><th>YTOTAL_PE_PS_T1</th><th>YTOTAL_PE_PS_T2</th><th>YTOTAL_PE_PS_T3</th><th>YTOTAL_PE_PS_T4</th><th>YTOTAL_PE_PS_T5</th><th>YTOTAL_AMT_LD</th><th>YTOTAL_AMT_LD_AC</th><th>Y_TOTAL_QH</th><th>Y_TOTAL_QH_AC</th><th>Y_TOTAL_QH_AC_T1</th><th>Y_TOTAL_QH_AC_T2</th><th>Y_TOTAL_QH_AC_T3</th><th>Y_TOTAL_QH_AC_T4</th><th>Y_TOTAL_QH_AC_T5</th><th>Y_TOTAL_REPAY</th><th>Y_TOTAL_REPAY_T1</th><th>Y_TOTAL_REPAY_T2</th><th>Y_TOTAL_REPAY_T3</th><th>Y_TOTAL_REPAY_T4</th><th>Y_TOTAL_REPAY_T5</th><th>Y_TOTAL_REPAY_AC</th><th>Y_TOTAL_REPAY_AC_T1</th><th>Y_TOTAL_REPAY_AC_T2</th><th>Y_TOTAL_REPAY_AC_T3</th><th>Y_TOTAL_REPAY_AC_T4</th><th>Y_TOTAL_REPAY_AC_T5</th><th>Y_DUNO_CL</th><th>CUS_NAME</th><th>Y_EARLY_RPY</th><th>Y_EARLY_RPY_DATE</th><th>YWK_BAL_43</th><th>Y_CATEGORY</th><th>PRODUCT_TYPE</th><th>Y_SUB_NAME</th><th>Y_DRAWDOWN_NET_AMT</th><th>Y_RFD_AMT</th></tr><tr><td>2021-05-23 00:00:00.0000000</td><td>JOB_STG_T24_SAOKE_DEBT_COLLECTION_D01</td><td>2021-05-24 06:37:50.0000000</td><td>2021-05-23 00:00:00.0000000</td><td>2021-05-23 00:00:00.0000000</td><td>1000320060317241</td><td>LD2018102258</td><td>1059130</td><td>10126023346</td><td>180</td><td>0</td><td>NULL</td><td>NULL</td><td>NULL</td><td>NULL</td><td>NULL</td><td>27</td><td>11</td><td>2021-06-11 00:00:00.0000000</td><td>986522</td><td>687360</td><td>NULL</td><td>NULL</td><td>NULL</td><td>NULL</td><td>NULL</td><td>NULL</td><td>NULL</td><td>NULL</td><td>NULL</td><td>NULL</td><td>NULL</td><td>NULL</td><td>NULL</td><td>NULL</td><td>NULL</td><td>NULL</td><td>NULL</td><td>NULL</td><td>NULL</td><td>NULL</td><td>1685882</td><td>1685702</td><td>NULL</td><td>NULL</td><td>NULL</td><td>NULL</td><td>NULL</td><td>NULL</td><td>NULL</td><td>1673882</td><td>1673882</td><td>1673882</td><td>1673882</td><td>1673882</td><td>1673882</td><td>1673702</td><td>1673702</td><td>1673702</td><td>1673702</td><td>1673702</td><td>1673702</td><td>21873268</td><td>LE CONG TUOC</td><td>NULL</td><td>NULL</td><td>NULL</td><td>21061</td><td>CS</td><td>CS SY A 37</td><td>30000000.00</td><td>NULL</td></tr></table>"
                    },
                    "metadata": {}
                }
            ],
            "execution_count": 11
        },
        {
            "cell_type": "markdown",
            "source": [
                "Nhìn vào câu query ở trên, ta có thể sẽ tự hỏi: Tại sao lại phải đưa toàn bộ cả câu `SELECT` của SQL Server vào nháy đơn và sử dụng `EXEC`, thay vì viết như ở dưới:"
            ],
            "metadata": {
                "azdata_cell_guid": "f79f6e8c-879c-460e-bd81-51957bb4029f"
            }
        },
        {
            "cell_type": "code",
            "source": [
                "declare @y_sel_date varchar(12) = '2021-05-23'\r\n",
                "SELECT * FROM OPENQUERY(ORASRV, 'SELECT * from IT_USER.STG_T24_SAOKE_DEBT_COLLECTION  where Y_SEL_DATE ='''+@y_sel_date+'''')"
            ],
            "metadata": {
                "azdata_cell_guid": "1c2a4124-a3e7-4fce-bb1d-1443c9fb4c88"
            },
            "outputs": [
                {
                    "output_type": "error",
                    "ename": "",
                    "evalue": "Msg 102, Level 15, State 1, Line 2\r\nIncorrect syntax near '+'.",
                    "traceback": []
                },
                {
                    "output_type": "display_data",
                    "data": {
                        "text/html": "Total execution time: 00:00:00.002"
                    },
                    "metadata": {}
                }
            ],
            "execution_count": 17
        },
        {
            "cell_type": "code",
            "source": [
                "declare @y_sel_date varchar(12) = '2021-05-23'\r\n",
                "declare @openquery varchar(4000) = 'SELECT * from IT_USER.STG_T24_SAOKE_DEBT_COLLECTION  where Y_SEL_DATE ='''+@y_sel_date+''''\r\n",
                "select * from openquery(orasrv, @openquery)"
            ],
            "metadata": {
                "azdata_cell_guid": "d5ffb60d-6666-4023-b2b9-4fe83301ef99"
            },
            "outputs": [
                {
                    "output_type": "error",
                    "ename": "",
                    "evalue": "Msg 102, Level 15, State 1, Line 3\r\nIncorrect syntax near '@openquery'.",
                    "traceback": []
                },
                {
                    "output_type": "display_data",
                    "data": {
                        "text/html": "Total execution time: 00:00:00.002"
                    },
                    "metadata": {}
                }
            ],
            "execution_count": 16
        },
        {
            "cell_type": "markdown",
            "source": [
                "Cả 2 câu query ở trên đều gặp lỗi **Incorrect syntax**; lý do là bởi `OPENQUERY` chỉ nhận 2 tham số:\n",
                "\n",
                "1. Tên Linked Server\n",
                "2. Câu lệnh để gửi sang Oracle ở dạng **string** (text), tức là nằm trong nháy đơn\n",
                "\n",
                "Tức là với tham số thứ 2, `OPENQUERY` sẽ chỉ nhận tham số có kiểu **string** và không nhận biến hay bất kỳ kiểu nào khác.\n",
                "\n",
                "#### 2.3.2. Tối ưu hóa truy vấn dữ liệu khi sử dụng OPENQUERY\n",
                "\n",
                "Khi sử dụng `OPENQUERY`, ta có 2 cách để đưa ra các điều kiện: \n",
                "\n",
                "- Ở bên ngoài OPENQUERY (tức là ở câu `SELECT` phía SQL Server)\n",
                "- Ở bên trong OPENQUERY (tức là ở câu `SELECT` phía Oracle, nằm ở tham số thứ 2 của `OPENQUERY`, trong nháy đơn)\n",
                "\n",
                "Xét 2 câu truy vấn sau:"
            ],
            "metadata": {
                "azdata_cell_guid": "417a0e64-7300-47c3-a389-31553870525a"
            }
        },
        {
            "cell_type": "code",
            "source": [
                "-- Query 1\r\n",
                "SELECT top 1 * FROM \r\n",
                "OPENQUERY(ORASRV ,'Select * from IT_USER.STG_T24_SAOKE_DEBT_COLLECTION  where Y_SEL_DATE = ''2021-05-23''' )"
            ],
            "metadata": {
                "azdata_cell_guid": "4b06be38-517a-452d-b00b-b06aa461547e"
            },
            "outputs": [
                {
                    "output_type": "display_data",
                    "data": {
                        "text/html": "(1 row affected)"
                    },
                    "metadata": {}
                },
                {
                    "output_type": "display_data",
                    "data": {
                        "text/html": "Total execution time: 00:00:00.021"
                    },
                    "metadata": {}
                },
                {
                    "output_type": "execute_result",
                    "execution_count": 21,
                    "data": {
                        "application/vnd.dataresource+json": {
                            "schema": {
                                "fields": [
                                    {
                                        "name": "COB_DT"
                                    },
                                    {
                                        "name": "UPD_BY"
                                    },
                                    {
                                        "name": "UPD_TIME"
                                    },
                                    {
                                        "name": "RUN_DATE"
                                    },
                                    {
                                        "name": "Y_SEL_DATE"
                                    },
                                    {
                                        "name": "Y_CONTRACT_REF"
                                    },
                                    {
                                        "name": "LD_ID"
                                    },
                                    {
                                        "name": "CUS_ID"
                                    },
                                    {
                                        "name": "YID_AC"
                                    },
                                    {
                                        "name": "YWK_BAL"
                                    },
                                    {
                                        "name": "Y_SONGAY_QH"
                                    },
                                    {
                                        "name": "Y_SONGAY_QH_T1"
                                    },
                                    {
                                        "name": "Y_SONGAY_QH_T2"
                                    },
                                    {
                                        "name": "Y_SONGAY_QH_T3"
                                    },
                                    {
                                        "name": "Y_SONGAY_QH_T4"
                                    },
                                    {
                                        "name": "Y_SONGAY_QH_T5"
                                    },
                                    {
                                        "name": "Y_KYHAN"
                                    },
                                    {
                                        "name": "Y_KYTRANO"
                                    },
                                    {
                                        "name": "Y_DATE_NEXT"
                                    },
                                    {
                                        "name": "Y_PR_NEXT"
                                    },
                                    {
                                        "name": "Y_IN_NEXT"
                                    },
                                    {
                                        "name": "Y_QH_PR"
                                    },
                                    {
                                        "name": "Y_QH_IN"
                                    },
                                    {
                                        "name": "Y_QH_PE"
                                    },
                                    {
                                        "name": "YAMT_PE_T1"
                                    },
                                    {
                                        "name": "YAMT_PE_T2"
                                    },
                                    {
                                        "name": "YAMT_PE_T3"
                                    },
                                    {
                                        "name": "YAMT_PE_T4"
                                    },
                                    {
                                        "name": "YAMT_PE_T5"
                                    },
                                    {
                                        "name": "Y_QH_PS"
                                    },
                                    {
                                        "name": "YAMT_PS_T1"
                                    },
                                    {
                                        "name": "YAMT_PS_T2"
                                    },
                                    {
                                        "name": "YAMT_PS_T3"
                                    },
                                    {
                                        "name": "YAMT_PS_T4"
                                    },
                                    {
                                        "name": "YAMT_PS_T5"
                                    },
                                    {
                                        "name": "Y_TOTAL_PE"
                                    },
                                    {
                                        "name": "YTOTAL_PE_PS_T1"
                                    },
                                    {
                                        "name": "YTOTAL_PE_PS_T2"
                                    },
                                    {
                                        "name": "YTOTAL_PE_PS_T3"
                                    },
                                    {
                                        "name": "YTOTAL_PE_PS_T4"
                                    },
                                    {
                                        "name": "YTOTAL_PE_PS_T5"
                                    },
                                    {
                                        "name": "YTOTAL_AMT_LD"
                                    },
                                    {
                                        "name": "YTOTAL_AMT_LD_AC"
                                    },
                                    {
                                        "name": "Y_TOTAL_QH"
                                    },
                                    {
                                        "name": "Y_TOTAL_QH_AC"
                                    },
                                    {
                                        "name": "Y_TOTAL_QH_AC_T1"
                                    },
                                    {
                                        "name": "Y_TOTAL_QH_AC_T2"
                                    },
                                    {
                                        "name": "Y_TOTAL_QH_AC_T3"
                                    },
                                    {
                                        "name": "Y_TOTAL_QH_AC_T4"
                                    },
                                    {
                                        "name": "Y_TOTAL_QH_AC_T5"
                                    },
                                    {
                                        "name": "Y_TOTAL_REPAY"
                                    },
                                    {
                                        "name": "Y_TOTAL_REPAY_T1"
                                    },
                                    {
                                        "name": "Y_TOTAL_REPAY_T2"
                                    },
                                    {
                                        "name": "Y_TOTAL_REPAY_T3"
                                    },
                                    {
                                        "name": "Y_TOTAL_REPAY_T4"
                                    },
                                    {
                                        "name": "Y_TOTAL_REPAY_T5"
                                    },
                                    {
                                        "name": "Y_TOTAL_REPAY_AC"
                                    },
                                    {
                                        "name": "Y_TOTAL_REPAY_AC_T1"
                                    },
                                    {
                                        "name": "Y_TOTAL_REPAY_AC_T2"
                                    },
                                    {
                                        "name": "Y_TOTAL_REPAY_AC_T3"
                                    },
                                    {
                                        "name": "Y_TOTAL_REPAY_AC_T4"
                                    },
                                    {
                                        "name": "Y_TOTAL_REPAY_AC_T5"
                                    },
                                    {
                                        "name": "Y_DUNO_CL"
                                    },
                                    {
                                        "name": "CUS_NAME"
                                    },
                                    {
                                        "name": "Y_EARLY_RPY"
                                    },
                                    {
                                        "name": "Y_EARLY_RPY_DATE"
                                    },
                                    {
                                        "name": "YWK_BAL_43"
                                    },
                                    {
                                        "name": "Y_CATEGORY"
                                    },
                                    {
                                        "name": "PRODUCT_TYPE"
                                    },
                                    {
                                        "name": "Y_SUB_NAME"
                                    },
                                    {
                                        "name": "Y_DRAWDOWN_NET_AMT"
                                    },
                                    {
                                        "name": "Y_RFD_AMT"
                                    }
                                ]
                            },
                            "data": [
                                {
                                    "0": "2021-05-23 00:00:00.0000000",
                                    "1": "JOB_STG_T24_SAOKE_DEBT_COLLECTION_D01",
                                    "2": "2021-05-24 06:37:50.0000000",
                                    "3": "2021-05-23 00:00:00.0000000",
                                    "4": "2021-05-23 00:00:00.0000000",
                                    "5": "1000320060317241",
                                    "6": "LD2018102258",
                                    "7": "1059130",
                                    "8": "10126023346",
                                    "9": "180",
                                    "10": "0",
                                    "11": "NULL",
                                    "12": "NULL",
                                    "13": "NULL",
                                    "14": "NULL",
                                    "15": "NULL",
                                    "16": "27",
                                    "17": "11",
                                    "18": "2021-06-11 00:00:00.0000000",
                                    "19": "986522",
                                    "20": "687360",
                                    "21": "NULL",
                                    "22": "NULL",
                                    "23": "NULL",
                                    "24": "NULL",
                                    "25": "NULL",
                                    "26": "NULL",
                                    "27": "NULL",
                                    "28": "NULL",
                                    "29": "NULL",
                                    "30": "NULL",
                                    "31": "NULL",
                                    "32": "NULL",
                                    "33": "NULL",
                                    "34": "NULL",
                                    "35": "NULL",
                                    "36": "NULL",
                                    "37": "NULL",
                                    "38": "NULL",
                                    "39": "NULL",
                                    "40": "NULL",
                                    "41": "1685882",
                                    "42": "1685702",
                                    "43": "NULL",
                                    "44": "NULL",
                                    "45": "NULL",
                                    "46": "NULL",
                                    "47": "NULL",
                                    "48": "NULL",
                                    "49": "NULL",
                                    "50": "1673882",
                                    "51": "1673882",
                                    "52": "1673882",
                                    "53": "1673882",
                                    "54": "1673882",
                                    "55": "1673882",
                                    "56": "1673702",
                                    "57": "1673702",
                                    "58": "1673702",
                                    "59": "1673702",
                                    "60": "1673702",
                                    "61": "1673702",
                                    "62": "21873268",
                                    "63": "LE CONG TUOC",
                                    "64": "NULL",
                                    "65": "NULL",
                                    "66": "NULL",
                                    "67": "21061",
                                    "68": "CS",
                                    "69": "CS SY A 37",
                                    "70": "30000000.00",
                                    "71": "NULL"
                                }
                            ]
                        },
                        "text/html": "<table><tr><th>COB_DT</th><th>UPD_BY</th><th>UPD_TIME</th><th>RUN_DATE</th><th>Y_SEL_DATE</th><th>Y_CONTRACT_REF</th><th>LD_ID</th><th>CUS_ID</th><th>YID_AC</th><th>YWK_BAL</th><th>Y_SONGAY_QH</th><th>Y_SONGAY_QH_T1</th><th>Y_SONGAY_QH_T2</th><th>Y_SONGAY_QH_T3</th><th>Y_SONGAY_QH_T4</th><th>Y_SONGAY_QH_T5</th><th>Y_KYHAN</th><th>Y_KYTRANO</th><th>Y_DATE_NEXT</th><th>Y_PR_NEXT</th><th>Y_IN_NEXT</th><th>Y_QH_PR</th><th>Y_QH_IN</th><th>Y_QH_PE</th><th>YAMT_PE_T1</th><th>YAMT_PE_T2</th><th>YAMT_PE_T3</th><th>YAMT_PE_T4</th><th>YAMT_PE_T5</th><th>Y_QH_PS</th><th>YAMT_PS_T1</th><th>YAMT_PS_T2</th><th>YAMT_PS_T3</th><th>YAMT_PS_T4</th><th>YAMT_PS_T5</th><th>Y_TOTAL_PE</th><th>YTOTAL_PE_PS_T1</th><th>YTOTAL_PE_PS_T2</th><th>YTOTAL_PE_PS_T3</th><th>YTOTAL_PE_PS_T4</th><th>YTOTAL_PE_PS_T5</th><th>YTOTAL_AMT_LD</th><th>YTOTAL_AMT_LD_AC</th><th>Y_TOTAL_QH</th><th>Y_TOTAL_QH_AC</th><th>Y_TOTAL_QH_AC_T1</th><th>Y_TOTAL_QH_AC_T2</th><th>Y_TOTAL_QH_AC_T3</th><th>Y_TOTAL_QH_AC_T4</th><th>Y_TOTAL_QH_AC_T5</th><th>Y_TOTAL_REPAY</th><th>Y_TOTAL_REPAY_T1</th><th>Y_TOTAL_REPAY_T2</th><th>Y_TOTAL_REPAY_T3</th><th>Y_TOTAL_REPAY_T4</th><th>Y_TOTAL_REPAY_T5</th><th>Y_TOTAL_REPAY_AC</th><th>Y_TOTAL_REPAY_AC_T1</th><th>Y_TOTAL_REPAY_AC_T2</th><th>Y_TOTAL_REPAY_AC_T3</th><th>Y_TOTAL_REPAY_AC_T4</th><th>Y_TOTAL_REPAY_AC_T5</th><th>Y_DUNO_CL</th><th>CUS_NAME</th><th>Y_EARLY_RPY</th><th>Y_EARLY_RPY_DATE</th><th>YWK_BAL_43</th><th>Y_CATEGORY</th><th>PRODUCT_TYPE</th><th>Y_SUB_NAME</th><th>Y_DRAWDOWN_NET_AMT</th><th>Y_RFD_AMT</th></tr><tr><td>2021-05-23 00:00:00.0000000</td><td>JOB_STG_T24_SAOKE_DEBT_COLLECTION_D01</td><td>2021-05-24 06:37:50.0000000</td><td>2021-05-23 00:00:00.0000000</td><td>2021-05-23 00:00:00.0000000</td><td>1000320060317241</td><td>LD2018102258</td><td>1059130</td><td>10126023346</td><td>180</td><td>0</td><td>NULL</td><td>NULL</td><td>NULL</td><td>NULL</td><td>NULL</td><td>27</td><td>11</td><td>2021-06-11 00:00:00.0000000</td><td>986522</td><td>687360</td><td>NULL</td><td>NULL</td><td>NULL</td><td>NULL</td><td>NULL</td><td>NULL</td><td>NULL</td><td>NULL</td><td>NULL</td><td>NULL</td><td>NULL</td><td>NULL</td><td>NULL</td><td>NULL</td><td>NULL</td><td>NULL</td><td>NULL</td><td>NULL</td><td>NULL</td><td>NULL</td><td>1685882</td><td>1685702</td><td>NULL</td><td>NULL</td><td>NULL</td><td>NULL</td><td>NULL</td><td>NULL</td><td>NULL</td><td>1673882</td><td>1673882</td><td>1673882</td><td>1673882</td><td>1673882</td><td>1673882</td><td>1673702</td><td>1673702</td><td>1673702</td><td>1673702</td><td>1673702</td><td>1673702</td><td>21873268</td><td>LE CONG TUOC</td><td>NULL</td><td>NULL</td><td>NULL</td><td>21061</td><td>CS</td><td>CS SY A 37</td><td>30000000.00</td><td>NULL</td></tr></table>"
                    },
                    "metadata": {}
                }
            ],
            "execution_count": 21
        },
        {
            "cell_type": "code",
            "source": [
                "-- Query 2\r\n",
                "-- Không nên chạy vì tốn thời gian\r\n",
                "SELECT top 1 * FROM \r\n",
                "OPENQUERY(ORASRV ,'Select * from IT_USER.STG_T24_SAOKE_DEBT_COLLECTION ')\r\n",
                "WHERE Y_SEL_DATE = '2021-05-23'"
            ],
            "metadata": {
                "azdata_cell_guid": "e98190cd-f229-414c-a091-e82f7a807f07"
            },
            "outputs": [
                {
                    "output_type": "error",
                    "ename": "",
                    "evalue": "Query failed: The operation was canceled.",
                    "traceback": []
                },
                {
                    "output_type": "display_data",
                    "data": {
                        "text/html": "Query was canceled by user"
                    },
                    "metadata": {}
                },
                {
                    "output_type": "display_data",
                    "data": {
                        "text/html": "Total execution time: 00:05:31.134"
                    },
                    "metadata": {}
                }
            ],
            "execution_count": 22
        },
        {
            "cell_type": "markdown",
            "source": [
                "Có thể thấy tốc độ truy vấn của Query 2 chậm hơn hẳn Query 1. Lý do là bởi trong Query 2, `OPENQUERY` đã lấy toàn bộ bảng `IT_USER.STG_T24_SAOKE_DEBT_COLLECTION` sang bên SQL Server và sau đó mới áp đặt điều kiện `Y_SEL_DATE = '2021-05-23'`. Ngược lại, ở Query 1, điều kiện `Y_SEL_DATE = '2021-05-23'` được áp đặt ngay từ phía ORACLE rồi sau đó mới lấy sang phía SQL Server.\n",
                "\n",
                "Trên lý thuyết, ta nên đưa hết tất cả các điều kiện cũng như giới hạn số lượng cột cần `SELECT` ngày từ phía query của ORACLE. Điều này giúp lượng dữ liệu mang sang SQL Server nhỏ hơn, và toàn bộ tác vụ xử dữ liệu sẽ nằm ở Oracle.\n",
                "\n",
                "Tuy nhiên trên thực tế, việc đưa nhiều điều kiện hay các tác vụ xử lý dữ liệu vào câu query ở phía Oracle sẽ làm cho việc viết query phức tạp hơn nếu mỗi điều kiện lại tương ứng với một biến phải khai báo. Như vậy, ta có thể cân đối giữa việc xử lý dữ liệu ở phía ORACLE hoặc đưa về SQL Server rồi mới xử lý, nhằm đảm bảo cả về tốc độ truy vấn và tính dễ hiểu của câu query cuối cùng.\n",
                "\n",
                "#### 2.3.3. Sử dụng vòng lặp để kiểm tra dữ liệu ở ORACLE\n",
                "\n",
                "Do dữ liệu ở ORACLE nằm ở máy chủ `172.17.101.148/MOMPDB` được động bộ hóa chậm 1 ngày (T-1) vào khoảng 9h sáng hàng này nên ta cần có cách để kiểm tra xem dữ liệu đã có chưa trước khi thực hiện query/chạy job ở phía SQL Server.\n",
                "\n",
                "Logic một vòng lặp đơn giản để kiểm tra dữ liệu có thể được thiết kế như sau:\n",
                "\n",
                "- Kiểm tra dữ liệu lần đầu ở Oracle, nếu có dữ liệu sẽ trả về giá trị 1, nếu chưa sẽ trả về giá trị 0. Gọi giá trị trả về là `table_status`\n",
                "- Bắt đầu vòng lặp với điều kiện: Nếu `table_status` == 0, tiếp tục kiểm tra dữ liệu và cập nhật `table_status` sau mỗi lần kiểm tra\n",
                "- Nếu `table_status` == 1, vòng lặp kết thúc và chuyển sang kéo dữ liệu từ ORACLE về"
            ],
            "metadata": {
                "azdata_cell_guid": "20248974-7965-4e3e-b676-cf7ada291a58"
            }
        },
        {
            "cell_type": "code",
            "source": [
                "drop table if exists ##table_status\r\n",
                "\r\n",
                "declare @plsql varchar(8000) = 'select * from oracle_table'\r\n",
                "declare @checking_plsql varchar(8000) = 'select case when exists(' + @plsql +') then 1 else 0 end as table_status from dual'\r\n",
                "declare @checking_tsql varchar(8000) = 'select * into ##table_status_trghm from openquery(orasrv, '''+@checking_plsql+''')'\r\n",
                "declare @insert_tsql varchar(8000) = 'insert into sql_server_table select * from openquery(orasrv, '''+@plsql+''')'\r\n",
                "declare @first_exec_timestamp datetime = getdate()\r\n",
                "\r\n",
                "exec(@checking_tsql)\r\n",
                "while (select table_status from ##table_status) = 0\r\n",
                "begin\r\n",
                "    exec(@checking_tsql)\r\n",
                "    WAITFOR DELAY '00:00:15' -- chờ 15s trước khi kiểm tra lại dữ liệu để tránh việc quá tại cho server\r\n",
                "    declare @table_status int = (select table_status from ##table_status)\r\n",
                "    print(@table_status)\r\n",
                "    if datediff(mi, @first_exec_timestamp, getdate()) > 60 -- nếu việc kiểm tra dữ liệu kéo dài quá 60 phút, dừng lại việc kiểm tra\r\n",
                "    begin\r\n",
                "        break\r\n",
                "    end\r\n",
                "end;\r\n",
                "\r\n",
                "-- select table_status from ##table_status\r\n",
                "\r\n",
                "if (select table_status from ##table_status) = 1\r\n",
                "begin\r\n",
                "    WAITFOR DELAY '00:02:00' -- chờ 2 phút trước khi thực hiện kéo dữ liệu về để đảm bảo dữ liệu bên phía ORACLE đã có đủ\r\n",
                "    exec(@insert_tsql)\r\n",
                "end;\r\n",
                ""
            ],
            "metadata": {
                "azdata_cell_guid": "a721e5df-c5fe-4482-a536-2aeef0c4b5b5"
            },
            "outputs": [],
            "execution_count": null
        },
        {
            "cell_type": "markdown",
            "source": [
                "## 3. Một số cú pháp PL/SQL (Oracle) cần biết và cú pháp tương ứng ở SQL Server\r\n",
                "\r\n",
                "1. Thay thế `TOP N` trong SQL Server\r\n",
                ""
            ],
            "metadata": {
                "azdata_cell_guid": "c01713f7-af5c-4259-847b-d933989bc95d"
            }
        },
        {
            "cell_type": "code",
            "source": [
                "select *\r\n",
                "from  table_name\r\n",
                "where  ROWNUM  <=  N;"
            ],
            "metadata": {
                "azdata_cell_guid": "15fcb03f-be79-4ef0-99b7-6996ffe925b2",
                "tags": []
            },
            "outputs": [],
            "execution_count": null
        },
        {
            "cell_type": "markdown",
            "source": [
                "2. Kiểm tra ngày hiện tại"
            ],
            "metadata": {
                "azdata_cell_guid": "b95da97b-24a5-467d-926c-a609be43c7bb"
            }
        },
        {
            "cell_type": "code",
            "source": [
                "select SYSDATE from dial;"
            ],
            "metadata": {
                "azdata_cell_guid": "f3267112-c048-4770-b3aa-756dbf15077b"
            },
            "outputs": [],
            "execution_count": null
        },
        {
            "cell_type": "markdown",
            "source": [
                "3. Thay thế `CONVERT` trong SQL Server"
            ],
            "metadata": {
                "azdata_cell_guid": "138f42aa-2629-4cbd-b661-e6e1a02fe091"
            }
        },
        {
            "cell_type": "code",
            "source": [
                "SELECT TO_DATE('20201201', \"YYYYMMDD\") FROM DIAL;\r\n",
                "SELECT TO_CHAR(SYSDATE, \"YYYYMMDD\") FROM DIAL;"
            ],
            "metadata": {
                "azdata_cell_guid": "ffce2f87-2e33-4974-a460-3ab47334f0ef"
            },
            "outputs": [],
            "execution_count": null
        },
        {
            "cell_type": "markdown",
            "source": [
                "4. `FROM DIAL`\n",
                "\n",
                "Trong ORACLE bắt buộc mọi câu SELECT phải có FROM TABLE đi kèm -> với các câu select tương ứng trong SQL Server, thêm vào FROM DUAL.\n",
                "\n",
                "- Trong Oracle:"
            ],
            "metadata": {
                "azdata_cell_guid": "96c5727c-1724-4531-8589-f342499ad1ea"
            }
        },
        {
            "cell_type": "code",
            "source": [
                "select SYSDATE from dial;"
            ],
            "metadata": {
                "azdata_cell_guid": "ea6aeeed-6152-47fc-a27f-a370000a90d6"
            },
            "outputs": [],
            "execution_count": null
        },
        {
            "cell_type": "markdown",
            "source": [
                "- Trong SQL Server:"
            ],
            "metadata": {
                "azdata_cell_guid": "a4ab708d-4643-4e91-bcae-2b69287809e9"
            }
        },
        {
            "cell_type": "code",
            "source": [
                "select GETDATE()"
            ],
            "metadata": {
                "azdata_cell_guid": "5bbea52a-e233-4008-bd18-f425b1343865"
            },
            "outputs": [],
            "execution_count": null
        },
        {
            "cell_type": "markdown",
            "source": [
                "5. Thay thế `ISNULL()` trong SQL Server"
            ],
            "metadata": {
                "azdata_cell_guid": "9ad0f56e-d7b4-4667-80d7-3f6220e1eacd"
            }
        },
        {
            "cell_type": "code",
            "source": [
                "SELECT NVL(col_name, 'subtitute_value')\r\n",
                "FROM table_name;"
            ],
            "metadata": {
                "azdata_cell_guid": "ea93a266-a5b5-4708-9485-4b472254370c"
            },
            "outputs": [],
            "execution_count": null
        },
        {
            "cell_type": "markdown",
            "source": [
                "6. Thay thế hàm `LEN()` trong SQL Server"
            ],
            "metadata": {
                "azdata_cell_guid": "7e4a868e-6a7e-464e-a30d-09661e5a9a95"
            }
        },
        {
            "cell_type": "code",
            "source": [
                "SELECT LENGTH ('string') FROM DUAL;"
            ],
            "metadata": {
                "azdata_cell_guid": "ccddb289-48fe-407d-bddd-4535419c08bb"
            },
            "outputs": [],
            "execution_count": null
        },
        {
            "cell_type": "markdown",
            "source": [
                "7. Thay thế `LEFT`, `RIGHT` và `SUBSTRING` trong SQL Server"
            ],
            "metadata": {
                "azdata_cell_guid": "fc0885f5-2ac8-4877-afb2-c2cccd9d80ca"
            }
        },
        {
            "cell_type": "code",
            "source": [
                "SUBSTR( string, start_position [, length ] )"
            ],
            "metadata": {
                "azdata_cell_guid": "f4a58e96-2623-47a3-b405-b3a2d495a4ef"
            },
            "outputs": [],
            "execution_count": null
        },
        {
            "cell_type": "markdown",
            "source": [
                "8. Thay thế `CEILING` và `FLOOR` trong SQL server"
            ],
            "metadata": {
                "azdata_cell_guid": "89cb382d-e1ec-4ea0-b6e9-966c2919295f"
            }
        },
        {
            "cell_type": "code",
            "source": [
                "-- thay thế CEILING\r\n",
                "SELECT CEIL(5.5555) FROM DIAL;\r\n",
                "-- thay thế fLOOR\r\n",
                "SELECT FLOOR(5.5555) FROM DIAL;"
            ],
            "metadata": {
                "azdata_cell_guid": "476b6326-2406-4ba6-ac2b-547354a6d275"
            },
            "outputs": [],
            "execution_count": null
        },
        {
            "cell_type": "markdown",
            "source": [
                "9. THAY THẾ các hàm `DAY`, `MONTH` và `YEAR` và `DATEPART`"
            ],
            "metadata": {
                "azdata_cell_guid": "99745f59-1d83-4b5a-ae15-011faabcfb8d"
            }
        },
        {
            "cell_type": "code",
            "source": [
                "SELECT EXTRACT(DAY FROM SYSDATE) as DAY;\r\n",
                "SELECT EXTRACT(MONTH FROM SYSDATE) as MONTH;\r\n",
                "SELECT EXTRACT(YEAR FROM SYSDATE) as YEAR;"
            ],
            "metadata": {
                "azdata_cell_guid": "82109b27-c650-4d80-af32-a35500c9f563"
            },
            "outputs": [],
            "execution_count": null
        }
    ]
}